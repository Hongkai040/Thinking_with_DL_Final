{
 "cells": [
  {
   "cell_type": "markdown",
   "id": "874eadbe",
   "metadata": {},
   "source": [
    "# Movie netowork analysis(Basic metrics) "
   ]
  },
  {
   "cell_type": "markdown",
   "id": "6e7420a1",
   "metadata": {},
   "source": [
    "Links to official tutorials:\n",
    "1. https://github.com/CornellNLP/Cornell-Conversational-Analysis-Toolkit/blob/master/examples/Introduction_to_ConvoKit.ipynb\n",
    "2. https://github.com/CornellNLP/Cornell-Conversational-Analysis-Toolkit/blob/master/examples/vectors/vector_demo.ipynb\n",
    "3. https://github.com/CornellNLP/Cornell-Conversational-Analysis-Toolkit/blob/master/examples/text-processing/text_preprocessing_demo.ipynb\n",
    "4.https://github.com/CornellNLP/Cornell-Conversational-Analysis-Toolkit/blob/master/convokit/tests/notebook_testers/test_corpus_partial_load.ipynb\n",
    "5. https://github.com/CornellNLP/Cornell-Conversational-Analysis-Toolkit/blob/master/examples/merging/corpus_merge_demo.ipynb\n",
    "6. Use the movie dialo corpus: https://github.com/CornellNLP/Cornell-Conversational-Analysis-Toolkit/blob/master/examples/sigdial-demo.ipynb"
   ]
  },
  {
   "cell_type": "markdown",
   "id": "9ee90ec6",
   "metadata": {},
   "source": [
    "issue: the first utterance of a conversation."
   ]
  },
  {
   "cell_type": "code",
   "execution_count": 1,
   "id": "553fc741",
   "metadata": {},
   "outputs": [],
   "source": [
    "import spacy\n",
    "from convokit import Corpus, download\n",
    "import numpy as np\n",
    "import networkx as nx\n",
    "from node2vec import Node2Vec\n",
    "from tqdm import tqdm\n",
    "import pandas as pd"
   ]
  },
  {
   "cell_type": "code",
   "execution_count": 2,
   "id": "659dcb34",
   "metadata": {},
   "outputs": [],
   "source": [
    "nlp = spacy.load('en_core_web_sm')"
   ]
  },
  {
   "cell_type": "code",
   "execution_count": 3,
   "id": "5685e4a8",
   "metadata": {},
   "outputs": [],
   "source": [
    "def tokenizer_spacy(text, lemma=False):\n",
    "    doc = nlp(text)\n",
    "    article = []\n",
    "    for w in doc:\n",
    "        # if it's not a stop word or punctuation mark, add it to our article!\n",
    "        if w.text != '\\n' and not w.is_punct and not w.like_num:\n",
    "            if lemma:\n",
    "              # we add the lematized version of the word\n",
    "              article.append(w.lemma_)\n",
    "            else:\n",
    "              article.append(w.text)\n",
    "    return article"
   ]
  },
  {
   "cell_type": "markdown",
   "id": "d17822d6",
   "metadata": {},
   "source": [
    "### Dataset"
   ]
  },
  {
   "cell_type": "code",
   "execution_count": 4,
   "id": "2b8e9a7d",
   "metadata": {},
   "outputs": [
    {
     "name": "stdout",
     "output_type": "stream",
     "text": [
      "Downloading movie-corpus to /Users/mao_shiba/.convokit/downloads/movie-corpus\n",
      "Downloading movie-corpus from http://zissou.infosci.cornell.edu/convokit/datasets/movie-corpus/movie-corpus.zip (40.9MB)... Done\n",
      "Number of Speakers: 9035\n",
      "Number of Utterances: 304713\n",
      "Number of Conversations: 83097\n"
     ]
    }
   ],
   "source": [
    "corpus = Corpus(filename=download(\"movie-corpus\"))\n",
    "corpus.print_summary_stats()"
   ]
  },
  {
   "cell_type": "code",
   "execution_count": 67,
   "id": "cf0d3155",
   "metadata": {
    "scrolled": true
   },
   "outputs": [
    {
     "data": {
      "text/html": [
       "<div>\n",
       "<style scoped>\n",
       "    .dataframe tbody tr th:only-of-type {\n",
       "        vertical-align: middle;\n",
       "    }\n",
       "\n",
       "    .dataframe tbody tr th {\n",
       "        vertical-align: top;\n",
       "    }\n",
       "\n",
       "    .dataframe thead th {\n",
       "        text-align: right;\n",
       "    }\n",
       "</style>\n",
       "<table border=\"1\" class=\"dataframe\">\n",
       "  <thead>\n",
       "    <tr style=\"text-align: right;\">\n",
       "      <th></th>\n",
       "      <th>vectors</th>\n",
       "      <th>meta.character_name</th>\n",
       "      <th>meta.movie_idx</th>\n",
       "      <th>meta.movie_name</th>\n",
       "      <th>meta.gender</th>\n",
       "      <th>meta.credit_pos</th>\n",
       "    </tr>\n",
       "    <tr>\n",
       "      <th>id</th>\n",
       "      <th></th>\n",
       "      <th></th>\n",
       "      <th></th>\n",
       "      <th></th>\n",
       "      <th></th>\n",
       "      <th></th>\n",
       "    </tr>\n",
       "  </thead>\n",
       "  <tbody>\n",
       "    <tr>\n",
       "      <th>u0</th>\n",
       "      <td>[]</td>\n",
       "      <td>BIANCA</td>\n",
       "      <td>m0</td>\n",
       "      <td>10 things i hate about you</td>\n",
       "      <td>f</td>\n",
       "      <td>4</td>\n",
       "    </tr>\n",
       "    <tr>\n",
       "      <th>u2</th>\n",
       "      <td>[]</td>\n",
       "      <td>CAMERON</td>\n",
       "      <td>m0</td>\n",
       "      <td>10 things i hate about you</td>\n",
       "      <td>m</td>\n",
       "      <td>3</td>\n",
       "    </tr>\n",
       "    <tr>\n",
       "      <th>u3</th>\n",
       "      <td>[]</td>\n",
       "      <td>CHASTITY</td>\n",
       "      <td>m0</td>\n",
       "      <td>10 things i hate about you</td>\n",
       "      <td>?</td>\n",
       "      <td>?</td>\n",
       "    </tr>\n",
       "    <tr>\n",
       "      <th>u4</th>\n",
       "      <td>[]</td>\n",
       "      <td>JOEY</td>\n",
       "      <td>m0</td>\n",
       "      <td>10 things i hate about you</td>\n",
       "      <td>m</td>\n",
       "      <td>6</td>\n",
       "    </tr>\n",
       "    <tr>\n",
       "      <th>u5</th>\n",
       "      <td>[]</td>\n",
       "      <td>KAT</td>\n",
       "      <td>m0</td>\n",
       "      <td>10 things i hate about you</td>\n",
       "      <td>f</td>\n",
       "      <td>2</td>\n",
       "    </tr>\n",
       "  </tbody>\n",
       "</table>\n",
       "</div>"
      ],
      "text/plain": [
       "   vectors meta.character_name meta.movie_idx             meta.movie_name  \\\n",
       "id                                                                          \n",
       "u0      []              BIANCA             m0  10 things i hate about you   \n",
       "u2      []             CAMERON             m0  10 things i hate about you   \n",
       "u3      []            CHASTITY             m0  10 things i hate about you   \n",
       "u4      []                JOEY             m0  10 things i hate about you   \n",
       "u5      []                 KAT             m0  10 things i hate about you   \n",
       "\n",
       "   meta.gender meta.credit_pos  \n",
       "id                              \n",
       "u0           f               4  \n",
       "u2           m               3  \n",
       "u3           ?               ?  \n",
       "u4           m               6  \n",
       "u5           f               2  "
      ]
     },
     "execution_count": 67,
     "metadata": {},
     "output_type": "execute_result"
    }
   ],
   "source": [
    "corpus.get_speakers_dataframe().head()"
   ]
  },
  {
   "cell_type": "code",
   "execution_count": 68,
   "id": "3397c570",
   "metadata": {},
   "outputs": [
    {
     "data": {
      "text/html": [
       "<div>\n",
       "<style scoped>\n",
       "    .dataframe tbody tr th:only-of-type {\n",
       "        vertical-align: middle;\n",
       "    }\n",
       "\n",
       "    .dataframe tbody tr th {\n",
       "        vertical-align: top;\n",
       "    }\n",
       "\n",
       "    .dataframe thead th {\n",
       "        text-align: right;\n",
       "    }\n",
       "</style>\n",
       "<table border=\"1\" class=\"dataframe\">\n",
       "  <thead>\n",
       "    <tr style=\"text-align: right;\">\n",
       "      <th></th>\n",
       "      <th>timestamp</th>\n",
       "      <th>text</th>\n",
       "      <th>speaker</th>\n",
       "      <th>reply_to</th>\n",
       "      <th>conversation_id</th>\n",
       "      <th>meta.movie_id</th>\n",
       "      <th>meta.parsed</th>\n",
       "      <th>vectors</th>\n",
       "    </tr>\n",
       "    <tr>\n",
       "      <th>id</th>\n",
       "      <th></th>\n",
       "      <th></th>\n",
       "      <th></th>\n",
       "      <th></th>\n",
       "      <th></th>\n",
       "      <th></th>\n",
       "      <th></th>\n",
       "      <th></th>\n",
       "    </tr>\n",
       "  </thead>\n",
       "  <tbody>\n",
       "    <tr>\n",
       "      <th>L1045</th>\n",
       "      <td>None</td>\n",
       "      <td>They do not!</td>\n",
       "      <td>u0</td>\n",
       "      <td>L1044</td>\n",
       "      <td>L1044</td>\n",
       "      <td>m0</td>\n",
       "      <td>[{'rt': 1, 'toks': [{'tok': 'They', 'tag': 'PR...</td>\n",
       "      <td>[]</td>\n",
       "    </tr>\n",
       "    <tr>\n",
       "      <th>L1044</th>\n",
       "      <td>None</td>\n",
       "      <td>They do to!</td>\n",
       "      <td>u2</td>\n",
       "      <td>None</td>\n",
       "      <td>L1044</td>\n",
       "      <td>m0</td>\n",
       "      <td>[{'rt': 1, 'toks': [{'tok': 'They', 'tag': 'PR...</td>\n",
       "      <td>[]</td>\n",
       "    </tr>\n",
       "    <tr>\n",
       "      <th>L985</th>\n",
       "      <td>None</td>\n",
       "      <td>I hope so.</td>\n",
       "      <td>u0</td>\n",
       "      <td>L984</td>\n",
       "      <td>L984</td>\n",
       "      <td>m0</td>\n",
       "      <td>[{'rt': 1, 'toks': [{'tok': 'I', 'tag': 'PRP',...</td>\n",
       "      <td>[]</td>\n",
       "    </tr>\n",
       "    <tr>\n",
       "      <th>L984</th>\n",
       "      <td>None</td>\n",
       "      <td>She okay?</td>\n",
       "      <td>u2</td>\n",
       "      <td>None</td>\n",
       "      <td>L984</td>\n",
       "      <td>m0</td>\n",
       "      <td>[{'rt': 1, 'toks': [{'tok': 'She', 'tag': 'PRP...</td>\n",
       "      <td>[]</td>\n",
       "    </tr>\n",
       "    <tr>\n",
       "      <th>L925</th>\n",
       "      <td>None</td>\n",
       "      <td>Let's go.</td>\n",
       "      <td>u0</td>\n",
       "      <td>L924</td>\n",
       "      <td>L924</td>\n",
       "      <td>m0</td>\n",
       "      <td>[{'rt': 0, 'toks': [{'tok': 'Let', 'tag': 'VB'...</td>\n",
       "      <td>[]</td>\n",
       "    </tr>\n",
       "  </tbody>\n",
       "</table>\n",
       "</div>"
      ],
      "text/plain": [
       "      timestamp          text speaker reply_to conversation_id meta.movie_id  \\\n",
       "id                                                                             \n",
       "L1045      None  They do not!      u0    L1044           L1044            m0   \n",
       "L1044      None   They do to!      u2     None           L1044            m0   \n",
       "L985       None    I hope so.      u0     L984            L984            m0   \n",
       "L984       None     She okay?      u2     None            L984            m0   \n",
       "L925       None     Let's go.      u0     L924            L924            m0   \n",
       "\n",
       "                                             meta.parsed vectors  \n",
       "id                                                                \n",
       "L1045  [{'rt': 1, 'toks': [{'tok': 'They', 'tag': 'PR...      []  \n",
       "L1044  [{'rt': 1, 'toks': [{'tok': 'They', 'tag': 'PR...      []  \n",
       "L985   [{'rt': 1, 'toks': [{'tok': 'I', 'tag': 'PRP',...      []  \n",
       "L984   [{'rt': 1, 'toks': [{'tok': 'She', 'tag': 'PRP...      []  \n",
       "L925   [{'rt': 0, 'toks': [{'tok': 'Let', 'tag': 'VB'...      []  "
      ]
     },
     "execution_count": 68,
     "metadata": {},
     "output_type": "execute_result"
    }
   ],
   "source": [
    "corpus.get_utterances_dataframe().head()"
   ]
  },
  {
   "cell_type": "code",
   "execution_count": 69,
   "id": "3e4d5556",
   "metadata": {},
   "outputs": [
    {
     "data": {
      "text/html": [
       "<div>\n",
       "<style scoped>\n",
       "    .dataframe tbody tr th:only-of-type {\n",
       "        vertical-align: middle;\n",
       "    }\n",
       "\n",
       "    .dataframe tbody tr th {\n",
       "        vertical-align: top;\n",
       "    }\n",
       "\n",
       "    .dataframe thead th {\n",
       "        text-align: right;\n",
       "    }\n",
       "</style>\n",
       "<table border=\"1\" class=\"dataframe\">\n",
       "  <thead>\n",
       "    <tr style=\"text-align: right;\">\n",
       "      <th></th>\n",
       "      <th>vectors</th>\n",
       "      <th>meta.movie_idx</th>\n",
       "      <th>meta.movie_name</th>\n",
       "      <th>meta.release_year</th>\n",
       "      <th>meta.rating</th>\n",
       "      <th>meta.votes</th>\n",
       "      <th>meta.genre</th>\n",
       "    </tr>\n",
       "    <tr>\n",
       "      <th>id</th>\n",
       "      <th></th>\n",
       "      <th></th>\n",
       "      <th></th>\n",
       "      <th></th>\n",
       "      <th></th>\n",
       "      <th></th>\n",
       "      <th></th>\n",
       "    </tr>\n",
       "  </thead>\n",
       "  <tbody>\n",
       "    <tr>\n",
       "      <th>L1044</th>\n",
       "      <td>[]</td>\n",
       "      <td>m0</td>\n",
       "      <td>10 things i hate about you</td>\n",
       "      <td>1999</td>\n",
       "      <td>6.90</td>\n",
       "      <td>62847</td>\n",
       "      <td>['comedy', 'romance']</td>\n",
       "    </tr>\n",
       "    <tr>\n",
       "      <th>L984</th>\n",
       "      <td>[]</td>\n",
       "      <td>m0</td>\n",
       "      <td>10 things i hate about you</td>\n",
       "      <td>1999</td>\n",
       "      <td>6.90</td>\n",
       "      <td>62847</td>\n",
       "      <td>['comedy', 'romance']</td>\n",
       "    </tr>\n",
       "    <tr>\n",
       "      <th>L924</th>\n",
       "      <td>[]</td>\n",
       "      <td>m0</td>\n",
       "      <td>10 things i hate about you</td>\n",
       "      <td>1999</td>\n",
       "      <td>6.90</td>\n",
       "      <td>62847</td>\n",
       "      <td>['comedy', 'romance']</td>\n",
       "    </tr>\n",
       "    <tr>\n",
       "      <th>L870</th>\n",
       "      <td>[]</td>\n",
       "      <td>m0</td>\n",
       "      <td>10 things i hate about you</td>\n",
       "      <td>1999</td>\n",
       "      <td>6.90</td>\n",
       "      <td>62847</td>\n",
       "      <td>['comedy', 'romance']</td>\n",
       "    </tr>\n",
       "    <tr>\n",
       "      <th>L866</th>\n",
       "      <td>[]</td>\n",
       "      <td>m0</td>\n",
       "      <td>10 things i hate about you</td>\n",
       "      <td>1999</td>\n",
       "      <td>6.90</td>\n",
       "      <td>62847</td>\n",
       "      <td>['comedy', 'romance']</td>\n",
       "    </tr>\n",
       "  </tbody>\n",
       "</table>\n",
       "</div>"
      ],
      "text/plain": [
       "      vectors meta.movie_idx             meta.movie_name meta.release_year  \\\n",
       "id                                                                           \n",
       "L1044      []             m0  10 things i hate about you              1999   \n",
       "L984       []             m0  10 things i hate about you              1999   \n",
       "L924       []             m0  10 things i hate about you              1999   \n",
       "L870       []             m0  10 things i hate about you              1999   \n",
       "L866       []             m0  10 things i hate about you              1999   \n",
       "\n",
       "      meta.rating meta.votes             meta.genre  \n",
       "id                                                   \n",
       "L1044        6.90      62847  ['comedy', 'romance']  \n",
       "L984         6.90      62847  ['comedy', 'romance']  \n",
       "L924         6.90      62847  ['comedy', 'romance']  \n",
       "L870         6.90      62847  ['comedy', 'romance']  \n",
       "L866         6.90      62847  ['comedy', 'romance']  "
      ]
     },
     "execution_count": 69,
     "metadata": {},
     "output_type": "execute_result"
    }
   ],
   "source": [
    "corpus.get_conversations_dataframe().head()"
   ]
  },
  {
   "cell_type": "code",
   "execution_count": 5,
   "id": "fe0672f4",
   "metadata": {},
   "outputs": [],
   "source": [
    "# corpus.get_utterance('L506573')\n",
    "# the lines ids are not sequential. Some are skipped. "
   ]
  },
  {
   "cell_type": "markdown",
   "id": "9cf95366",
   "metadata": {},
   "source": [
    "### Preparations and Constructing networks\n",
    "\n",
    "Using number of lines to construct networks.\n",
    "We may use other ways to construct egdes in the future. "
   ]
  },
  {
   "cell_type": "code",
   "execution_count": 56,
   "id": "de3de1a4",
   "metadata": {},
   "outputs": [
    {
     "name": "stderr",
     "output_type": "stream",
     "text": [
      "304713it [00:02, 117008.78it/s]\n",
      "100%|███████████████████████████████████████| 617/617 [00:00<00:00, 4017.60it/s]\n"
     ]
    }
   ],
   "source": [
    "def get_movie_utt_dic(corpus):\n",
    "    '''\n",
    "    get the dictionary of movies that map movies to corresponding utterances. \n",
    "    In chronological order. \n",
    "    '''\n",
    "    movie_utt_dic = {}\n",
    "    movie_idx_name = {}\n",
    "    for utt in tqdm(corpus.iter_utterances()):\n",
    "        if utt.meta['movie_id'] not in movie_utt_dic:\n",
    "            movie_utt_dic[utt.meta['movie_id']] = []\n",
    "            movie_idx_name[utt.meta['movie_id']] = utt.speaker.meta['movie_name']\n",
    "        movie_utt_dic[utt.meta['movie_id']].append(int(utt.id[1:]))\n",
    "    \n",
    "    for movie, utt_lst in tqdm(movie_utt_dic.items()):\n",
    "        id_lst = sorted(utt_lst)\n",
    "        movie_utt_dic[movie] =  ['L' + str(i) for i in id_lst]\n",
    "    \n",
    "    return movie_utt_dic, movie_idx_name\n",
    "        \n",
    "movie_utt_dic, movie_idx_name = get_movie_utt_dic(corpus)\n",
    "# movie_utt_dic['m180'], movie_idx_name['m180']"
   ]
  },
  {
   "cell_type": "code",
   "execution_count": 57,
   "id": "3709289c",
   "metadata": {
    "scrolled": true
   },
   "outputs": [
    {
     "data": {
      "text/plain": [
       "(['Posse? What the hell you talking about?',\n",
       "  \"You brought a posse to my best hideout and you want to know if I mind. Mister, I don't know any of those names and you're about to die.\",\n",
       "  'No money, eh?',\n",
       "  'What do you mean, the horses?'],\n",
       " {'character_name': 'DAWSON', 'gender': '?', 'credit_pos': '?'})"
      ]
     },
     "execution_count": 57,
     "metadata": {},
     "output_type": "execute_result"
    }
   ],
   "source": [
    "def get_characters_from_one_movie(corpus, movie_utt_dic, movie_idx, lemma=False):\n",
    "    '''\n",
    "    get lines for characters.Using lemmatized lines when using models like word2vec. \n",
    "    '''\n",
    "    characters = {}\n",
    "    characters_attrs = {}\n",
    "    \n",
    "    for utt_id in movie_utt_dic[movie_idx]:\n",
    "        utt = corpus.get_utterance(utt_id)\n",
    "        speaker = utt.speaker\n",
    "        if speaker.meta['movie_idx'] == movie_idx:\n",
    "            if speaker.id not in characters:\n",
    "                characters[speaker.id] = []\n",
    "                characters_attrs[speaker.id] = {'character_name': speaker.meta['character_name'],\n",
    "                                                'gender': speaker.meta['gender'],\n",
    "                                                'credit_pos':speaker.meta['credit_pos']}\n",
    "        text = utt.text\n",
    "        if lemma: \n",
    "            text = tokenizer_spacy(text)\n",
    "        characters[speaker.id].append(text)\n",
    "    return characters, characters_attrs\n",
    "\n",
    "characters, characters_attrs = get_characters_from_one_movie(corpus, movie_utt_dic,'m180')\n",
    "characters['u2750'], characters_attrs['u2750']"
   ]
  },
  {
   "cell_type": "code",
   "execution_count": 58,
   "id": "6b2880b7",
   "metadata": {},
   "outputs": [
    {
     "data": {
      "text/plain": [
       "NodeView(('EMMETT', 'PADEN', 'SHERIFF COBB', 'HOBART', 'LANGSTON', 'PROPRIETOR', 'MAL', 'JAKE', 'DAWSON', 'HANNAH', 'EZRA', 'KATE', 'J.T.', 'STELLA', 'KELLY', 'RAE', 'MCKENDRICK'))"
      ]
     },
     "execution_count": 58,
     "metadata": {},
     "output_type": "execute_result"
    }
   ],
   "source": [
    "def create_nodes(characters, characters_attrs, num_lines=0):\n",
    "    '''\n",
    "    creating nodes for networks using number of lines as the criteria.\n",
    "    '''\n",
    "    actor_network = nx.DiGraph()\n",
    "    for character in characters:\n",
    "        if len(characters[character]) > num_lines:\n",
    "            actor_network.add_node(characters_attrs[character]['character_name'], \n",
    "                                   gender= characters_attrs[character]['gender'],\n",
    "                                   credit_pos = characters_attrs[character]['credit_pos'],\n",
    "                                   lines_spoken= len(characters[character]), \n",
    "                                   u_id = character,\n",
    "                                   words=characters[character])\n",
    "    return actor_network\n",
    "\n",
    "def create_nodes_num(characters, characters_attrs, num_lines=0):\n",
    "    '''\n",
    "    creating nodes for networks using number of lines as the criteria.\n",
    "    '''\n",
    "    actor_network = nx.DiGraph()\n",
    "    i = 0\n",
    "    for character in characters:\n",
    "        if len(characters[character]) > num_lines:\n",
    "            actor_network.add_node(i, \n",
    "                                   gender= characters_attrs[character]['gender'],\n",
    "                                   credit_pos = characters_attrs[character]['credit_pos'],\n",
    "                                   lines_spoken= len(characters[character]), \n",
    "                                   words=characters[character])\n",
    "            i += 1\n",
    "    return actor_network\n",
    "\n",
    "actor_network = create_nodes(characters, characters_attrs, num_lines=0)\n",
    "actor_network.nodes()"
   ]
  },
  {
   "cell_type": "code",
   "execution_count": 59,
   "id": "4398c15d",
   "metadata": {},
   "outputs": [
    {
     "data": {
      "text/plain": [
       "OutEdgeDataView([('EMMETT', 'PADEN', {'weight': 23}), ('EMMETT', 'HOBART', {'weight': 3}), ('EMMETT', 'LANGSTON', {'weight': 4}), ('EMMETT', 'JAKE', {'weight': 6}), ('EMMETT', 'DAWSON', {'weight': 3}), ('EMMETT', 'MAL', {'weight': 7}), ('EMMETT', 'HANNAH', {'weight': 10}), ('EMMETT', 'MCKENDRICK', {'weight': 4}), ('PADEN', 'EMMETT', {'weight': 19}), ('PADEN', 'SHERIFF COBB', {'weight': 20}), ('PADEN', 'LANGSTON', {'weight': 4}), ('PADEN', 'JAKE', {'weight': 10}), ('PADEN', 'HANNAH', {'weight': 5}), ('PADEN', 'MAL', {'weight': 4}), ('PADEN', 'STELLA', {'weight': 17}), ('SHERIFF COBB', 'PADEN', {'weight': 16}), ('SHERIFF COBB', 'STELLA', {'weight': 3}), ('SHERIFF COBB', 'KELLY', {'weight': 4}), ('SHERIFF COBB', 'MCKENDRICK', {'weight': 2}), ('HOBART', 'EMMETT', {'weight': 4}), ('LANGSTON', 'PROPRIETOR', {'weight': 3}), ('LANGSTON', 'MAL', {'weight': 3}), ('LANGSTON', 'PADEN', {'weight': 3}), ('LANGSTON', 'EMMETT', {'weight': 3}), ('PROPRIETOR', 'LANGSTON', {'weight': 2}), ('MAL', 'LANGSTON', {'weight': 3}), ('MAL', 'EMMETT', {'weight': 10}), ('MAL', 'EZRA', {'weight': 5}), ('MAL', 'RAE', {'weight': 7}), ('MAL', 'PADEN', {'weight': 2}), ('JAKE', 'EMMETT', {'weight': 7}), ('JAKE', 'PADEN', {'weight': 9}), ('DAWSON', 'EMMETT', {'weight': 3}), ('HANNAH', 'PADEN', {'weight': 5}), ('HANNAH', 'EMMETT', {'weight': 9}), ('EZRA', 'MAL', {'weight': 6}), ('KATE', 'J.T.', {'weight': 2}), ('J.T.', 'KATE', {'weight': 3}), ('STELLA', 'PADEN', {'weight': 18}), ('STELLA', 'SHERIFF COBB', {'weight': 2}), ('KELLY', 'SHERIFF COBB', {'weight': 2}), ('RAE', 'MAL', {'weight': 10}), ('MCKENDRICK', 'EMMETT', {'weight': 1}), ('MCKENDRICK', 'SHERIFF COBB', {'weight': 3})])"
      ]
     },
     "execution_count": 59,
     "metadata": {},
     "output_type": "execute_result"
    }
   ],
   "source": [
    "def create_edges(corpus, utt_id_lst, characters, actor_network):\n",
    "    '''\n",
    "    Using 'reply to' and the number of lines as weights to create egdes.\n",
    "    Directed. \n",
    "    '''\n",
    "    for utt_id in utt_id_lst:\n",
    "        utt = corpus.get_utterance(utt_id)\n",
    "        speaker1 = utt.speaker.meta['character_name']\n",
    "        speaker1_id = utt.speaker.id\n",
    "        if speaker1_id in characters and speaker1 in actor_network.nodes():\n",
    "            if utt.reply_to is not None:\n",
    "                speaker2 = corpus.get_utterance(utt.reply_to).speaker.meta['character_name']\n",
    "                speaker2_id = corpus.get_utterance(utt.reply_to).speaker.id\n",
    "                if speaker2_id in characters and speaker2 in actor_network.nodes() and speaker2 != speaker1:\n",
    "                    if (speaker1, speaker2) not in actor_network.edges():          \n",
    "                        actor_network.add_edge(speaker1, speaker2, weight=0)\n",
    "                    if (speaker1, speaker2) in actor_network.edges():\n",
    "                        actor_network.edges[(speaker1, speaker2)]['weight'] += 1\n",
    "    return actor_network\n",
    "                        \n",
    "actor_network = create_edges(corpus, movie_utt_dic['m180'], characters, actor_network)\n",
    "actor_network.edges.data()"
   ]
  },
  {
   "cell_type": "code",
   "execution_count": 60,
   "id": "2aef95b9",
   "metadata": {},
   "outputs": [
    {
     "data": {
      "image/png": "[encoded data removed]",
      "text/plain": [
       "<Figure size 432x288 with 1 Axes>"
      ]
     },
     "metadata": {},
     "output_type": "display_data"
    }
   ],
   "source": [
    "pos = nx.spring_layout(actor_network,k=0.55,iterations=20)\n",
    "edges,weights = zip(*nx.get_edge_attributes(actor_network,'weight').items())\n",
    "weights = np.array(weights)\n",
    "#weights = weights*weights\n",
    "weights = 6*weights/np.max(weights)\n",
    "edge_colors=20*(weights/np.max(weights))\n",
    "edge_colors = edge_colors.astype(int)\n",
    "\n",
    "nx.draw(actor_network, with_labels=True, width=weights, \n",
    "        font_weight='bold', edge_color=255-edge_colors, \n",
    "        node_color='#99cef7',node_size=600, alpha=0.75, arrowsize=20)"
   ]
  },
  {
   "cell_type": "markdown",
   "id": "017353ae",
   "metadata": {},
   "source": [
    "#### Some available metrics"
   ]
  },
  {
   "cell_type": "code",
   "execution_count": null,
   "id": "1840fae5",
   "metadata": {
    "scrolled": true
   },
   "outputs": [],
   "source": [
    "nx.degree_centrality(actor_network)\n",
    "#  directed graph does not have centrality"
   ]
  },
  {
   "cell_type": "code",
   "execution_count": null,
   "id": "615f9226",
   "metadata": {
    "scrolled": true
   },
   "outputs": [],
   "source": [
    "nx.betweenness_centrality(actor_network)"
   ]
  },
  {
   "cell_type": "code",
   "execution_count": null,
   "id": "0bb4a6f5",
   "metadata": {},
   "outputs": [],
   "source": [
    "dir(actor_network)"
   ]
  },
  {
   "cell_type": "code",
   "execution_count": null,
   "id": "c2da8c94",
   "metadata": {
    "scrolled": true
   },
   "outputs": [],
   "source": [
    "[i for i in actor_network.neighbors('PADEN')] "
   ]
  },
  {
   "cell_type": "code",
   "execution_count": null,
   "id": "39aef1f1",
   "metadata": {},
   "outputs": [],
   "source": [
    "actor_network.out_degree()"
   ]
  },
  {
   "cell_type": "code",
   "execution_count": null,
   "id": "55324df5",
   "metadata": {
    "scrolled": true
   },
   "outputs": [],
   "source": [
    "actor_network.out_degree(weight = 'weight')"
   ]
  },
  {
   "cell_type": "code",
   "execution_count": null,
   "id": "433d2d1d",
   "metadata": {},
   "outputs": [],
   "source": [
    "actor_network.out_degree(weight = 'weight')['VEREKER']"
   ]
  },
  {
   "cell_type": "code",
   "execution_count": null,
   "id": "c5735d58",
   "metadata": {},
   "outputs": [],
   "source": [
    "actor_network.in_degree(weight = 'weight')"
   ]
  },
  {
   "cell_type": "code",
   "execution_count": null,
   "id": "d76a9c80",
   "metadata": {},
   "outputs": [],
   "source": [
    "nx.density(actor_network)"
   ]
  },
  {
   "cell_type": "code",
   "execution_count": null,
   "id": "07043a0f",
   "metadata": {},
   "outputs": [],
   "source": [
    "pd.DataFrame(actor_network.in_degree(weight = 'weight'), columns=['name', 'In degree'])"
   ]
  },
  {
   "cell_type": "markdown",
   "id": "414c4640",
   "metadata": {},
   "source": [
    "### Get networks for all movies"
   ]
  },
  {
   "cell_type": "code",
   "execution_count": 96,
   "id": "e7bbaa6a",
   "metadata": {},
   "outputs": [
    {
     "name": "stderr",
     "output_type": "stream",
     "text": [
      "304713it [00:02, 104589.24it/s]\n",
      "100%|███████████████████████████████████████| 617/617 [00:00<00:00, 4387.52it/s]\n"
     ]
    }
   ],
   "source": [
    "all_networks = {}\n",
    "\n",
    "movie_utt_dic, movie_idx_name = get_movie_utt_dic(corpus)\n",
    "\n",
    "for movie_idx in movie_utt_dic.keys():\n",
    "    characters, characters_attrs = get_characters_from_one_movie(corpus, movie_utt_dic, movie_idx)\n",
    "    actor_network = create_nodes(characters, characters_attrs, num_lines=0)\n",
    "    actor_network = create_edges(corpus, movie_utt_dic[movie_idx], characters, actor_network)\n",
    "    all_networks[movie_idx] = actor_network"
   ]
  },
  {
   "cell_type": "markdown",
   "id": "2fa0f66f",
   "metadata": {},
   "source": [
    "### Average lines spoken of female/male characters"
   ]
  },
  {
   "cell_type": "code",
   "execution_count": 62,
   "id": "78234404",
   "metadata": {},
   "outputs": [
    {
     "name": "stderr",
     "output_type": "stream",
     "text": [
      "100%|██████████████████████████████████████| 617/617 [00:00<00:00, 35903.46it/s]\n"
     ]
    }
   ],
   "source": [
    "female_character_lines = []\n",
    "male_character_lines = []\n",
    "for network in tqdm(all_networks.values()):\n",
    "    for character in network.nodes():\n",
    "        if network.nodes[character]['gender'].lower() == 'f':\n",
    "            female_character_lines.append(network.nodes[character]['lines_spoken'])\n",
    "        if network.nodes[character]['gender'].lower() == 'm':\n",
    "            male_character_lines.append(network.nodes[character]['lines_spoken'])"
   ]
  },
  {
   "cell_type": "code",
   "execution_count": 63,
   "id": "7ff6c1fe",
   "metadata": {},
   "outputs": [
    {
     "data": {
      "text/plain": [
       "(966, 2049)"
      ]
     },
     "execution_count": 63,
     "metadata": {},
     "output_type": "execute_result"
    }
   ],
   "source": [
    "len(female_character_lines), len(male_character_lines)"
   ]
  },
  {
   "cell_type": "code",
   "execution_count": 64,
   "id": "230eb462",
   "metadata": {},
   "outputs": [
    {
     "data": {
      "text/plain": [
       "73.76293995859213"
      ]
     },
     "execution_count": 64,
     "metadata": {},
     "output_type": "execute_result"
    }
   ],
   "source": [
    "sum(female_character_lines)/len(female_character_lines)"
   ]
  },
  {
   "cell_type": "code",
   "execution_count": 65,
   "id": "c8feabab",
   "metadata": {
    "scrolled": true
   },
   "outputs": [
    {
     "data": {
      "text/plain": [
       "83.34211810639336"
      ]
     },
     "execution_count": 65,
     "metadata": {},
     "output_type": "execute_result"
    }
   ],
   "source": [
    "sum(male_character_lines)/len(male_character_lines)"
   ]
  },
  {
   "cell_type": "markdown",
   "id": "4bd4bc08",
   "metadata": {},
   "source": [
    "### Average lines spoken of main female/male characters"
   ]
  },
  {
   "cell_type": "code",
   "execution_count": null,
   "id": "92098923",
   "metadata": {},
   "outputs": [],
   "source": [
    "speaker_df = corpus.get_speakers_dataframe()"
   ]
  },
  {
   "cell_type": "code",
   "execution_count": 67,
   "id": "f1f92664",
   "metadata": {},
   "outputs": [
    {
     "data": {
      "text/html": [
       "<div>\n",
       "<style scoped>\n",
       "    .dataframe tbody tr th:only-of-type {\n",
       "        vertical-align: middle;\n",
       "    }\n",
       "\n",
       "    .dataframe tbody tr th {\n",
       "        vertical-align: top;\n",
       "    }\n",
       "\n",
       "    .dataframe thead th {\n",
       "        text-align: right;\n",
       "    }\n",
       "</style>\n",
       "<table border=\"1\" class=\"dataframe\">\n",
       "  <thead>\n",
       "    <tr style=\"text-align: right;\">\n",
       "      <th></th>\n",
       "      <th>vectors</th>\n",
       "      <th>meta.character_name</th>\n",
       "      <th>meta.movie_idx</th>\n",
       "      <th>meta.movie_name</th>\n",
       "      <th>meta.gender</th>\n",
       "      <th>meta.credit_pos</th>\n",
       "    </tr>\n",
       "    <tr>\n",
       "      <th>id</th>\n",
       "      <th></th>\n",
       "      <th></th>\n",
       "      <th></th>\n",
       "      <th></th>\n",
       "      <th></th>\n",
       "      <th></th>\n",
       "    </tr>\n",
       "  </thead>\n",
       "  <tbody>\n",
       "    <tr>\n",
       "      <th>u9</th>\n",
       "      <td>[]</td>\n",
       "      <td>PATRICK</td>\n",
       "      <td>m0</td>\n",
       "      <td>10 things i hate about you</td>\n",
       "      <td>m</td>\n",
       "      <td>1</td>\n",
       "    </tr>\n",
       "    <tr>\n",
       "      <th>u16</th>\n",
       "      <td>[]</td>\n",
       "      <td>COLUMBUS</td>\n",
       "      <td>m1</td>\n",
       "      <td>1492: conquest of paradise</td>\n",
       "      <td>m</td>\n",
       "      <td>1</td>\n",
       "    </tr>\n",
       "    <tr>\n",
       "      <th>u29</th>\n",
       "      <td>[]</td>\n",
       "      <td>EDDIE</td>\n",
       "      <td>m2</td>\n",
       "      <td>15 minutes</td>\n",
       "      <td>m</td>\n",
       "      <td>1</td>\n",
       "    </tr>\n",
       "    <tr>\n",
       "      <th>u50</th>\n",
       "      <td>[]</td>\n",
       "      <td>BOWMAN</td>\n",
       "      <td>m3</td>\n",
       "      <td>2001: a space odyssey</td>\n",
       "      <td>m</td>\n",
       "      <td>1</td>\n",
       "    </tr>\n",
       "    <tr>\n",
       "      <th>u67</th>\n",
       "      <td>[]</td>\n",
       "      <td>CATES</td>\n",
       "      <td>m4</td>\n",
       "      <td>48 hrs.</td>\n",
       "      <td>m</td>\n",
       "      <td>1</td>\n",
       "    </tr>\n",
       "    <tr>\n",
       "      <th>...</th>\n",
       "      <td>...</td>\n",
       "      <td>...</td>\n",
       "      <td>...</td>\n",
       "      <td>...</td>\n",
       "      <td>...</td>\n",
       "      <td>...</td>\n",
       "    </tr>\n",
       "    <tr>\n",
       "      <th>u8950</th>\n",
       "      <td>[]</td>\n",
       "      <td>DOROTHY</td>\n",
       "      <td>m610</td>\n",
       "      <td>the wizard of oz</td>\n",
       "      <td>f</td>\n",
       "      <td>1</td>\n",
       "    </tr>\n",
       "    <tr>\n",
       "      <th>u8965</th>\n",
       "      <td>[]</td>\n",
       "      <td>BOND</td>\n",
       "      <td>m611</td>\n",
       "      <td>the world is not enough</td>\n",
       "      <td>m</td>\n",
       "      <td>1</td>\n",
       "    </tr>\n",
       "    <tr>\n",
       "      <th>u8970</th>\n",
       "      <td>[]</td>\n",
       "      <td>M</td>\n",
       "      <td>m611</td>\n",
       "      <td>the world is not enough</td>\n",
       "      <td>m</td>\n",
       "      <td>1</td>\n",
       "    </tr>\n",
       "    <tr>\n",
       "      <th>u8985</th>\n",
       "      <td>[]</td>\n",
       "      <td>LAURIE</td>\n",
       "      <td>m612</td>\n",
       "      <td>watchmen</td>\n",
       "      <td>f</td>\n",
       "      <td>1</td>\n",
       "    </tr>\n",
       "    <tr>\n",
       "      <th>u9000</th>\n",
       "      <td>[]</td>\n",
       "      <td>XANDER</td>\n",
       "      <td>m613</td>\n",
       "      <td>xxx</td>\n",
       "      <td>m</td>\n",
       "      <td>1</td>\n",
       "    </tr>\n",
       "  </tbody>\n",
       "</table>\n",
       "<p>497 rows × 6 columns</p>\n",
       "</div>"
      ],
      "text/plain": [
       "      vectors meta.character_name meta.movie_idx             meta.movie_name  \\\n",
       "id                                                                             \n",
       "u9         []             PATRICK             m0  10 things i hate about you   \n",
       "u16        []            COLUMBUS             m1  1492: conquest of paradise   \n",
       "u29        []               EDDIE             m2                  15 minutes   \n",
       "u50        []              BOWMAN             m3       2001: a space odyssey   \n",
       "u67        []               CATES             m4                     48 hrs.   \n",
       "...       ...                 ...            ...                         ...   \n",
       "u8950      []             DOROTHY           m610            the wizard of oz   \n",
       "u8965      []                BOND           m611     the world is not enough   \n",
       "u8970      []                   M           m611     the world is not enough   \n",
       "u8985      []              LAURIE           m612                    watchmen   \n",
       "u9000      []              XANDER           m613                         xxx   \n",
       "\n",
       "      meta.gender meta.credit_pos  \n",
       "id                                 \n",
       "u9              m               1  \n",
       "u16             m               1  \n",
       "u29             m               1  \n",
       "u50             m               1  \n",
       "u67             m               1  \n",
       "...           ...             ...  \n",
       "u8950           f               1  \n",
       "u8965           m               1  \n",
       "u8970           m               1  \n",
       "u8985           f               1  \n",
       "u9000           m               1  \n",
       "\n",
       "[497 rows x 6 columns]"
      ]
     },
     "execution_count": 67,
     "metadata": {},
     "output_type": "execute_result"
    }
   ],
   "source": [
    "position_mask = (speaker_df['meta.credit_pos'] == str(1)) \n",
    "speaker_df[position_mask]"
   ]
  },
  {
   "cell_type": "code",
   "execution_count": 70,
   "id": "4419b41f",
   "metadata": {},
   "outputs": [],
   "source": [
    "main_female_character_lines = []\n",
    "main_male_character_lines = []\n",
    "\n",
    "for idx, row in speaker_df[position_mask].iterrows():\n",
    "    network = all_networks[row['meta.movie_idx']]\n",
    "    for character in network.nodes():\n",
    "        if network.nodes[character]['gender'].lower() == 'f' and\\\n",
    "        network.nodes[character]['u_id'] == idx:\n",
    "            main_female_character_lines.append(network.nodes[character]['lines_spoken'])\n",
    "        if network.nodes[character]['gender'].lower() == 'm' and\\\n",
    "        network.nodes[character]['u_id'] == idx:\n",
    "            main_male_character_lines.append(network.nodes[character]['lines_spoken'])  "
   ]
  },
  {
   "cell_type": "code",
   "execution_count": 71,
   "id": "258e1bf2",
   "metadata": {},
   "outputs": [
    {
     "data": {
      "text/plain": [
       "(89, 408)"
      ]
     },
     "execution_count": 71,
     "metadata": {},
     "output_type": "execute_result"
    }
   ],
   "source": [
    "len(main_female_character_lines), len(main_male_character_lines)"
   ]
  },
  {
   "cell_type": "code",
   "execution_count": 72,
   "id": "71a835ba",
   "metadata": {},
   "outputs": [
    {
     "data": {
      "text/plain": [
       "150.19101123595505"
      ]
     },
     "execution_count": 72,
     "metadata": {},
     "output_type": "execute_result"
    }
   ],
   "source": [
    "sum(main_female_character_lines)/len(main_female_character_lines)"
   ]
  },
  {
   "cell_type": "code",
   "execution_count": 73,
   "id": "2b480e74",
   "metadata": {},
   "outputs": [
    {
     "data": {
      "text/plain": [
       "162.39460784313727"
      ]
     },
     "execution_count": 73,
     "metadata": {},
     "output_type": "execute_result"
    }
   ],
   "source": [
    "sum(main_male_character_lines)/len(main_male_character_lines)"
   ]
  },
  {
   "cell_type": "markdown",
   "id": "3fddd2a0",
   "metadata": {},
   "source": [
    "### Average in/out degree of female/male characters"
   ]
  },
  {
   "cell_type": "code",
   "execution_count": 79,
   "id": "e8cd9553",
   "metadata": {},
   "outputs": [
    {
     "name": "stderr",
     "output_type": "stream",
     "text": [
      "100%|███████████████████████████████████████| 617/617 [00:00<00:00, 8787.39it/s]\n"
     ]
    }
   ],
   "source": [
    "female_character_in = []\n",
    "male_character_in = []\n",
    "female_character_out = []\n",
    "male_character_out = []\n",
    "\n",
    "for network in tqdm(all_networks.values()):\n",
    "    for character in network.nodes():\n",
    "        if network.nodes[character]['gender'].lower() == 'f':\n",
    "            female_character_in.append(network.in_degree(weight = 'weight')[character])\n",
    "            female_character_out.append(network.out_degree(weight = 'weight')[character])\n",
    "        if network.nodes[character]['gender'].lower() == 'm':\n",
    "            male_character_in.append(network.in_degree(weight = 'weight')[character])\n",
    "            male_character_out.append(network.out_degree(weight = 'weight')[character])"
   ]
  },
  {
   "cell_type": "code",
   "execution_count": 81,
   "id": "7c7587aa",
   "metadata": {
    "scrolled": false
   },
   "outputs": [
    {
     "data": {
      "text/plain": [
       "54.939958592132506"
      ]
     },
     "execution_count": 81,
     "metadata": {},
     "output_type": "execute_result"
    }
   ],
   "source": [
    "sum(female_character_in)/len(female_character_in)"
   ]
  },
  {
   "cell_type": "code",
   "execution_count": 82,
   "id": "a648dbf9",
   "metadata": {
    "scrolled": true
   },
   "outputs": [
    {
     "data": {
      "text/plain": [
       "54.12215320910973"
      ]
     },
     "execution_count": 82,
     "metadata": {},
     "output_type": "execute_result"
    }
   ],
   "source": [
    "sum(female_character_out)/len(female_character_out)"
   ]
  },
  {
   "cell_type": "code",
   "execution_count": 83,
   "id": "f6e1faba",
   "metadata": {
    "scrolled": true
   },
   "outputs": [
    {
     "data": {
      "text/plain": [
       "60.2464616886286"
      ]
     },
     "execution_count": 83,
     "metadata": {},
     "output_type": "execute_result"
    }
   ],
   "source": [
    "sum(male_character_in)/len(male_character_in)"
   ]
  },
  {
   "cell_type": "code",
   "execution_count": 84,
   "id": "8df6afa5",
   "metadata": {},
   "outputs": [
    {
     "data": {
      "text/plain": [
       "61.18984870668619"
      ]
     },
     "execution_count": 84,
     "metadata": {},
     "output_type": "execute_result"
    }
   ],
   "source": [
    "sum(male_character_out)/len(male_character_out)"
   ]
  },
  {
   "cell_type": "markdown",
   "id": "70dbfd62",
   "metadata": {},
   "source": [
    "### Average in/out degree of main female/male characters"
   ]
  },
  {
   "cell_type": "code",
   "execution_count": 85,
   "id": "372b113a",
   "metadata": {},
   "outputs": [],
   "source": [
    "main_female_character_in = []\n",
    "main_male_character_in = []\n",
    "main_female_character_out = []\n",
    "main_male_character_out = []\n",
    "\n",
    "for idx, row in speaker_df[position_mask].iterrows():\n",
    "    network = all_networks[row['meta.movie_idx']]\n",
    "    for character in network.nodes():\n",
    "        if network.nodes[character]['gender'].lower() == 'f' and\\\n",
    "        network.nodes[character]['u_id'] == idx:\n",
    "            main_female_character_in.append(network.in_degree(weight = 'weight')[character])\n",
    "            main_female_character_out.append(network.out_degree(weight = 'weight')[character])\n",
    "        if network.nodes[character]['gender'].lower() == 'm' and\\\n",
    "        network.nodes[character]['u_id'] == idx:\n",
    "            main_male_character_in.append(network.in_degree(weight = 'weight')[character])\n",
    "            main_male_character_out.append(network.out_degree(weight = 'weight')[character])"
   ]
  },
  {
   "cell_type": "code",
   "execution_count": 86,
   "id": "a5b05482",
   "metadata": {},
   "outputs": [
    {
     "data": {
      "text/plain": [
       "110.8314606741573"
      ]
     },
     "execution_count": 86,
     "metadata": {},
     "output_type": "execute_result"
    }
   ],
   "source": [
    "sum(main_female_character_in)/len(main_female_character_in)"
   ]
  },
  {
   "cell_type": "code",
   "execution_count": 87,
   "id": "81c02949",
   "metadata": {},
   "outputs": [
    {
     "data": {
      "text/plain": [
       "113.06741573033707"
      ]
     },
     "execution_count": 87,
     "metadata": {},
     "output_type": "execute_result"
    }
   ],
   "source": [
    "sum(main_female_character_out)/len(main_female_character_out)"
   ]
  },
  {
   "cell_type": "code",
   "execution_count": 88,
   "id": "83c0a820",
   "metadata": {},
   "outputs": [
    {
     "data": {
      "text/plain": [
       "117.33823529411765"
      ]
     },
     "execution_count": 88,
     "metadata": {},
     "output_type": "execute_result"
    }
   ],
   "source": [
    "sum(main_male_character_in)/len(main_male_character_in)"
   ]
  },
  {
   "cell_type": "code",
   "execution_count": 89,
   "id": "fc4d4bd9",
   "metadata": {},
   "outputs": [
    {
     "data": {
      "text/plain": [
       "121.37009803921569"
      ]
     },
     "execution_count": 89,
     "metadata": {},
     "output_type": "execute_result"
    }
   ],
   "source": [
    "sum(main_male_character_out)/len(main_male_character_out)"
   ]
  },
  {
   "cell_type": "markdown",
   "id": "9110bc56",
   "metadata": {},
   "source": [
    "### Betweeness centrality of female/male characters"
   ]
  },
  {
   "cell_type": "code",
   "execution_count": 90,
   "id": "c414dd86",
   "metadata": {},
   "outputs": [
    {
     "name": "stderr",
     "output_type": "stream",
     "text": [
      "100%|████████████████████████████████████████| 617/617 [00:01<00:00, 331.54it/s]\n"
     ]
    }
   ],
   "source": [
    "female_character_bc = []\n",
    "male_character_bc = []\n",
    "\n",
    "for network in tqdm(all_networks.values()):\n",
    "    for character in network.nodes():\n",
    "        if network.nodes[character]['gender'].lower() == 'f':\n",
    "            female_character_bc.append(nx.betweenness_centrality(network)[character])\n",
    "        if network.nodes[character]['gender'].lower() == 'm':\n",
    "            male_character_bc.append(nx.betweenness_centrality(network)[character])"
   ]
  },
  {
   "cell_type": "code",
   "execution_count": 91,
   "id": "b3336376",
   "metadata": {},
   "outputs": [
    {
     "data": {
      "text/plain": [
       "0.13961195087182046"
      ]
     },
     "execution_count": 91,
     "metadata": {},
     "output_type": "execute_result"
    }
   ],
   "source": [
    "sum(female_character_bc)/len(female_character_bc)"
   ]
  },
  {
   "cell_type": "code",
   "execution_count": 92,
   "id": "9b50992b",
   "metadata": {},
   "outputs": [
    {
     "data": {
      "text/plain": [
       "0.21194134790379401"
      ]
     },
     "execution_count": 92,
     "metadata": {},
     "output_type": "execute_result"
    }
   ],
   "source": [
    "sum(male_character_bc)/len(male_character_bc)"
   ]
  },
  {
   "cell_type": "markdown",
   "id": "b1c85ff4",
   "metadata": {},
   "source": [
    "### Betweeness centrality of main female/male characters"
   ]
  },
  {
   "cell_type": "code",
   "execution_count": 93,
   "id": "644810b7",
   "metadata": {},
   "outputs": [],
   "source": [
    "main_female_character_bc = []\n",
    "main_male_character_bc = []\n",
    "\n",
    "for idx, row in speaker_df[position_mask].iterrows():\n",
    "    network = all_networks[row['meta.movie_idx']]\n",
    "    for character in network.nodes():\n",
    "        if network.nodes[character]['gender'].lower() == 'f' and\\\n",
    "        network.nodes[character]['u_id'] == idx:\n",
    "            main_female_character_bc.append(nx.betweenness_centrality(network)[character])\n",
    "        if network.nodes[character]['gender'].lower() == 'm' and\\\n",
    "        network.nodes[character]['u_id'] == idx:\n",
    "            main_male_character_bc.append(nx.betweenness_centrality(network)[character])"
   ]
  },
  {
   "cell_type": "code",
   "execution_count": 94,
   "id": "8e0f3474",
   "metadata": {},
   "outputs": [
    {
     "data": {
      "text/plain": [
       "0.4292583839236682"
      ]
     },
     "execution_count": 94,
     "metadata": {},
     "output_type": "execute_result"
    }
   ],
   "source": [
    "sum(main_female_character_bc)/len(main_female_character_bc)"
   ]
  },
  {
   "cell_type": "code",
   "execution_count": 95,
   "id": "156483cf",
   "metadata": {},
   "outputs": [
    {
     "data": {
      "text/plain": [
       "0.5360182954714627"
      ]
     },
     "execution_count": 95,
     "metadata": {},
     "output_type": "execute_result"
    }
   ],
   "source": [
    "sum(main_male_character_bc)/len(main_male_character_bc)"
   ]
  }
 ],
 "metadata": {
  "kernelspec": {
   "display_name": "Python 3 (ipykernel)",
   "language": "python",
   "name": "python3"
  },
  "language_info": {
   "codemirror_mode": {
    "name": "ipython",
    "version": 3
   },
   "file_extension": ".py",
   "mimetype": "text/x-python",
   "name": "python",
   "nbconvert_exporter": "python",
   "pygments_lexer": "ipython3",
   "version": "3.8.5"
  }
 },
 "nbformat": 4,
 "nbformat_minor": 5
}
