{
 "cells": [
  {
   "cell_type": "code",
   "execution_count": 1,
   "metadata": {},
   "outputs": [],
   "source": [
    "import pandas as pd"
   ]
  },
  {
   "cell_type": "code",
   "execution_count": 2,
   "metadata": {},
   "outputs": [],
   "source": [
    "import glob"
   ]
  },
  {
   "cell_type": "code",
   "execution_count": 5,
   "metadata": {},
   "outputs": [],
   "source": [
    "train_pos_paths = glob.glob('aclImdb/train/pos/*')\n",
    "train_neg_paths = glob.glob('aclImdb/train/neg/*')\n",
    "test_pos_paths = glob.glob('aclImdb/test/pos/*')\n",
    "test_neg_paths = glob.glob('aclImdb/test/neg/*')"
   ]
  },
  {
   "cell_type": "code",
   "execution_count": 6,
   "metadata": {},
   "outputs": [
    {
     "name": "stdout",
     "output_type": "stream",
     "text": [
      "12500 12500 12500 12500\n"
     ]
    }
   ],
   "source": [
    "print(len(train_pos_paths), len(train_neg_paths), len(test_pos_paths), len(test_neg_paths))"
   ]
  },
  {
   "cell_type": "code",
   "execution_count": 10,
   "metadata": {},
   "outputs": [
    {
     "name": "stdout",
     "output_type": "stream",
     "text": [
      "['For a movie that gets no respect there sure are a lot of memorable quotes listed for this gem. Imagine a movie where Joe Piscopo is actually funny! Maureen Stapleton is a scene stealer. The Moroni character is an absolute scream. Watch for Alan \"The Skipper\" Hale jr. as a police Sgt.']\n"
     ]
    }
   ],
   "source": [
    "with open(train_pos_paths[0]) as f:\n",
    "    print(f.readlines())"
   ]
  },
  {
   "cell_type": "code",
   "execution_count": 11,
   "metadata": {},
   "outputs": [],
   "source": [
    "train_pos = []\n",
    "train_neg = []\n",
    "test_pos = []\n",
    "test_neg = []\n",
    "for i in range(len(train_pos_paths)):\n",
    "    with open(train_pos_paths[i]) as f:\n",
    "        train_pos.append(' '.join(f.readlines()))\n",
    "    with open(train_neg_paths[i]) as f:\n",
    "        train_neg.append(' '.join(f.readlines()))\n",
    "    with open(test_pos_paths[i]) as f:\n",
    "        test_pos.append(' '.join(f.readlines()))\n",
    "    with open(test_neg_paths[i]) as f:\n",
    "        test_neg.append(' '.join(f.readlines()))"
   ]
  },
  {
   "cell_type": "code",
   "execution_count": 15,
   "metadata": {},
   "outputs": [],
   "source": [
    "train_df['review'] = train_pos + train_neg\n",
    "train_df['label'] = [1 for i in range(12500)] + [0 for i in range(12500)]\n",
    "test_df['review'] = test_pos + test_neg\n",
    "test_df['label'] = [1 for i in range(12500)] + [0 for i in range(12500)]"
   ]
  },
  {
   "cell_type": "code",
   "execution_count": 18,
   "metadata": {},
   "outputs": [],
   "source": [
    "train_df.to_csv('imdb_train.csv', index=False)\n",
    "test_df.to_csv('imdb_test.csv', index=False)"
   ]
  },
  {
   "cell_type": "code",
   "execution_count": 20,
   "metadata": {},
   "outputs": [],
   "source": [
    "pd.concat([train_df, test_df]).to_csv('imdb_data.csv', index=False)"
   ]
  },
  {
   "cell_type": "code",
   "execution_count": null,
   "metadata": {},
   "outputs": [],
   "source": []
  }
 ],
 "metadata": {
  "kernelspec": {
   "display_name": "Python 3",
   "language": "python",
   "name": "python3"
  },
  "language_info": {
   "codemirror_mode": {
    "name": "ipython",
    "version": 3
   },
   "file_extension": ".py",
   "mimetype": "text/x-python",
   "name": "python",
   "nbconvert_exporter": "python",
   "pygments_lexer": "ipython3",
   "version": "3.6.8"
  }
 },
 "nbformat": 4,
 "nbformat_minor": 2
}
