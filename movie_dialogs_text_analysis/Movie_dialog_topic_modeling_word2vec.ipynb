{
  "cells": [
    {
      "cell_type": "markdown",
      "metadata": {
        "id": "cQq0DzfAfumj"
      },
      "source": [
        "# Preparation"
      ]
    },
    {
      "cell_type": "code",
      "execution_count": 78,
      "metadata": {
        "colab": {
          "base_uri": "https://localhost:8080/"
        },
        "id": "DRP2B1UrsYvU",
        "outputId": "8f72635a-96ea-4666-c338-fc156fb050db"
      },
      "outputs": [
        {
          "output_type": "stream",
          "name": "stdout",
          "text": [
            "Looking in indexes: https://pypi.org/simple, https://us-python.pkg.dev/colab-wheels/public/simple/\n",
            "Requirement already satisfied: convokit in /usr/local/lib/python3.7/dist-packages (2.5.3)\n",
            "Requirement already satisfied: nltk>=3.4 in /usr/local/lib/python3.7/dist-packages (from convokit) (3.7)\n",
            "Requirement already satisfied: clean-text>=0.1.1 in /usr/local/lib/python3.7/dist-packages (from convokit) (0.6.0)\n",
            "Requirement already satisfied: scipy>=1.1.0 in /usr/local/lib/python3.7/dist-packages (from convokit) (1.4.1)\n",
            "Requirement already satisfied: joblib>=0.13.2 in /usr/local/lib/python3.7/dist-packages (from convokit) (1.1.0)\n",
            "Requirement already satisfied: dill>=0.2.9 in /usr/local/lib/python3.7/dist-packages (from convokit) (0.3.5.1)\n",
            "Requirement already satisfied: msgpack-numpy>=0.4.3.2 in /usr/local/lib/python3.7/dist-packages (from convokit) (0.4.7.1)\n",
            "Requirement already satisfied: pandas>=0.23.4 in /usr/local/lib/python3.7/dist-packages (from convokit) (1.3.5)\n",
            "Requirement already satisfied: scikit-learn>=0.20.0 in /usr/local/lib/python3.7/dist-packages (from convokit) (1.0.2)\n",
            "Requirement already satisfied: matplotlib>=3.0.0 in /usr/local/lib/python3.7/dist-packages (from convokit) (3.2.2)\n",
            "Requirement already satisfied: spacy>=2.3.5 in /usr/local/lib/python3.7/dist-packages (from convokit) (3.3.0)\n",
            "Requirement already satisfied: unidecode>=1.1.1 in /usr/local/lib/python3.7/dist-packages (from convokit) (1.3.4)\n",
            "Requirement already satisfied: emoji<2.0.0,>=1.0.0 in /usr/local/lib/python3.7/dist-packages (from clean-text>=0.1.1->convokit) (1.7.0)\n",
            "Requirement already satisfied: ftfy<7.0,>=6.0 in /usr/local/lib/python3.7/dist-packages (from clean-text>=0.1.1->convokit) (6.1.1)\n",
            "Requirement already satisfied: wcwidth>=0.2.5 in /usr/local/lib/python3.7/dist-packages (from ftfy<7.0,>=6.0->clean-text>=0.1.1->convokit) (0.2.5)\n",
            "Requirement already satisfied: pyparsing!=2.0.4,!=2.1.2,!=2.1.6,>=2.0.1 in /usr/local/lib/python3.7/dist-packages (from matplotlib>=3.0.0->convokit) (3.0.9)\n",
            "Requirement already satisfied: numpy>=1.11 in /usr/local/lib/python3.7/dist-packages (from matplotlib>=3.0.0->convokit) (1.21.6)\n",
            "Requirement already satisfied: python-dateutil>=2.1 in /usr/local/lib/python3.7/dist-packages (from matplotlib>=3.0.0->convokit) (2.8.2)\n",
            "Requirement already satisfied: kiwisolver>=1.0.1 in /usr/local/lib/python3.7/dist-packages (from matplotlib>=3.0.0->convokit) (1.4.2)\n",
            "Requirement already satisfied: cycler>=0.10 in /usr/local/lib/python3.7/dist-packages (from matplotlib>=3.0.0->convokit) (0.11.0)\n",
            "Requirement already satisfied: typing-extensions in /usr/local/lib/python3.7/dist-packages (from kiwisolver>=1.0.1->matplotlib>=3.0.0->convokit) (3.10.0.2)\n",
            "Requirement already satisfied: msgpack>=0.5.2 in /usr/local/lib/python3.7/dist-packages (from msgpack-numpy>=0.4.3.2->convokit) (1.0.3)\n",
            "Requirement already satisfied: tqdm in /usr/local/lib/python3.7/dist-packages (from nltk>=3.4->convokit) (4.64.0)\n",
            "Requirement already satisfied: click in /usr/local/lib/python3.7/dist-packages (from nltk>=3.4->convokit) (7.1.2)\n",
            "Requirement already satisfied: regex>=2021.8.3 in /usr/local/lib/python3.7/dist-packages (from nltk>=3.4->convokit) (2022.4.24)\n",
            "Requirement already satisfied: pytz>=2017.3 in /usr/local/lib/python3.7/dist-packages (from pandas>=0.23.4->convokit) (2022.1)\n",
            "Requirement already satisfied: six>=1.5 in /usr/local/lib/python3.7/dist-packages (from python-dateutil>=2.1->matplotlib>=3.0.0->convokit) (1.15.0)\n",
            "Requirement already satisfied: threadpoolctl>=2.0.0 in /usr/local/lib/python3.7/dist-packages (from scikit-learn>=0.20.0->convokit) (3.1.0)\n",
            "Requirement already satisfied: srsly<3.0.0,>=2.4.3 in /usr/local/lib/python3.7/dist-packages (from spacy>=2.3.5->convokit) (2.4.3)\n",
            "Requirement already satisfied: thinc<8.1.0,>=8.0.14 in /usr/local/lib/python3.7/dist-packages (from spacy>=2.3.5->convokit) (8.0.16)\n",
            "Requirement already satisfied: spacy-legacy<3.1.0,>=3.0.9 in /usr/local/lib/python3.7/dist-packages (from spacy>=2.3.5->convokit) (3.0.9)\n",
            "Requirement already satisfied: packaging>=20.0 in /usr/local/lib/python3.7/dist-packages (from spacy>=2.3.5->convokit) (21.3)\n",
            "Requirement already satisfied: blis<0.8.0,>=0.4.0 in /usr/local/lib/python3.7/dist-packages (from spacy>=2.3.5->convokit) (0.4.1)\n",
            "Requirement already satisfied: pydantic!=1.8,!=1.8.1,<1.9.0,>=1.7.4 in /usr/local/lib/python3.7/dist-packages (from spacy>=2.3.5->convokit) (1.8.2)\n",
            "Requirement already satisfied: pathy>=0.3.5 in /usr/local/lib/python3.7/dist-packages (from spacy>=2.3.5->convokit) (0.6.1)\n",
            "Requirement already satisfied: typer<0.5.0,>=0.3.0 in /usr/local/lib/python3.7/dist-packages (from spacy>=2.3.5->convokit) (0.4.1)\n",
            "Requirement already satisfied: wasabi<1.1.0,>=0.9.1 in /usr/local/lib/python3.7/dist-packages (from spacy>=2.3.5->convokit) (0.9.1)\n",
            "Requirement already satisfied: cymem<2.1.0,>=2.0.2 in /usr/local/lib/python3.7/dist-packages (from spacy>=2.3.5->convokit) (2.0.6)\n",
            "Requirement already satisfied: spacy-loggers<2.0.0,>=1.0.0 in /usr/local/lib/python3.7/dist-packages (from spacy>=2.3.5->convokit) (1.0.2)\n",
            "Requirement already satisfied: langcodes<4.0.0,>=3.2.0 in /usr/local/lib/python3.7/dist-packages (from spacy>=2.3.5->convokit) (3.3.0)\n",
            "Requirement already satisfied: catalogue<2.1.0,>=2.0.6 in /usr/local/lib/python3.7/dist-packages (from spacy>=2.3.5->convokit) (2.0.7)\n",
            "Requirement already satisfied: jinja2 in /usr/local/lib/python3.7/dist-packages (from spacy>=2.3.5->convokit) (2.11.3)\n",
            "Requirement already satisfied: murmurhash<1.1.0,>=0.28.0 in /usr/local/lib/python3.7/dist-packages (from spacy>=2.3.5->convokit) (1.0.7)\n",
            "Requirement already satisfied: requests<3.0.0,>=2.13.0 in /usr/local/lib/python3.7/dist-packages (from spacy>=2.3.5->convokit) (2.23.0)\n",
            "Requirement already satisfied: setuptools in /usr/local/lib/python3.7/dist-packages (from spacy>=2.3.5->convokit) (57.4.0)\n",
            "Requirement already satisfied: preshed<3.1.0,>=3.0.2 in /usr/local/lib/python3.7/dist-packages (from spacy>=2.3.5->convokit) (3.0.6)\n",
            "Requirement already satisfied: zipp>=0.5 in /usr/local/lib/python3.7/dist-packages (from catalogue<2.1.0,>=2.0.6->spacy>=2.3.5->convokit) (3.8.0)\n",
            "Requirement already satisfied: smart-open<6.0.0,>=5.0.0 in /usr/local/lib/python3.7/dist-packages (from pathy>=0.3.5->spacy>=2.3.5->convokit) (5.2.1)\n",
            "Requirement already satisfied: chardet<4,>=3.0.2 in /usr/local/lib/python3.7/dist-packages (from requests<3.0.0,>=2.13.0->spacy>=2.3.5->convokit) (3.0.4)\n",
            "Requirement already satisfied: idna<3,>=2.5 in /usr/local/lib/python3.7/dist-packages (from requests<3.0.0,>=2.13.0->spacy>=2.3.5->convokit) (2.10)\n",
            "Requirement already satisfied: urllib3!=1.25.0,!=1.25.1,<1.26,>=1.21.1 in /usr/local/lib/python3.7/dist-packages (from requests<3.0.0,>=2.13.0->spacy>=2.3.5->convokit) (1.24.3)\n",
            "Requirement already satisfied: certifi>=2017.4.17 in /usr/local/lib/python3.7/dist-packages (from requests<3.0.0,>=2.13.0->spacy>=2.3.5->convokit) (2022.5.18.1)\n",
            "Requirement already satisfied: MarkupSafe>=0.23 in /usr/local/lib/python3.7/dist-packages (from jinja2->spacy>=2.3.5->convokit) (2.0.1)\n",
            "Downloading movie-corpus to /root/.convokit/downloads/movie-corpus\n",
            "Downloading movie-corpus from http://zissou.infosci.cornell.edu/convokit/datasets/movie-corpus/movie-corpus.zip (40.9MB)... Done\n",
            "Number of Speakers: 9035\n",
            "Number of Utterances: 304713\n",
            "Number of Conversations: 83097\n"
          ]
        }
      ],
      "source": [
        "!pip install convokit\n",
        "from convokit import Corpus, download\n",
        "import numpy as np\n",
        "import pandas as pd\n",
        "\n",
        "corpus = Corpus(filename=download(\"movie-corpus\"))\n",
        "corpus.print_summary_stats()"
      ]
    },
    {
      "cell_type": "code",
      "execution_count": 79,
      "metadata": {
        "colab": {
          "base_uri": "https://localhost:8080/"
        },
        "id": "WBUVtehKOOf9",
        "outputId": "3a06b0cf-685f-4e68-c6ca-35013b038d94"
      },
      "outputs": [
        {
          "output_type": "stream",
          "name": "stderr",
          "text": [
            "304713it [00:00, 475206.36it/s]\n",
            "100%|██████████| 617/617 [00:00<00:00, 5370.05it/s]\n"
          ]
        }
      ],
      "source": [
        "from tqdm import tqdm\n",
        "def get_movie_utt_dic(corpus):\n",
        "    '''\n",
        "    get the dictionary of movies that map movies to corresponding utterances. \n",
        "    In chronological order. \n",
        "    '''\n",
        "    movie_utt_dic = {}\n",
        "    movie_idx_name = {}\n",
        "    for utt in tqdm(corpus.iter_utterances()):\n",
        "        if utt.meta['movie_id'] not in movie_utt_dic:\n",
        "            movie_utt_dic[utt.meta['movie_id']] = []\n",
        "            movie_idx_name[utt.meta['movie_id']] = utt.speaker.meta['movie_name']\n",
        "        movie_utt_dic[utt.meta['movie_id']].append(int(utt.id[1:]))\n",
        "    \n",
        "    for movie, utt_lst in tqdm(movie_utt_dic.items()):\n",
        "        id_lst = sorted(utt_lst)\n",
        "        movie_utt_dic[movie] =  ['L' + str(i) for i in id_lst]\n",
        "    \n",
        "    return movie_utt_dic, movie_idx_name\n",
        "        \n",
        "movie_utt_dic, movie_idx_name = get_movie_utt_dic(corpus)"
      ]
    },
    {
      "cell_type": "code",
      "execution_count": 80,
      "metadata": {
        "id": "KRKNQ-fKOOim"
      },
      "outputs": [],
      "source": [
        "utt_df = corpus.get_utterances_dataframe()\n",
        "# del utt_df"
      ]
    },
    {
      "cell_type": "code",
      "execution_count": 81,
      "metadata": {
        "id": "Zuz1oZIKOrKH"
      },
      "outputs": [],
      "source": [
        "conv = {}\n",
        "conv_speaker = {}\n",
        "\n",
        "for movie_id, utt_ids in movie_utt_dic.items():\n",
        "  for utt_id in utt_ids:\n",
        "    utt = corpus.get_utterance(utt_id)\n",
        "    conv_id = utt.conversation_id\n",
        "    \n",
        "    if conv_id not in conv:\n",
        "      conv[conv_id] = []\n",
        "      conv_speaker[conv_id] = []\n",
        "    conv[conv_id].append(utt.text)\n",
        "    conv_speaker[conv_id].append(utt.speaker.id)"
      ]
    },
    {
      "cell_type": "code",
      "execution_count": 82,
      "metadata": {
        "id": "8Xa-52kxOrMh"
      },
      "outputs": [],
      "source": [
        "conv_gender_proportion = {}\n",
        "\n",
        "for conv_id, speakers in conv_speaker.items():\n",
        "  genders = []\n",
        "  for speaker_id in speakers:\n",
        "    gender = corpus.get_speaker(speaker_id).meta['gender']\n",
        "    genders.append(gender)\n",
        "  \n",
        "  female_proportion = sum([1 for gender in genders if gender=='f'])/len(genders)\n",
        "  conv_gender_proportion[conv_id] = female_proportion"
      ]
    },
    {
      "cell_type": "code",
      "execution_count": 83,
      "metadata": {
        "colab": {
          "base_uri": "https://localhost:8080/"
        },
        "id": "sx2GCQU9VFCk",
        "outputId": "212eb48f-0184-4f4e-ac04-09fbfb9ba030"
      },
      "outputs": [
        {
          "output_type": "execute_result",
          "data": {
            "text/plain": [
              "(51343, 23965, 7789)"
            ]
          },
          "metadata": {},
          "execution_count": 83
        }
      ],
      "source": [
        "conv_only_male = []\n",
        "conv_less_female = []\n",
        "conv_more_female = []\n",
        "for conv_id, gender_proportion in conv_gender_proportion.items():\n",
        "  if gender_proportion == 0:\n",
        "    conv_only_male.append(conv[conv_id])\n",
        "  elif gender_proportion <=0.5:\n",
        "    conv_less_female.append(conv[conv_id])\n",
        "  else:\n",
        "    conv_more_female.append(conv[conv_id])\n",
        "len(conv_only_male), len(conv_less_female), len(conv_more_female)"
      ]
    },
    {
      "cell_type": "code",
      "execution_count": 84,
      "metadata": {
        "id": "po7gV0zI1TAs"
      },
      "outputs": [],
      "source": [
        "conv_all = []\n",
        "labels = []\n",
        "for conv_id, gender_proportion in conv_gender_proportion.items():\n",
        "  if gender_proportion == 0:\n",
        "    conv_all.append(conv[conv_id])\n",
        "    labels.append(1)\n",
        "  elif gender_proportion <=0.5:\n",
        "    conv_all.append(conv[conv_id])\n",
        "    labels.append(2)\n",
        "  else:\n",
        "    conv_all.append(conv[conv_id])\n",
        "    labels.append(3)\n",
        "corpus_all= [' '.join(conv) for conv in conv_all]"
      ]
    },
    {
      "cell_type": "code",
      "execution_count": 85,
      "metadata": {
        "colab": {
          "base_uri": "https://localhost:8080/"
        },
        "id": "m4yNapOIrHhD",
        "outputId": "41789fb7-48bb-43f4-9550-f0b9e2d32a7a"
      },
      "outputs": [
        {
          "output_type": "execute_result",
          "data": {
            "text/plain": [
              "(51343, 23965, 7789)"
            ]
          },
          "metadata": {},
          "execution_count": 85
        }
      ],
      "source": [
        "corpus_only_male= [' '.join(conv) for conv in conv_only_male]\n",
        "corpus_less_female= [' '.join(conv) for conv in conv_less_female]\n",
        "corpus_more_female= [' '.join(conv) for conv in conv_more_female]\n",
        "len(corpus_only_male), len(corpus_less_female), len(corpus_more_female)"
      ]
    },
    {
      "cell_type": "markdown",
      "metadata": {
        "id": "EMbclDwM5ybm"
      },
      "source": [
        "# Word2Vec training for each gropus"
      ]
    },
    {
      "cell_type": "markdown",
      "metadata": {
        "id": "awvVS2pXf5S7"
      },
      "source": [
        "## Only Male"
      ]
    },
    {
      "cell_type": "markdown",
      "metadata": {
        "id": "e7XYwDURBjI4"
      },
      "source": [
        "### Topic Modeling"
      ]
    },
    {
      "cell_type": "code",
      "execution_count": null,
      "metadata": {
        "id": "_atqJQY5B6ll"
      },
      "outputs": [],
      "source": [
        "from gensim.corpora import Dictionary\n",
        "from gensim.models import LdaModel"
      ]
    },
    {
      "cell_type": "code",
      "execution_count": null,
      "metadata": {
        "id": "iTJlyXv359ds"
      },
      "outputs": [],
      "source": [
        "from gensim.parsing.preprocessing import preprocess_documents"
      ]
    },
    {
      "cell_type": "code",
      "execution_count": null,
      "metadata": {
        "id": "1a33vs_aqXmr"
      },
      "outputs": [],
      "source": [
        "preprocessed_texts = preprocess_documents(corpus_only_male)\n",
        "dictionary = Dictionary(preprocessed_texts)\n",
        "corpus = [dictionary.doc2bow(text) for text in preprocessed_texts]"
      ]
    },
    {
      "cell_type": "code",
      "execution_count": null,
      "metadata": {
        "id": "72eON7EUqZ8n"
      },
      "outputs": [],
      "source": [
        "ldamodel = LdaModel(corpus=corpus, num_topics=5, id2word=dictionary)"
      ]
    },
    {
      "cell_type": "code",
      "execution_count": null,
      "metadata": {
        "colab": {
          "base_uri": "https://localhost:8080/"
        },
        "id": "MzbKCyDcqaj9",
        "outputId": "4c9c1c92-2adb-463e-bb75-f03fd77bd329"
      },
      "outputs": [
        {
          "data": {
            "text/plain": [
              "[(0,\n",
              "  '0.023*\"like\" + 0.014*\"got\" + 0.011*\"yeah\" + 0.010*\"littl\" + 0.008*\"man\" + 0.007*\"hei\" + 0.007*\"ain\" + 0.007*\"shit\" + 0.007*\"boi\" + 0.006*\"right\"'),\n",
              " (1,\n",
              "  '0.018*\"know\" + 0.018*\"want\" + 0.013*\"man\" + 0.013*\"got\" + 0.013*\"kill\" + 0.013*\"fuck\" + 0.008*\"like\" + 0.008*\"gonna\" + 0.008*\"let\" + 0.007*\"talk\"'),\n",
              " (2,\n",
              "  '0.022*\"ye\" + 0.015*\"sir\" + 0.009*\"thank\" + 0.008*\"good\" + 0.006*\"want\" + 0.005*\"know\" + 0.005*\"father\" + 0.005*\"love\" + 0.005*\"man\" + 0.005*\"friend\"'),\n",
              " (3,\n",
              "  '0.032*\"know\" + 0.015*\"want\" + 0.014*\"think\" + 0.014*\"like\" + 0.014*\"go\" + 0.014*\"got\" + 0.012*\"come\" + 0.011*\"time\" + 0.011*\"right\" + 0.011*\"tell\"'),\n",
              " (4,\n",
              "  '0.012*\"look\" + 0.010*\"right\" + 0.008*\"good\" + 0.008*\"know\" + 0.007*\"think\" + 0.007*\"like\" + 0.005*\"tell\" + 0.005*\"got\" + 0.004*\"minut\" + 0.004*\"let\"')]"
            ]
          },
          "execution_count": 18,
          "metadata": {},
          "output_type": "execute_result"
        }
      ],
      "source": [
        "ldamodel.print_topics()"
      ]
    },
    {
      "cell_type": "markdown",
      "metadata": {
        "id": "fkUzNWv3hVcJ"
      },
      "source": [
        "### Cleaned Version"
      ]
    },
    {
      "cell_type": "code",
      "execution_count": 156,
      "metadata": {
        "colab": {
          "base_uri": "https://localhost:8080/"
        },
        "id": "edaqO8za6nfv",
        "outputId": "65fff5a4-153b-4e1b-8964-adec6fea66fe"
      },
      "outputs": [
        {
          "output_type": "execute_result",
          "data": {
            "text/plain": [
              "7789"
            ]
          },
          "metadata": {},
          "execution_count": 156
        }
      ],
      "source": [
        "from random import sample\n",
        "corpus_only_male_sampled = sample(corpus_only_male,7789)\n",
        "len(corpus_only_male_sampled)"
      ]
    },
    {
      "cell_type": "code",
      "execution_count": 157,
      "metadata": {
        "id": "ruFzZEpY59dt"
      },
      "outputs": [],
      "source": [
        "preprocessed_texts_only_male = preprocess_documents(corpus_only_male_sampled)"
      ]
    },
    {
      "cell_type": "code",
      "execution_count": 158,
      "metadata": {
        "id": "tlDwoXwS59dt"
      },
      "outputs": [],
      "source": [
        "from gensim.models import Word2Vec\n"
      ]
    },
    {
      "cell_type": "code",
      "execution_count": 159,
      "metadata": {
        "id": "C3c90SfQ59dt"
      },
      "outputs": [],
      "source": [
        "w2vmodel_only_male = Word2Vec(\n",
        "        preprocessed_texts_only_male,\n",
        "        size=7789,\n",
        "        window=10)"
      ]
    },
    {
      "cell_type": "code",
      "execution_count": null,
      "metadata": {
        "colab": {
          "base_uri": "https://localhost:8080/"
        },
        "id": "qJhjQA3I66Ft",
        "outputId": "734657ee-007f-48c6-f507-1c26dc81510f"
      },
      "outputs": [
        {
          "data": {
            "text/plain": [
              "[('know', 0.9998112320899963),\n",
              " ('want', 0.9998075366020203),\n",
              " ('like', 0.9998071193695068),\n",
              " ('think', 0.9998059868812561),\n",
              " ('thing', 0.999805748462677),\n",
              " ('tell', 0.9998033046722412),\n",
              " ('right', 0.99980229139328),\n",
              " ('mean', 0.9998018145561218),\n",
              " ('go', 0.9998008012771606),\n",
              " ('ain', 0.999799370765686)]"
            ]
          },
          "execution_count": 47,
          "metadata": {},
          "output_type": "execute_result"
        }
      ],
      "source": [
        "w2vmodel_only_male.wv.most_similar(\"power\")"
      ]
    },
    {
      "cell_type": "code",
      "execution_count": null,
      "metadata": {
        "colab": {
          "base_uri": "https://localhost:8080/"
        },
        "id": "_36BYGQr66Ft",
        "outputId": "53f34fae-512a-49e1-c503-79cd0fe3b4a5"
      },
      "outputs": [
        {
          "data": {
            "text/plain": [
              "[('know', 0.9999275803565979),\n",
              " ('want', 0.9999228715896606),\n",
              " ('like', 0.9999216794967651),\n",
              " ('thing', 0.9999200105667114),\n",
              " ('right', 0.9999197125434875),\n",
              " ('think', 0.9999188184738159),\n",
              " ('tell', 0.9999173879623413),\n",
              " ('mean', 0.999916136264801),\n",
              " ('ain', 0.9999158978462219),\n",
              " ('go', 0.9999153017997742)]"
            ]
          },
          "execution_count": 48,
          "metadata": {},
          "output_type": "execute_result"
        }
      ],
      "source": [
        "w2vmodel_only_male.wv.most_similar(\"woman\")"
      ]
    },
    {
      "cell_type": "code",
      "execution_count": null,
      "metadata": {
        "colab": {
          "base_uri": "https://localhost:8080/"
        },
        "id": "tiuxxTPG66Ft",
        "outputId": "cf5bf812-331d-4a64-c032-1c9eb5d9badd"
      },
      "outputs": [
        {
          "data": {
            "text/plain": [
              "[('know', 0.9999697804450989),\n",
              " ('like', 0.9999663829803467),\n",
              " ('want', 0.9999647736549377),\n",
              " ('thing', 0.9999642372131348),\n",
              " ('think', 0.9999624490737915),\n",
              " ('right', 0.9999620318412781),\n",
              " ('tell', 0.9999609589576721),\n",
              " ('mean', 0.9999608993530273),\n",
              " ('ain', 0.9999587535858154),\n",
              " ('go', 0.9999572038650513)]"
            ]
          },
          "execution_count": 49,
          "metadata": {},
          "output_type": "execute_result"
        }
      ],
      "source": [
        "w2vmodel_only_male.wv.most_similar(\"man\")"
      ]
    },
    {
      "cell_type": "code",
      "execution_count": null,
      "metadata": {
        "colab": {
          "base_uri": "https://localhost:8080/"
        },
        "id": "8FnymRFY7StC",
        "outputId": "752e033d-217b-4dd5-e4b5-c286e7ca94f9"
      },
      "outputs": [
        {
          "name": "stderr",
          "output_type": "stream",
          "text": [
            "/usr/local/lib/python3.7/dist-packages/ipykernel_launcher.py:1: DeprecationWarning: Call to deprecated `most_similar` (Method will be removed in 4.0.0, use self.wv.most_similar() instead).\n",
            "  \"\"\"Entry point for launching an IPython kernel.\n"
          ]
        },
        {
          "data": {
            "text/plain": [
              "[('know', 0.9997261762619019),\n",
              " ('want', 0.9997227191925049),\n",
              " ('think', 0.9997194409370422),\n",
              " ('like', 0.9997193217277527),\n",
              " ('thing', 0.9997186660766602),\n",
              " ('right', 0.9997168183326721),\n",
              " ('tell', 0.9997166991233826),\n",
              " ('go', 0.9997159242630005),\n",
              " ('mean', 0.9997143745422363),\n",
              " ('night', 0.9997139573097229)]"
            ]
          },
          "execution_count": 50,
          "metadata": {},
          "output_type": "execute_result"
        }
      ],
      "source": [
        "w2vmodel_only_male.most_similar(positive=['power', 'woman'], negative = ['man'])"
      ]
    },
    {
      "cell_type": "code",
      "execution_count": null,
      "metadata": {
        "colab": {
          "base_uri": "https://localhost:8080/"
        },
        "id": "YuTCdtiT7StD",
        "outputId": "003ffba3-2324-4218-b46d-e5fd9d382d47"
      },
      "outputs": [
        {
          "name": "stderr",
          "output_type": "stream",
          "text": [
            "/usr/local/lib/python3.7/dist-packages/ipykernel_launcher.py:1: DeprecationWarning: Call to deprecated `most_similar` (Method will be removed in 4.0.0, use self.wv.most_similar() instead).\n",
            "  \"\"\"Entry point for launching an IPython kernel.\n"
          ]
        },
        {
          "data": {
            "text/plain": [
              "[('know', 0.9997163414955139),\n",
              " ('like', 0.9997145533561707),\n",
              " ('thing', 0.9997129440307617),\n",
              " ('want', 0.9997125864028931),\n",
              " ('think', 0.9997125864028931),\n",
              " ('tell', 0.999710202217102),\n",
              " ('mean', 0.9997091889381409),\n",
              " ('right', 0.9997076988220215),\n",
              " ('go', 0.9997057914733887),\n",
              " ('wai', 0.99970543384552)]"
            ]
          },
          "execution_count": 51,
          "metadata": {},
          "output_type": "execute_result"
        }
      ],
      "source": [
        "w2vmodel_only_male.most_similar(positive=['power', 'man'], negative = ['woman'])"
      ]
    },
    {
      "cell_type": "markdown",
      "metadata": {
        "id": "zz4yQy3ehaEV"
      },
      "source": [
        "### Uncleaned Version"
      ]
    },
    {
      "cell_type": "code",
      "execution_count": 160,
      "metadata": {
        "colab": {
          "base_uri": "https://localhost:8080/"
        },
        "id": "zNa8TZdrG9iO",
        "outputId": "1e912317-9e06-46b9-fb71-33d3a11d4c0e"
      },
      "outputs": [
        {
          "output_type": "execute_result",
          "data": {
            "text/plain": [
              "7789"
            ]
          },
          "metadata": {},
          "execution_count": 160
        }
      ],
      "source": [
        "from random import sample\n",
        "corpus_only_male_sampled = sample(corpus_only_male,7789)\n",
        "len(corpus_only_male_sampled)"
      ]
    },
    {
      "cell_type": "code",
      "execution_count": 161,
      "metadata": {
        "id": "HUL-lyw0hldX"
      },
      "outputs": [],
      "source": [
        "from gensim.parsing.preprocessing import preprocess_string, strip_tags, strip_punctuation"
      ]
    },
    {
      "cell_type": "code",
      "execution_count": 162,
      "metadata": {
        "id": "kEN4awoKhldX"
      },
      "outputs": [],
      "source": [
        "CUSTOM_FILTERS = [lambda x: x.lower(), strip_tags, strip_punctuation]"
      ]
    },
    {
      "cell_type": "code",
      "execution_count": 163,
      "metadata": {
        "id": "I_Pvx7GjhldX"
      },
      "outputs": [],
      "source": [
        "tokenized_texts = []\n",
        "for conv in corpus_only_male_sampled:\n",
        "  tokenized_texts.append(preprocess_string(conv, CUSTOM_FILTERS))"
      ]
    },
    {
      "cell_type": "code",
      "execution_count": 164,
      "metadata": {
        "id": "JBGhylXFhldX"
      },
      "outputs": [],
      "source": [
        "from gensim.models import Word2Vec\n",
        "w2vmodel_only_male_uncleaned = Word2Vec(\n",
        "        tokenized_texts,\n",
        "        size=400,\n",
        "        window=10)"
      ]
    },
    {
      "cell_type": "code",
      "execution_count": null,
      "metadata": {
        "colab": {
          "base_uri": "https://localhost:8080/"
        },
        "id": "HWuseTLOlw-8",
        "outputId": "28086f1c-b092-4717-aa11-8ad88688b6c6"
      },
      "outputs": [
        {
          "data": {
            "text/plain": [
              "[('her', 0.8941872119903564),\n",
              " ('he', 0.7944333553314209),\n",
              " ('was', 0.7849247455596924),\n",
              " ('said', 0.7818982005119324),\n",
              " ('that', 0.7724723815917969),\n",
              " ('mother', 0.7437698245048523),\n",
              " ('sore', 0.7362278699874878),\n",
              " ('girl', 0.734960675239563),\n",
              " ('name', 0.7241322994232178),\n",
              " ('fixed', 0.7204688787460327)]"
            ]
          },
          "execution_count": 40,
          "metadata": {},
          "output_type": "execute_result"
        }
      ],
      "source": [
        "w2vmodel_only_male_uncleaned.wv.most_similar(\"she\")"
      ]
    },
    {
      "cell_type": "code",
      "execution_count": null,
      "metadata": {
        "colab": {
          "base_uri": "https://localhost:8080/"
        },
        "id": "iqdNB_SglPwM",
        "outputId": "7334542b-7165-4500-9f2f-0c9eec983129"
      },
      "outputs": [
        {
          "data": {
            "text/plain": [
              "[('she', 0.8941872119903564),\n",
              " ('said', 0.7781175971031189),\n",
              " ('suspicious', 0.7728043794631958),\n",
              " ('jealous', 0.761027455329895),\n",
              " ('marry', 0.7454886436462402),\n",
              " ('sore', 0.7334582805633545),\n",
              " ('when', 0.7311935424804688),\n",
              " ('mother', 0.730105459690094),\n",
              " ('girl', 0.7273238897323608),\n",
              " ('wheels', 0.7087754011154175)]"
            ]
          },
          "execution_count": 41,
          "metadata": {},
          "output_type": "execute_result"
        }
      ],
      "source": [
        "w2vmodel_only_male_uncleaned.wv.most_similar(\"her\")"
      ]
    },
    {
      "cell_type": "code",
      "execution_count": null,
      "metadata": {
        "colab": {
          "base_uri": "https://localhost:8080/"
        },
        "id": "OSyldvm4h0cA",
        "outputId": "83c4c3f3-993a-4e13-9a7c-2010b777c3f9"
      },
      "outputs": [
        {
          "data": {
            "text/plain": [
              "[('girl', 0.8070864677429199),\n",
              " ('lady', 0.7106090784072876),\n",
              " ('child', 0.6971492171287537),\n",
              " ('person', 0.696940541267395),\n",
              " ('herself', 0.6379427909851074),\n",
              " ('man', 0.5742233395576477),\n",
              " ('rose', 0.5598405599594116),\n",
              " ('her', 0.5497320890426636),\n",
              " ('nun', 0.5352122187614441),\n",
              " ('she', 0.5323839783668518)]"
            ]
          },
          "execution_count": 93,
          "metadata": {},
          "output_type": "execute_result"
        }
      ],
      "source": [
        "w2vmodel_only_male_uncleaned.wv.most_similar(\"woman\")"
      ]
    },
    {
      "cell_type": "code",
      "execution_count": null,
      "metadata": {
        "colab": {
          "base_uri": "https://localhost:8080/"
        },
        "id": "DIfYR0tyh0cA",
        "outputId": "447faca7-50f9-4e85-a082-2a2a253390a0"
      },
      "outputs": [
        {
          "data": {
            "text/plain": [
              "[('boy', 0.5871012210845947),\n",
              " ('cop', 0.5850527882575989),\n",
              " ('woman', 0.5742233395576477),\n",
              " ('guy', 0.5730761885643005),\n",
              " ('cat', 0.572471559047699),\n",
              " ('monster', 0.5451343059539795),\n",
              " ('fellow', 0.5436459183692932),\n",
              " ('fool', 0.5432432293891907),\n",
              " ('fella', 0.5284389853477478),\n",
              " ('lady', 0.5208795666694641)]"
            ]
          },
          "execution_count": 94,
          "metadata": {},
          "output_type": "execute_result"
        }
      ],
      "source": [
        "w2vmodel_only_male_uncleaned.wv.most_similar(\"man\")"
      ]
    },
    {
      "cell_type": "code",
      "execution_count": null,
      "metadata": {
        "colab": {
          "base_uri": "https://localhost:8080/"
        },
        "id": "cEZvtl5nh0cA",
        "outputId": "b0658e7f-c681-4ad0-843c-eb2618af675a"
      },
      "outputs": [
        {
          "name": "stderr",
          "output_type": "stream",
          "text": [
            "/usr/local/lib/python3.7/dist-packages/ipykernel_launcher.py:1: DeprecationWarning: Call to deprecated `most_similar` (Method will be removed in 4.0.0, use self.wv.most_similar() instead).\n",
            "  \"\"\"Entry point for launching an IPython kernel.\n"
          ]
        },
        {
          "data": {
            "text/plain": [
              "[('so', 0.9999819993972778),\n",
              " ('they', 0.9999818205833435),\n",
              " ('of', 0.9999817609786987),\n",
              " ('to', 0.9999817609786987),\n",
              " ('your', 0.9999817609786987),\n",
              " ('some', 0.9999817609786987),\n",
              " ('we', 0.999981701374054),\n",
              " ('in', 0.999981701374054),\n",
              " ('with', 0.999981701374054),\n",
              " ('just', 0.9999816417694092)]"
            ]
          },
          "execution_count": 55,
          "metadata": {},
          "output_type": "execute_result"
        }
      ],
      "source": [
        "w2vmodel_only_male_uncleaned.most_similar(positive=['power', 'woman'], negative = ['man'])"
      ]
    },
    {
      "cell_type": "code",
      "execution_count": null,
      "metadata": {
        "colab": {
          "base_uri": "https://localhost:8080/"
        },
        "id": "Gfq-Bs5fh0cA",
        "outputId": "d1236fa4-5ffa-4137-e786-eb497982862c"
      },
      "outputs": [
        {
          "name": "stderr",
          "output_type": "stream",
          "text": [
            "/usr/local/lib/python3.7/dist-packages/ipykernel_launcher.py:1: DeprecationWarning: Call to deprecated `most_similar` (Method will be removed in 4.0.0, use self.wv.most_similar() instead).\n",
            "  \"\"\"Entry point for launching an IPython kernel.\n"
          ]
        },
        {
          "data": {
            "text/plain": [
              "[('at', 0.9999813437461853),\n",
              " ('in', 0.9999812245368958),\n",
              " ('we', 0.9999811053276062),\n",
              " ('of', 0.9999811053276062),\n",
              " ('time', 0.9999810457229614),\n",
              " ('they', 0.9999810457229614),\n",
              " ('my', 0.9999810457229614),\n",
              " ('his', 0.9999810457229614),\n",
              " ('on', 0.9999810457229614),\n",
              " ('your', 0.9999810457229614)]"
            ]
          },
          "execution_count": 56,
          "metadata": {},
          "output_type": "execute_result"
        }
      ],
      "source": [
        "w2vmodel_only_male_uncleaned.most_similar(positive=['power', 'man'], negative = ['woman'])"
      ]
    },
    {
      "cell_type": "markdown",
      "metadata": {
        "id": "CoGRncF9q3fK"
      },
      "source": [
        "### Visualization"
      ]
    },
    {
      "cell_type": "markdown",
      "metadata": {
        "id": "fGWO0jSGq3fK"
      },
      "source": [
        "I only employed visualization on the not cleaned version of the Word2Vec, as it displays more differences based on gender"
      ]
    },
    {
      "cell_type": "code",
      "execution_count": 167,
      "metadata": {
        "id": "xx2PHPyzq3fK"
      },
      "outputs": [],
      "source": [
        "import sklearn"
      ]
    },
    {
      "cell_type": "code",
      "execution_count": 168,
      "metadata": {
        "id": "YKJF7HZRq3fL"
      },
      "outputs": [],
      "source": [
        "def normalize(vector):\n",
        "    normalized_vector = vector / np.linalg.norm(vector)\n",
        "    return normalized_vector\n",
        "\n",
        "def dimension(model, positives, negatives):\n",
        "    diff = sum([normalize(model[x]) for x in positives]) - sum([normalize(model[y]) for y in negatives])\n",
        "    return diff"
      ]
    },
    {
      "cell_type": "code",
      "execution_count": 169,
      "metadata": {
        "colab": {
          "base_uri": "https://localhost:8080/"
        },
        "id": "S-pbcZfWq3fL",
        "outputId": "b6059d9c-8f9d-4f7d-c7f7-f8dde509ee8b"
      },
      "outputs": [
        {
          "output_type": "stream",
          "name": "stderr",
          "text": [
            "/usr/local/lib/python3.7/dist-packages/ipykernel_launcher.py:6: DeprecationWarning:\n",
            "\n",
            "Call to deprecated `__getitem__` (Method will be removed in 4.0.0, use self.wv.__getitem__() instead).\n",
            "\n"
          ]
        }
      ],
      "source": [
        "Gender = dimension(w2vmodel_only_male_uncleaned, ['man','him','he'], ['woman', 'her', 'she'])"
      ]
    },
    {
      "cell_type": "code",
      "execution_count": 152,
      "metadata": {
        "id": "hO5Yk0e8q3fL"
      },
      "outputs": [],
      "source": [
        "occupation_and_family = ['police', 'doctor', 'captain', 'child', 'family', 'baby', 'mother']\n",
        "\n",
        "verb_adj = ['hate', 'love', 'smart', 'young', 'old', 'beautiful']\n",
        "\n",
        "expression_habit  = ['tell', 'want', 'need', 'think', 'got', 'fuck', 'know', 'feel', 'talk', 'thank']"
      ]
    },
    {
      "cell_type": "code",
      "execution_count": 154,
      "metadata": {
        "collapsed": true,
        "id": "KA5fISN4q3fL"
      },
      "outputs": [],
      "source": [
        "def makeDF(model, word_list):\n",
        "    g = []\n",
        "    for word in word_list:\n",
        "        g.append(sklearn.metrics.pairwise.cosine_similarity(model[word].reshape(1,-1), Gender.reshape(1,-1))[0][0])\n",
        "    df = pd.DataFrame({'gender': g}, index = word_list)\n",
        "    return df"
      ]
    },
    {
      "cell_type": "code",
      "execution_count": 170,
      "metadata": {
        "colab": {
          "base_uri": "https://localhost:8080/"
        },
        "collapsed": true,
        "id": "0xDtpZ6dq3fL",
        "outputId": "820eb1ac-6a94-4bb1-b2c4-f01d061491c6"
      },
      "outputs": [
        {
          "output_type": "stream",
          "name": "stderr",
          "text": [
            "/usr/local/lib/python3.7/dist-packages/ipykernel_launcher.py:4: DeprecationWarning:\n",
            "\n",
            "Call to deprecated `__getitem__` (Method will be removed in 4.0.0, use self.wv.__getitem__() instead).\n",
            "\n",
            "/usr/local/lib/python3.7/dist-packages/ipykernel_launcher.py:4: DeprecationWarning:\n",
            "\n",
            "Call to deprecated `__getitem__` (Method will be removed in 4.0.0, use self.wv.__getitem__() instead).\n",
            "\n",
            "/usr/local/lib/python3.7/dist-packages/ipykernel_launcher.py:4: DeprecationWarning:\n",
            "\n",
            "Call to deprecated `__getitem__` (Method will be removed in 4.0.0, use self.wv.__getitem__() instead).\n",
            "\n",
            "/usr/local/lib/python3.7/dist-packages/ipykernel_launcher.py:4: DeprecationWarning:\n",
            "\n",
            "Call to deprecated `__getitem__` (Method will be removed in 4.0.0, use self.wv.__getitem__() instead).\n",
            "\n",
            "/usr/local/lib/python3.7/dist-packages/ipykernel_launcher.py:4: DeprecationWarning:\n",
            "\n",
            "Call to deprecated `__getitem__` (Method will be removed in 4.0.0, use self.wv.__getitem__() instead).\n",
            "\n",
            "/usr/local/lib/python3.7/dist-packages/ipykernel_launcher.py:4: DeprecationWarning:\n",
            "\n",
            "Call to deprecated `__getitem__` (Method will be removed in 4.0.0, use self.wv.__getitem__() instead).\n",
            "\n",
            "/usr/local/lib/python3.7/dist-packages/ipykernel_launcher.py:4: DeprecationWarning:\n",
            "\n",
            "Call to deprecated `__getitem__` (Method will be removed in 4.0.0, use self.wv.__getitem__() instead).\n",
            "\n",
            "/usr/local/lib/python3.7/dist-packages/ipykernel_launcher.py:4: DeprecationWarning:\n",
            "\n",
            "Call to deprecated `__getitem__` (Method will be removed in 4.0.0, use self.wv.__getitem__() instead).\n",
            "\n",
            "/usr/local/lib/python3.7/dist-packages/ipykernel_launcher.py:4: DeprecationWarning:\n",
            "\n",
            "Call to deprecated `__getitem__` (Method will be removed in 4.0.0, use self.wv.__getitem__() instead).\n",
            "\n",
            "/usr/local/lib/python3.7/dist-packages/ipykernel_launcher.py:4: DeprecationWarning:\n",
            "\n",
            "Call to deprecated `__getitem__` (Method will be removed in 4.0.0, use self.wv.__getitem__() instead).\n",
            "\n",
            "/usr/local/lib/python3.7/dist-packages/ipykernel_launcher.py:4: DeprecationWarning:\n",
            "\n",
            "Call to deprecated `__getitem__` (Method will be removed in 4.0.0, use self.wv.__getitem__() instead).\n",
            "\n",
            "/usr/local/lib/python3.7/dist-packages/ipykernel_launcher.py:4: DeprecationWarning:\n",
            "\n",
            "Call to deprecated `__getitem__` (Method will be removed in 4.0.0, use self.wv.__getitem__() instead).\n",
            "\n",
            "/usr/local/lib/python3.7/dist-packages/ipykernel_launcher.py:4: DeprecationWarning:\n",
            "\n",
            "Call to deprecated `__getitem__` (Method will be removed in 4.0.0, use self.wv.__getitem__() instead).\n",
            "\n",
            "/usr/local/lib/python3.7/dist-packages/ipykernel_launcher.py:4: DeprecationWarning:\n",
            "\n",
            "Call to deprecated `__getitem__` (Method will be removed in 4.0.0, use self.wv.__getitem__() instead).\n",
            "\n",
            "/usr/local/lib/python3.7/dist-packages/ipykernel_launcher.py:4: DeprecationWarning:\n",
            "\n",
            "Call to deprecated `__getitem__` (Method will be removed in 4.0.0, use self.wv.__getitem__() instead).\n",
            "\n",
            "/usr/local/lib/python3.7/dist-packages/ipykernel_launcher.py:4: DeprecationWarning:\n",
            "\n",
            "Call to deprecated `__getitem__` (Method will be removed in 4.0.0, use self.wv.__getitem__() instead).\n",
            "\n",
            "/usr/local/lib/python3.7/dist-packages/ipykernel_launcher.py:4: DeprecationWarning:\n",
            "\n",
            "Call to deprecated `__getitem__` (Method will be removed in 4.0.0, use self.wv.__getitem__() instead).\n",
            "\n",
            "/usr/local/lib/python3.7/dist-packages/ipykernel_launcher.py:4: DeprecationWarning:\n",
            "\n",
            "Call to deprecated `__getitem__` (Method will be removed in 4.0.0, use self.wv.__getitem__() instead).\n",
            "\n",
            "/usr/local/lib/python3.7/dist-packages/ipykernel_launcher.py:4: DeprecationWarning:\n",
            "\n",
            "Call to deprecated `__getitem__` (Method will be removed in 4.0.0, use self.wv.__getitem__() instead).\n",
            "\n",
            "/usr/local/lib/python3.7/dist-packages/ipykernel_launcher.py:4: DeprecationWarning:\n",
            "\n",
            "Call to deprecated `__getitem__` (Method will be removed in 4.0.0, use self.wv.__getitem__() instead).\n",
            "\n",
            "/usr/local/lib/python3.7/dist-packages/ipykernel_launcher.py:4: DeprecationWarning:\n",
            "\n",
            "Call to deprecated `__getitem__` (Method will be removed in 4.0.0, use self.wv.__getitem__() instead).\n",
            "\n",
            "/usr/local/lib/python3.7/dist-packages/ipykernel_launcher.py:4: DeprecationWarning:\n",
            "\n",
            "Call to deprecated `__getitem__` (Method will be removed in 4.0.0, use self.wv.__getitem__() instead).\n",
            "\n",
            "/usr/local/lib/python3.7/dist-packages/ipykernel_launcher.py:4: DeprecationWarning:\n",
            "\n",
            "Call to deprecated `__getitem__` (Method will be removed in 4.0.0, use self.wv.__getitem__() instead).\n",
            "\n"
          ]
        }
      ],
      "source": [
        "occupation_and_family_df = makeDF(w2vmodel_only_male_uncleaned, occupation_and_family) \n",
        "verb_adj_df = makeDF(w2vmodel_only_male_uncleaned, verb_adj) \n",
        "expression_habit_df = makeDF(w2vmodel_only_male_uncleaned, expression_habit)"
      ]
    },
    {
      "cell_type": "code",
      "execution_count": 171,
      "metadata": {
        "collapsed": true,
        "id": "97r4Uu8_q3fL"
      },
      "outputs": [],
      "source": [
        "def Coloring(Series):\n",
        "    x = Series.values\n",
        "    y = x-x.min()\n",
        "    z = y/y.max()\n",
        "    c = list(plt.cm.rainbow(z))\n",
        "    return c\n",
        "\n",
        "def PlotDimension(ax,df, dim):\n",
        "    ax.set_frame_on(False)\n",
        "    ax.set_title(dim, fontsize = 20)\n",
        "    colors = Coloring(df[dim])\n",
        "    for i, word in enumerate(df.index):\n",
        "        ax.annotate(word, (0, df[dim][i]), color = colors[i], alpha = 0.6, fontsize = 12)\n",
        "    MaxY = df[dim].max()\n",
        "    MinY = df[dim].min()\n",
        "    plt.ylim(MinY,MaxY)\n",
        "    plt.yticks(())\n",
        "    plt.xticks(())"
      ]
    },
    {
      "cell_type": "markdown",
      "metadata": {
        "id": "76U6cwcEswnb"
      },
      "source": [
        "##### Occupation and Family\n"
      ]
    },
    {
      "cell_type": "code",
      "execution_count": null,
      "metadata": {
        "id": "FqEBYuv9vce7"
      },
      "outputs": [],
      "source": [
        "import matplotlib.pyplot as plt\n"
      ]
    },
    {
      "cell_type": "code",
      "execution_count": null,
      "metadata": {
        "colab": {
          "base_uri": "https://localhost:8080/",
          "height": 272
        },
        "id": "KSk3pJJeq3fL",
        "outputId": "9e1c6e81-bcd2-4339-82cd-2e7b7adabaf0",
        "scrolled": true
      },
      "outputs": [
        {
          "data": {
            "image/png": "[encoded data removed]",
            "text/plain": [
              "<Figure size 864x288 with 1 Axes>"
            ]
          },
          "metadata": {},
          "output_type": "display_data"
        }
      ],
      "source": [
        "fig = plt.figure(figsize = (12,4))\n",
        "ax1 = fig.add_subplot(131)\n",
        "PlotDimension(ax1, occupation_df, 'gender')\n",
        "plt.show()"
      ]
    },
    {
      "cell_type": "code",
      "execution_count": null,
      "metadata": {
        "colab": {
          "base_uri": "https://localhost:8080/",
          "height": 272
        },
        "id": "DfQ3394BuqCA",
        "outputId": "5878a2a1-5023-4650-a08e-9bc9967f71c9"
      },
      "outputs": [
        {
          "data": {
            "image/png": "[encoded data removed]",
            "text/plain": [
              "<Figure size 864x288 with 1 Axes>"
            ]
          },
          "metadata": {},
          "output_type": "display_data"
        }
      ],
      "source": [
        "fig = plt.figure(figsize = (12,4))\n",
        "ax1 = fig.add_subplot(131)\n",
        "PlotDimension(ax1, family_df, 'gender')\n",
        "plt.show()"
      ]
    },
    {
      "cell_type": "markdown",
      "metadata": {
        "id": "Q2hAo2kSs1t3"
      },
      "source": [
        "##### Verbs and Adjective\n"
      ]
    },
    {
      "cell_type": "code",
      "execution_count": null,
      "metadata": {
        "colab": {
          "base_uri": "https://localhost:8080/",
          "height": 490
        },
        "id": "6cRG2Vdpq3fL",
        "outputId": "38f10f06-11dc-48cb-f4ad-1131449e91b2"
      },
      "outputs": [
        {
          "data": {
            "image/png": "[encoded data removed]",
            "text/plain": [
              "<Figure size 864x576 with 1 Axes>"
            ]
          },
          "metadata": {},
          "output_type": "display_data"
        }
      ],
      "source": [
        "fig = plt.figure(figsize = (12,8))\n",
        "ax1 = fig.add_subplot(131)\n",
        "PlotDimension(ax1, verb_adj_df, 'gender')\n",
        "plt.show()"
      ]
    },
    {
      "cell_type": "markdown",
      "metadata": {
        "id": "nsOR2FU2s96f"
      },
      "source": [
        "##### Expression Habbit\n"
      ]
    },
    {
      "cell_type": "code",
      "execution_count": null,
      "metadata": {
        "colab": {
          "base_uri": "https://localhost:8080/",
          "height": 272
        },
        "id": "O3y55aCQq3fM",
        "outputId": "10260a93-6493-4bb1-d9bc-92949fbc198a"
      },
      "outputs": [
        {
          "data": {
            "image/png": "[encoded data removed]",
            "text/plain": [
              "<Figure size 864x288 with 1 Axes>"
            ]
          },
          "metadata": {},
          "output_type": "display_data"
        }
      ],
      "source": [
        "fig = plt.figure(figsize = (12,4))\n",
        "ax1 = fig.add_subplot(131)\n",
        "PlotDimension(ax1, expression_habit_df, 'gender')\n",
        "plt.show()"
      ]
    },
    {
      "cell_type": "markdown",
      "metadata": {
        "id": "8oWn3vrRiHVW"
      },
      "source": [
        "## Less Female"
      ]
    },
    {
      "cell_type": "markdown",
      "metadata": {
        "id": "XwUEDtS3DASN"
      },
      "source": [
        "### Topic Modeling"
      ]
    },
    {
      "cell_type": "code",
      "execution_count": null,
      "metadata": {
        "id": "Js1NIVR8DASP"
      },
      "outputs": [],
      "source": [
        "preprocessed_texts = preprocess_documents(corpus_less_female)\n",
        "dictionary = Dictionary(preprocessed_texts)\n",
        "corpus = [dictionary.doc2bow(text) for text in preprocessed_texts]"
      ]
    },
    {
      "cell_type": "code",
      "execution_count": null,
      "metadata": {
        "id": "91k6a1GZDASQ"
      },
      "outputs": [],
      "source": [
        "ldamodel = LdaModel(corpus=corpus, num_topics=5, id2word=dictionary)"
      ]
    },
    {
      "cell_type": "code",
      "execution_count": null,
      "metadata": {
        "colab": {
          "base_uri": "https://localhost:8080/"
        },
        "id": "OMiopowbDASQ",
        "outputId": "5cc2feef-3615-4eb7-8b78-02d7d5f3d6c1"
      },
      "outputs": [
        {
          "data": {
            "text/plain": [
              "[(0,\n",
              "  '0.020*\"like\" + 0.019*\"know\" + 0.013*\"think\" + 0.011*\"got\" + 0.011*\"good\" + 0.008*\"time\" + 0.007*\"yeah\" + 0.007*\"look\" + 0.007*\"want\" + 0.006*\"tell\"'),\n",
              " (1,\n",
              "  '0.021*\"like\" + 0.019*\"come\" + 0.017*\"know\" + 0.016*\"want\" + 0.015*\"go\" + 0.012*\"right\" + 0.009*\"look\" + 0.009*\"let\" + 0.009*\"think\" + 0.008*\"love\"'),\n",
              " (2,\n",
              "  '0.016*\"know\" + 0.010*\"think\" + 0.009*\"year\" + 0.008*\"look\" + 0.007*\"like\" + 0.007*\"thing\" + 0.007*\"got\" + 0.007*\"thank\" + 0.007*\"time\" + 0.006*\"mean\"'),\n",
              " (3,\n",
              "  '0.022*\"ye\" + 0.021*\"want\" + 0.016*\"like\" + 0.014*\"think\" + 0.013*\"right\" + 0.012*\"go\" + 0.009*\"talk\" + 0.009*\"tell\" + 0.009*\"know\" + 0.008*\"look\"'),\n",
              " (4,\n",
              "  '0.038*\"know\" + 0.014*\"want\" + 0.009*\"gonna\" + 0.009*\"got\" + 0.008*\"think\" + 0.008*\"thing\" + 0.007*\"mean\" + 0.007*\"tell\" + 0.007*\"happen\" + 0.007*\"right\"')]"
            ]
          },
          "execution_count": 33,
          "metadata": {},
          "output_type": "execute_result"
        }
      ],
      "source": [
        "ldamodel.print_topics()"
      ]
    },
    {
      "cell_type": "markdown",
      "metadata": {
        "id": "7rP42ryviJ6F"
      },
      "source": [
        "### Cleaned"
      ]
    },
    {
      "cell_type": "code",
      "execution_count": null,
      "metadata": {
        "colab": {
          "base_uri": "https://localhost:8080/"
        },
        "id": "jy80DTcXif02",
        "outputId": "6aa21ced-da50-4157-ef1e-28d816c0c9e4"
      },
      "outputs": [
        {
          "data": {
            "text/plain": [
              "7789"
            ]
          },
          "execution_count": 43,
          "metadata": {},
          "output_type": "execute_result"
        }
      ],
      "source": [
        "from random import sample\n",
        "corpus_less_female_sampled = sample(corpus_less_female,7789)\n",
        "len(corpus_less_female_sampled)"
      ]
    },
    {
      "cell_type": "code",
      "execution_count": null,
      "metadata": {
        "id": "lgPb-JMrif03"
      },
      "outputs": [],
      "source": [
        "preprocessed_texts_less_female = preprocess_documents(corpus_less_female_sampled)"
      ]
    },
    {
      "cell_type": "code",
      "execution_count": null,
      "metadata": {
        "id": "NbC8phYPif03"
      },
      "outputs": [],
      "source": [
        "w2vmodel_less_female = Word2Vec(\n",
        "        preprocessed_texts_less_female,\n",
        "        size=7789,\n",
        "        window=10)"
      ]
    },
    {
      "cell_type": "code",
      "execution_count": null,
      "metadata": {
        "colab": {
          "base_uri": "https://localhost:8080/"
        },
        "id": "a-yNsyjCif03",
        "outputId": "0e17b02e-40b3-4f4b-8b44-8252c2aac8ec"
      },
      "outputs": [
        {
          "data": {
            "text/plain": [
              "[('harri', 0.9999659061431885),\n",
              " ('true', 0.9999659061431885),\n",
              " ('fell', 0.9999657273292542),\n",
              " ('ye', 0.999964714050293),\n",
              " ('life', 0.9999637603759766),\n",
              " ('fall', 0.9999633431434631),\n",
              " ('man', 0.9999631643295288),\n",
              " ('crazi', 0.9999630451202393),\n",
              " ('save', 0.9999630451202393),\n",
              " ('real', 0.9999629855155945)]"
            ]
          },
          "execution_count": 106,
          "metadata": {},
          "output_type": "execute_result"
        }
      ],
      "source": [
        "w2vmodel_less_female.wv.most_similar(\"love\")"
      ]
    },
    {
      "cell_type": "code",
      "execution_count": null,
      "metadata": {
        "colab": {
          "base_uri": "https://localhost:8080/"
        },
        "id": "8n9qyPXbif03",
        "outputId": "9e2af02b-11e6-490c-dee0-9707ac680944"
      },
      "outputs": [
        {
          "data": {
            "text/plain": [
              "[('know', 0.999927818775177),\n",
              " ('want', 0.9999231696128845),\n",
              " ('like', 0.999921977519989),\n",
              " ('thing', 0.9999199509620667),\n",
              " ('right', 0.9999197721481323),\n",
              " ('think', 0.9999192953109741),\n",
              " ('tell', 0.9999176859855652),\n",
              " ('mean', 0.9999165534973145),\n",
              " ('ain', 0.9999159574508667),\n",
              " ('go', 0.9999154210090637)]"
            ]
          },
          "execution_count": 60,
          "metadata": {},
          "output_type": "execute_result"
        }
      ],
      "source": [
        "w2vmodel_less_female.wv.most_similar(\"woman\")"
      ]
    },
    {
      "cell_type": "code",
      "execution_count": null,
      "metadata": {
        "colab": {
          "base_uri": "https://localhost:8080/"
        },
        "id": "r_K4bTgmif03",
        "outputId": "a2f75847-7b3e-4030-c6df-dcc70522ecb1"
      },
      "outputs": [
        {
          "data": {
            "text/plain": [
              "[('know', 0.9999697804450989),\n",
              " ('like', 0.9999666810035706),\n",
              " ('want', 0.9999649524688721),\n",
              " ('thing', 0.9999642372131348),\n",
              " ('think', 0.9999626278877258),\n",
              " ('right', 0.9999622106552124),\n",
              " ('tell', 0.999961256980896),\n",
              " ('mean', 0.9999610781669617),\n",
              " ('ain', 0.9999586939811707),\n",
              " ('go', 0.9999573826789856)]"
            ]
          },
          "execution_count": 61,
          "metadata": {},
          "output_type": "execute_result"
        }
      ],
      "source": [
        "w2vmodel_less_female.wv.most_similar(\"man\")"
      ]
    },
    {
      "cell_type": "code",
      "execution_count": null,
      "metadata": {
        "colab": {
          "base_uri": "https://localhost:8080/"
        },
        "id": "FI4pSMWoif03",
        "outputId": "cf84033c-d137-408e-be69-2ac2b26f8e0e"
      },
      "outputs": [
        {
          "name": "stderr",
          "output_type": "stream",
          "text": [
            "/usr/local/lib/python3.7/dist-packages/ipykernel_launcher.py:1: DeprecationWarning: Call to deprecated `most_similar` (Method will be removed in 4.0.0, use self.wv.most_similar() instead).\n",
            "  \"\"\"Entry point for launching an IPython kernel.\n"
          ]
        },
        {
          "data": {
            "text/plain": [
              "[('know', 0.9997264742851257),\n",
              " ('want', 0.9997234344482422),\n",
              " ('like', 0.99972003698349),\n",
              " ('think', 0.9997199773788452),\n",
              " ('thing', 0.9997189044952393),\n",
              " ('right', 0.9997172355651855),\n",
              " ('tell', 0.999717116355896),\n",
              " ('go', 0.9997162818908691),\n",
              " ('mean', 0.9997148513793945),\n",
              " ('night', 0.9997144341468811)]"
            ]
          },
          "execution_count": 62,
          "metadata": {},
          "output_type": "execute_result"
        }
      ],
      "source": [
        "w2vmodel_less_female.most_similar(positive=['power', 'woman'], negative = ['man'])"
      ]
    },
    {
      "cell_type": "code",
      "execution_count": null,
      "metadata": {
        "colab": {
          "base_uri": "https://localhost:8080/"
        },
        "id": "c-1Flm3Xif03",
        "outputId": "c45b9e56-0273-410f-decf-61f6129ce2b2"
      },
      "outputs": [
        {
          "name": "stderr",
          "output_type": "stream",
          "text": [
            "/usr/local/lib/python3.7/dist-packages/ipykernel_launcher.py:1: DeprecationWarning: Call to deprecated `most_similar` (Method will be removed in 4.0.0, use self.wv.most_similar() instead).\n",
            "  \"\"\"Entry point for launching an IPython kernel.\n"
          ]
        },
        {
          "data": {
            "text/plain": [
              "[('know', 0.9997166991233826),\n",
              " ('like', 0.9997149705886841),\n",
              " ('thing', 0.9997133612632751),\n",
              " ('want', 0.999713122844696),\n",
              " ('think', 0.9997127056121826),\n",
              " ('tell', 0.9997106790542603),\n",
              " ('mean', 0.9997096061706543),\n",
              " ('right', 0.9997081160545349),\n",
              " ('go', 0.9997060298919678),\n",
              " ('dai', 0.9997057318687439)]"
            ]
          },
          "execution_count": 71,
          "metadata": {},
          "output_type": "execute_result"
        }
      ],
      "source": [
        "w2vmodel_less_female.most_similar(positive=['power', 'man'], negative = ['woman'])"
      ]
    },
    {
      "cell_type": "markdown",
      "metadata": {
        "id": "1mfFV9JLiK7o"
      },
      "source": [
        "### Not Cleaned"
      ]
    },
    {
      "cell_type": "code",
      "execution_count": null,
      "metadata": {
        "colab": {
          "base_uri": "https://localhost:8080/"
        },
        "id": "iKk-hZTGHBkp",
        "outputId": "47dfdf26-d643-41df-9c19-d41851ab4ca8"
      },
      "outputs": [
        {
          "data": {
            "text/plain": [
              "7789"
            ]
          },
          "execution_count": 17,
          "metadata": {},
          "output_type": "execute_result"
        }
      ],
      "source": [
        "from random import sample\n",
        "corpus_less_female_sampled = sample(corpus_less_female,7789)\n",
        "len(corpus_less_female_sampled)"
      ]
    },
    {
      "cell_type": "code",
      "execution_count": null,
      "metadata": {
        "id": "uWbCLwrIi7D7"
      },
      "outputs": [],
      "source": [
        "tokenized_texts = []\n",
        "for conv in corpus_less_female_sampled:\n",
        "  tokenized_texts.append(preprocess_string(conv, CUSTOM_FILTERS))"
      ]
    },
    {
      "cell_type": "code",
      "execution_count": null,
      "metadata": {
        "id": "bd3JQzAui7D8"
      },
      "outputs": [],
      "source": [
        "from gensim.models import Word2Vec\n",
        "w2vmodel_less_female_uncleaned = Word2Vec(\n",
        "        tokenized_texts,\n",
        "        vector_size=7789,\n",
        "        window=10)"
      ]
    },
    {
      "cell_type": "code",
      "execution_count": null,
      "metadata": {
        "colab": {
          "base_uri": "https://localhost:8080/"
        },
        "id": "Ujb0FCR2i7D8",
        "outputId": "e08d94bb-548f-4384-be75-f569d9434771"
      },
      "outputs": [
        {
          "data": {
            "text/plain": [
              "[('granted', 0.9992688894271851),\n",
              " ('horror', 0.9988885521888733),\n",
              " ('flower', 0.9987589120864868),\n",
              " ('pink', 0.9982288479804993),\n",
              " ('named', 0.9982117414474487),\n",
              " ('blonde', 0.9981622099876404),\n",
              " ('age', 0.9981551766395569),\n",
              " ('terrified', 0.9980787634849548),\n",
              " ('book', 0.9980083107948303),\n",
              " ('times', 0.997382402420044)]"
            ]
          },
          "execution_count": 67,
          "metadata": {},
          "output_type": "execute_result"
        }
      ],
      "source": [
        "w2vmodel_less_female_uncleaned.wv.most_similar(\"woman\")"
      ]
    },
    {
      "cell_type": "code",
      "execution_count": null,
      "metadata": {
        "colab": {
          "base_uri": "https://localhost:8080/"
        },
        "id": "MJ71CU5si7D8",
        "outputId": "773a67e3-f451-4f61-9bda-3521178f47b4"
      },
      "outputs": [
        {
          "data": {
            "text/plain": [
              "[('image', 0.9945072531700134),\n",
              " ('coma', 0.9937885999679565),\n",
              " ('busted', 0.993058979511261),\n",
              " ('slut', 0.9921164512634277),\n",
              " ('has', 0.991152286529541),\n",
              " ('cousin', 0.9900646209716797),\n",
              " ('guy', 0.9890527725219727),\n",
              " ('recently', 0.9872414469718933),\n",
              " ('wife', 0.9870291948318481),\n",
              " ('filth', 0.9861197471618652)]"
            ]
          },
          "execution_count": 68,
          "metadata": {},
          "output_type": "execute_result"
        }
      ],
      "source": [
        "w2vmodel_less_female_uncleaned.wv.most_similar(\"man\")"
      ]
    },
    {
      "cell_type": "code",
      "execution_count": null,
      "metadata": {
        "colab": {
          "base_uri": "https://localhost:8080/"
        },
        "id": "caKdkCJEi7D8",
        "outputId": "917159e8-50d4-4703-91c3-b6e5db1d72d9"
      },
      "outputs": [
        {
          "name": "stderr",
          "output_type": "stream",
          "text": [
            "/usr/local/lib/python3.7/dist-packages/ipykernel_launcher.py:1: DeprecationWarning: Call to deprecated `most_similar` (Method will be removed in 4.0.0, use self.wv.most_similar() instead).\n",
            "  \"\"\"Entry point for launching an IPython kernel.\n"
          ]
        },
        {
          "data": {
            "text/plain": [
              "[('these', 0.9978482127189636),\n",
              " ('stealing', 0.9976809024810791),\n",
              " ('taking', 0.99758380651474),\n",
              " ('split', 0.9975347518920898),\n",
              " ('jobs', 0.9971550107002258),\n",
              " ('marty', 0.9970844388008118),\n",
              " ('eggs', 0.9970653653144836),\n",
              " ('bloody', 0.9970266222953796),\n",
              " ('toast', 0.9970001578330994),\n",
              " ('guys', 0.9967983365058899)]"
            ]
          },
          "execution_count": 69,
          "metadata": {},
          "output_type": "execute_result"
        }
      ],
      "source": [
        "w2vmodel_less_female_uncleaned.most_similar(positive=['power', 'woman'], negative = ['man'])"
      ]
    },
    {
      "cell_type": "code",
      "execution_count": null,
      "metadata": {
        "colab": {
          "base_uri": "https://localhost:8080/"
        },
        "id": "u9Nqus6bi7D8",
        "outputId": "d3b42c09-6c7d-44a8-88c3-897ea39bf67b"
      },
      "outputs": [
        {
          "name": "stderr",
          "output_type": "stream",
          "text": [
            "/usr/local/lib/python3.7/dist-packages/ipykernel_launcher.py:1: DeprecationWarning: Call to deprecated `most_similar` (Method will be removed in 4.0.0, use self.wv.most_similar() instead).\n",
            "  \"\"\"Entry point for launching an IPython kernel.\n"
          ]
        },
        {
          "data": {
            "text/plain": [
              "[('pocket', 0.9961706399917603),\n",
              " ('navy', 0.9960992336273193),\n",
              " ('wife', 0.9953058362007141),\n",
              " ('guy', 0.9941461086273193),\n",
              " ('thirst', 0.9937496185302734),\n",
              " ('operation', 0.993489146232605),\n",
              " ('eleven', 0.9927404522895813),\n",
              " ('wrote', 0.9926663637161255),\n",
              " ('coma', 0.99258953332901),\n",
              " ('italy', 0.9924782514572144)]"
            ]
          },
          "execution_count": 70,
          "metadata": {},
          "output_type": "execute_result"
        }
      ],
      "source": [
        "w2vmodel_less_female_uncleaned.most_similar(positive=['power', 'man'], negative = ['woman'])"
      ]
    },
    {
      "cell_type": "markdown",
      "metadata": {
        "id": "zUA4tn-Tmc6J"
      },
      "source": [
        "#### Visualization"
      ]
    },
    {
      "cell_type": "markdown",
      "metadata": {
        "id": "eW5LCuE1qk63"
      },
      "source": [
        "I only employed visualization on the not cleaned version of the Word2Vec, as it displays more differences based on gender"
      ]
    },
    {
      "cell_type": "code",
      "execution_count": null,
      "metadata": {
        "id": "8PAy8SrxIhrs"
      },
      "outputs": [],
      "source": [
        "import sklearn"
      ]
    },
    {
      "cell_type": "code",
      "execution_count": null,
      "metadata": {
        "id": "0rYUrMwKnSQ0"
      },
      "outputs": [],
      "source": [
        "def normalize(vector):\n",
        "    normalized_vector = vector / np.linalg.norm(vector)\n",
        "    return normalized_vector\n",
        "\n",
        "def dimension(model, positives, negatives):\n",
        "    diff = sum([normalize(model[x]) for x in positives]) - sum([normalize(model[y]) for y in negatives])\n",
        "    return diff"
      ]
    },
    {
      "cell_type": "code",
      "execution_count": null,
      "metadata": {
        "colab": {
          "base_uri": "https://localhost:8080/"
        },
        "id": "cTBm08WSnSm8",
        "outputId": "37d78efd-c84a-41ce-cd43-ff66d7da8f13"
      },
      "outputs": [
        {
          "name": "stderr",
          "output_type": "stream",
          "text": [
            "/usr/local/lib/python3.7/dist-packages/ipykernel_launcher.py:6: DeprecationWarning: Call to deprecated `__getitem__` (Method will be removed in 4.0.0, use self.wv.__getitem__() instead).\n",
            "  \n"
          ]
        }
      ],
      "source": [
        "Gender = dimension(w2vmodel_less_female_uncleaned, ['man','him','he'], ['woman', 'her', 'she'])"
      ]
    },
    {
      "cell_type": "code",
      "execution_count": null,
      "metadata": {
        "id": "M9rRgjfZna6f"
      },
      "outputs": [],
      "source": [
        "occupation_and_family = ['cop', 'killer', 'doctor', 'teacher', 'child', 'family', 'baby', 'mother',]\n",
        "\n",
        "verb_adj = ['hate', 'love', 'smart', 'young', 'old', 'beautiful', 'attractive', 'strong', 'handsome', 'charming']\n",
        "\n",
        "expression_habit  = ['wanna', 'want', 'need', 'gotta', 'got', 'fuck', 'yeah', 'yes']"
      ]
    },
    {
      "cell_type": "code",
      "execution_count": null,
      "metadata": {
        "collapsed": true,
        "id": "qqG4Ie01JN5T"
      },
      "outputs": [],
      "source": [
        "def makeDF(model, word_list):\n",
        "    g = []\n",
        "    for word in word_list:\n",
        "        g.append(sklearn.metrics.pairwise.cosine_similarity(model[word].reshape(1,-1), Gender.reshape(1,-1))[0][0])\n",
        "    df = pd.DataFrame({'gender': g}, index = word_list)\n",
        "    return df"
      ]
    },
    {
      "cell_type": "code",
      "execution_count": null,
      "metadata": {
        "colab": {
          "base_uri": "https://localhost:8080/"
        },
        "collapsed": true,
        "id": "5ZTBSrQxJN5U",
        "outputId": "e6373607-7c4f-432c-cd7a-31b9e538555d"
      },
      "outputs": [
        {
          "name": "stderr",
          "output_type": "stream",
          "text": [
            "/usr/local/lib/python3.7/dist-packages/ipykernel_launcher.py:4: DeprecationWarning: Call to deprecated `__getitem__` (Method will be removed in 4.0.0, use self.wv.__getitem__() instead).\n",
            "  after removing the cwd from sys.path.\n",
            "/usr/local/lib/python3.7/dist-packages/ipykernel_launcher.py:4: DeprecationWarning: Call to deprecated `__getitem__` (Method will be removed in 4.0.0, use self.wv.__getitem__() instead).\n",
            "  after removing the cwd from sys.path.\n",
            "/usr/local/lib/python3.7/dist-packages/ipykernel_launcher.py:4: DeprecationWarning: Call to deprecated `__getitem__` (Method will be removed in 4.0.0, use self.wv.__getitem__() instead).\n",
            "  after removing the cwd from sys.path.\n",
            "/usr/local/lib/python3.7/dist-packages/ipykernel_launcher.py:4: DeprecationWarning: Call to deprecated `__getitem__` (Method will be removed in 4.0.0, use self.wv.__getitem__() instead).\n",
            "  after removing the cwd from sys.path.\n",
            "/usr/local/lib/python3.7/dist-packages/ipykernel_launcher.py:4: DeprecationWarning: Call to deprecated `__getitem__` (Method will be removed in 4.0.0, use self.wv.__getitem__() instead).\n",
            "  after removing the cwd from sys.path.\n",
            "/usr/local/lib/python3.7/dist-packages/ipykernel_launcher.py:4: DeprecationWarning: Call to deprecated `__getitem__` (Method will be removed in 4.0.0, use self.wv.__getitem__() instead).\n",
            "  after removing the cwd from sys.path.\n",
            "/usr/local/lib/python3.7/dist-packages/ipykernel_launcher.py:4: DeprecationWarning: Call to deprecated `__getitem__` (Method will be removed in 4.0.0, use self.wv.__getitem__() instead).\n",
            "  after removing the cwd from sys.path.\n",
            "/usr/local/lib/python3.7/dist-packages/ipykernel_launcher.py:4: DeprecationWarning: Call to deprecated `__getitem__` (Method will be removed in 4.0.0, use self.wv.__getitem__() instead).\n",
            "  after removing the cwd from sys.path.\n",
            "/usr/local/lib/python3.7/dist-packages/ipykernel_launcher.py:4: DeprecationWarning: Call to deprecated `__getitem__` (Method will be removed in 4.0.0, use self.wv.__getitem__() instead).\n",
            "  after removing the cwd from sys.path.\n",
            "/usr/local/lib/python3.7/dist-packages/ipykernel_launcher.py:4: DeprecationWarning: Call to deprecated `__getitem__` (Method will be removed in 4.0.0, use self.wv.__getitem__() instead).\n",
            "  after removing the cwd from sys.path.\n",
            "/usr/local/lib/python3.7/dist-packages/ipykernel_launcher.py:4: DeprecationWarning: Call to deprecated `__getitem__` (Method will be removed in 4.0.0, use self.wv.__getitem__() instead).\n",
            "  after removing the cwd from sys.path.\n",
            "/usr/local/lib/python3.7/dist-packages/ipykernel_launcher.py:4: DeprecationWarning: Call to deprecated `__getitem__` (Method will be removed in 4.0.0, use self.wv.__getitem__() instead).\n",
            "  after removing the cwd from sys.path.\n",
            "/usr/local/lib/python3.7/dist-packages/ipykernel_launcher.py:4: DeprecationWarning: Call to deprecated `__getitem__` (Method will be removed in 4.0.0, use self.wv.__getitem__() instead).\n",
            "  after removing the cwd from sys.path.\n",
            "/usr/local/lib/python3.7/dist-packages/ipykernel_launcher.py:4: DeprecationWarning: Call to deprecated `__getitem__` (Method will be removed in 4.0.0, use self.wv.__getitem__() instead).\n",
            "  after removing the cwd from sys.path.\n",
            "/usr/local/lib/python3.7/dist-packages/ipykernel_launcher.py:4: DeprecationWarning: Call to deprecated `__getitem__` (Method will be removed in 4.0.0, use self.wv.__getitem__() instead).\n",
            "  after removing the cwd from sys.path.\n",
            "/usr/local/lib/python3.7/dist-packages/ipykernel_launcher.py:4: DeprecationWarning: Call to deprecated `__getitem__` (Method will be removed in 4.0.0, use self.wv.__getitem__() instead).\n",
            "  after removing the cwd from sys.path.\n",
            "/usr/local/lib/python3.7/dist-packages/ipykernel_launcher.py:4: DeprecationWarning: Call to deprecated `__getitem__` (Method will be removed in 4.0.0, use self.wv.__getitem__() instead).\n",
            "  after removing the cwd from sys.path.\n",
            "/usr/local/lib/python3.7/dist-packages/ipykernel_launcher.py:4: DeprecationWarning: Call to deprecated `__getitem__` (Method will be removed in 4.0.0, use self.wv.__getitem__() instead).\n",
            "  after removing the cwd from sys.path.\n",
            "/usr/local/lib/python3.7/dist-packages/ipykernel_launcher.py:4: DeprecationWarning: Call to deprecated `__getitem__` (Method will be removed in 4.0.0, use self.wv.__getitem__() instead).\n",
            "  after removing the cwd from sys.path.\n",
            "/usr/local/lib/python3.7/dist-packages/ipykernel_launcher.py:4: DeprecationWarning: Call to deprecated `__getitem__` (Method will be removed in 4.0.0, use self.wv.__getitem__() instead).\n",
            "  after removing the cwd from sys.path.\n",
            "/usr/local/lib/python3.7/dist-packages/ipykernel_launcher.py:4: DeprecationWarning: Call to deprecated `__getitem__` (Method will be removed in 4.0.0, use self.wv.__getitem__() instead).\n",
            "  after removing the cwd from sys.path.\n",
            "/usr/local/lib/python3.7/dist-packages/ipykernel_launcher.py:4: DeprecationWarning: Call to deprecated `__getitem__` (Method will be removed in 4.0.0, use self.wv.__getitem__() instead).\n",
            "  after removing the cwd from sys.path.\n",
            "/usr/local/lib/python3.7/dist-packages/ipykernel_launcher.py:4: DeprecationWarning: Call to deprecated `__getitem__` (Method will be removed in 4.0.0, use self.wv.__getitem__() instead).\n",
            "  after removing the cwd from sys.path.\n",
            "/usr/local/lib/python3.7/dist-packages/ipykernel_launcher.py:4: DeprecationWarning: Call to deprecated `__getitem__` (Method will be removed in 4.0.0, use self.wv.__getitem__() instead).\n",
            "  after removing the cwd from sys.path.\n",
            "/usr/local/lib/python3.7/dist-packages/ipykernel_launcher.py:4: DeprecationWarning: Call to deprecated `__getitem__` (Method will be removed in 4.0.0, use self.wv.__getitem__() instead).\n",
            "  after removing the cwd from sys.path.\n",
            "/usr/local/lib/python3.7/dist-packages/ipykernel_launcher.py:4: DeprecationWarning: Call to deprecated `__getitem__` (Method will be removed in 4.0.0, use self.wv.__getitem__() instead).\n",
            "  after removing the cwd from sys.path.\n"
          ]
        }
      ],
      "source": [
        "occupation_and_family_df = makeDF(w2vmodel_less_female_uncleaned, occupation_and_family) \n",
        "verb_adj_df = makeDF(w2vmodel_less_female_uncleaned, verb_adj) \n",
        "expression_habit_df = makeDF(w2vmodel_less_female_uncleaned, expression_habit)"
      ]
    },
    {
      "cell_type": "code",
      "execution_count": null,
      "metadata": {
        "collapsed": true,
        "id": "sac9-aDsJN5U"
      },
      "outputs": [],
      "source": [
        "def Coloring(Series):\n",
        "    x = Series.values\n",
        "    y = x-x.min()\n",
        "    z = y/y.max()\n",
        "    c = list(plt.cm.rainbow(z))\n",
        "    return c\n",
        "\n",
        "def PlotDimension(ax,df, dim):\n",
        "    ax.set_frame_on(False)\n",
        "    ax.set_title(dim, fontsize = 20)\n",
        "    colors = Coloring(df[dim])\n",
        "    for i, word in enumerate(df.index):\n",
        "        ax.annotate(word, (0, df[dim][i]), color = colors[i], alpha = 0.6, fontsize = 12)\n",
        "    MaxY = df[dim].max()\n",
        "    MinY = df[dim].min()\n",
        "    plt.ylim(MinY,MaxY)\n",
        "    plt.yticks(())\n",
        "    plt.xticks(())"
      ]
    },
    {
      "cell_type": "markdown",
      "metadata": {
        "id": "OHCz78HRtXil"
      },
      "source": [
        "##### Occupation and Family\n"
      ]
    },
    {
      "cell_type": "code",
      "execution_count": null,
      "metadata": {
        "colab": {
          "base_uri": "https://localhost:8080/",
          "height": 272
        },
        "id": "8DXJE8pvJN5U",
        "outputId": "c9a43296-f40a-484f-8b88-8ab6d2d779f4",
        "scrolled": true
      },
      "outputs": [
        {
          "data": {
            "image/png": "[encoded data removed]",
            "text/plain": [
              "<Figure size 864x288 with 1 Axes>"
            ]
          },
          "metadata": {},
          "output_type": "display_data"
        }
      ],
      "source": [
        "fig = plt.figure(figsize = (12,4))\n",
        "ax1 = fig.add_subplot(131)\n",
        "PlotDimension(ax1, occupation_and_family_df, 'gender')\n",
        "plt.show()"
      ]
    },
    {
      "cell_type": "markdown",
      "metadata": {
        "id": "mY7jjUD4tOCD"
      },
      "source": [
        "##### Verbs and Adjective\n"
      ]
    },
    {
      "cell_type": "code",
      "execution_count": null,
      "metadata": {
        "colab": {
          "base_uri": "https://localhost:8080/",
          "height": 490
        },
        "id": "Gl9Iy1diJN5U",
        "outputId": "6d9e543c-c73c-4fc5-a2c1-c4110e1ddebe"
      },
      "outputs": [
        {
          "data": {
            "image/png": "[encoded data removed]",
            "text/plain": [
              "<Figure size 864x576 with 1 Axes>"
            ]
          },
          "metadata": {},
          "output_type": "display_data"
        }
      ],
      "source": [
        "fig = plt.figure(figsize = (12,8))\n",
        "ax1 = fig.add_subplot(131)\n",
        "PlotDimension(ax1, verb_adj_df, 'gender')\n",
        "plt.show()"
      ]
    },
    {
      "cell_type": "markdown",
      "metadata": {
        "id": "w7shd6_JtHak"
      },
      "source": [
        "##### Expression Habbit\n"
      ]
    },
    {
      "cell_type": "code",
      "execution_count": null,
      "metadata": {
        "colab": {
          "base_uri": "https://localhost:8080/",
          "height": 272
        },
        "id": "q2lRDl89JN5U",
        "outputId": "9bd8b2be-d637-40aa-d298-68734b7230c5"
      },
      "outputs": [
        {
          "data": {
            "image/png": "[encoded data removed]",
            "text/plain": [
              "<Figure size 864x288 with 1 Axes>"
            ]
          },
          "metadata": {},
          "output_type": "display_data"
        }
      ],
      "source": [
        "fig = plt.figure(figsize = (12,4))\n",
        "ax1 = fig.add_subplot(131)\n",
        "PlotDimension(ax1, expression_habit_df, 'gender')\n",
        "plt.show()"
      ]
    },
    {
      "cell_type": "markdown",
      "metadata": {
        "id": "aZJUk5S8iIrg"
      },
      "source": [
        "## More Female"
      ]
    },
    {
      "cell_type": "markdown",
      "metadata": {
        "id": "tUCNLOV9DPA_"
      },
      "source": [
        "### Topic Modeling"
      ]
    },
    {
      "cell_type": "code",
      "execution_count": null,
      "metadata": {
        "id": "mGO2jWlfDPBP"
      },
      "outputs": [],
      "source": [
        "preprocessed_texts = preprocess_documents(corpus_less_female)\n",
        "dictionary = Dictionary(preprocessed_texts)\n",
        "corpus = [dictionary.doc2bow(text) for text in preprocessed_texts]"
      ]
    },
    {
      "cell_type": "code",
      "execution_count": null,
      "metadata": {
        "id": "43Hdax7nDPBP"
      },
      "outputs": [],
      "source": [
        "ldamodel = LdaModel(corpus=corpus, num_topics=5, id2word=dictionary)"
      ]
    },
    {
      "cell_type": "code",
      "execution_count": null,
      "metadata": {
        "colab": {
          "base_uri": "https://localhost:8080/"
        },
        "id": "VjuOyDiyDPBP",
        "outputId": "edf09663-f7ff-48fd-9613-f786196ff70d"
      },
      "outputs": [
        {
          "data": {
            "text/plain": [
              "[(0,\n",
              "  '0.012*\"like\" + 0.011*\"know\" + 0.010*\"time\" + 0.010*\"year\" + 0.008*\"think\" + 0.008*\"got\" + 0.007*\"dai\" + 0.007*\"look\" + 0.006*\"work\" + 0.006*\"right\"'),\n",
              " (1,\n",
              "  '0.020*\"ye\" + 0.012*\"right\" + 0.009*\"thank\" + 0.007*\"know\" + 0.006*\"believ\" + 0.006*\"miss\" + 0.006*\"like\" + 0.005*\"okai\" + 0.005*\"think\" + 0.004*\"got\"'),\n",
              " (2,\n",
              "  '0.039*\"know\" + 0.026*\"like\" + 0.023*\"think\" + 0.019*\"want\" + 0.014*\"go\" + 0.014*\"tell\" + 0.014*\"look\" + 0.011*\"right\" + 0.010*\"yeah\" + 0.010*\"thing\"'),\n",
              " (3,\n",
              "  '0.016*\"go\" + 0.016*\"want\" + 0.012*\"let\" + 0.011*\"good\" + 0.011*\"time\" + 0.010*\"like\" + 0.009*\"talk\" + 0.009*\"right\" + 0.008*\"sure\" + 0.007*\"come\"'),\n",
              " (4,\n",
              "  '0.022*\"know\" + 0.016*\"got\" + 0.015*\"come\" + 0.011*\"want\" + 0.011*\"need\" + 0.008*\"like\" + 0.007*\"girl\" + 0.007*\"love\" + 0.006*\"mean\" + 0.006*\"time\"')]"
            ]
          },
          "execution_count": 36,
          "metadata": {},
          "output_type": "execute_result"
        }
      ],
      "source": [
        "ldamodel.print_topics()"
      ]
    },
    {
      "cell_type": "markdown",
      "metadata": {
        "id": "t3WfUc9SiNVG"
      },
      "source": [
        "### Cleaned"
      ]
    },
    {
      "cell_type": "code",
      "execution_count": null,
      "metadata": {
        "id": "yeyCQLkujoG1"
      },
      "outputs": [],
      "source": [
        "preprocessed_texts_more_female = preprocess_documents(corpus_more_female)"
      ]
    },
    {
      "cell_type": "code",
      "execution_count": null,
      "metadata": {
        "id": "2nheKStcjoG1"
      },
      "outputs": [],
      "source": [
        "w2vmodel_more_female = Word2Vec(\n",
        "        preprocessed_texts_more_female,\n",
        "        size=7789,\n",
        "        window=10)"
      ]
    },
    {
      "cell_type": "code",
      "execution_count": null,
      "metadata": {
        "colab": {
          "base_uri": "https://localhost:8080/"
        },
        "id": "hy0dHq3QjoG1",
        "outputId": "f7602fb4-541f-489f-adb2-8413c04e9c30"
      },
      "outputs": [
        {
          "data": {
            "text/plain": [
              "[('order', 0.9999989867210388),\n",
              " ('countri', 0.999998927116394),\n",
              " ('face', 0.999998927116394),\n",
              " ('turn', 0.999998927116394),\n",
              " ('write', 0.9999988675117493),\n",
              " ('pick', 0.9999988675117493),\n",
              " ('follow', 0.9999988675117493),\n",
              " ('end', 0.9999988079071045),\n",
              " ('gave', 0.9999988079071045),\n",
              " ('hand', 0.9999988079071045)]"
            ]
          },
          "execution_count": 82,
          "metadata": {},
          "output_type": "execute_result"
        }
      ],
      "source": [
        "w2vmodel_more_female.wv.most_similar(\"power\")"
      ]
    },
    {
      "cell_type": "code",
      "execution_count": null,
      "metadata": {
        "colab": {
          "base_uri": "https://localhost:8080/"
        },
        "id": "_3ZKzjOejoG1",
        "outputId": "4687b9e8-2e3a-49e6-9b0e-d5847461ac18"
      },
      "outputs": [
        {
          "data": {
            "text/plain": [
              "[('write', 0.9999987483024597),\n",
              " ('hand', 0.9999986886978149),\n",
              " ('world', 0.9999986886978149),\n",
              " ('young', 0.9999986886978149),\n",
              " ('wonder', 0.9999986290931702),\n",
              " ('cours', 0.9999986290931702),\n",
              " ('interest', 0.9999986290931702),\n",
              " ('make', 0.9999985694885254),\n",
              " ('face', 0.9999985098838806),\n",
              " ('end', 0.9999985098838806)]"
            ]
          },
          "execution_count": 83,
          "metadata": {},
          "output_type": "execute_result"
        }
      ],
      "source": [
        "w2vmodel_more_female.wv.most_similar(\"woman\")"
      ]
    },
    {
      "cell_type": "code",
      "execution_count": null,
      "metadata": {
        "colab": {
          "base_uri": "https://localhost:8080/"
        },
        "id": "Zw6LTgYKjoG1",
        "outputId": "114cd483-89bd-4d4b-ba1a-421cd6529845"
      },
      "outputs": [
        {
          "data": {
            "text/plain": [
              "[('woman', 0.999998152256012),\n",
              " ('young', 0.9999979734420776),\n",
              " ('interest', 0.9999976754188538),\n",
              " ('ladi', 0.9999975562095642),\n",
              " ('ey', 0.9999974370002747),\n",
              " ('beauti', 0.9999973773956299),\n",
              " ('hand', 0.9999973177909851),\n",
              " ('wonder', 0.9999972581863403),\n",
              " ('boi', 0.9999972581863403),\n",
              " ('make', 0.9999971985816956)]"
            ]
          },
          "execution_count": 84,
          "metadata": {},
          "output_type": "execute_result"
        }
      ],
      "source": [
        "w2vmodel_more_female.wv.most_similar(\"man\")"
      ]
    },
    {
      "cell_type": "code",
      "execution_count": null,
      "metadata": {
        "colab": {
          "base_uri": "https://localhost:8080/"
        },
        "id": "L7pHzVY0joG1",
        "outputId": "f15046e7-d3e9-4a8f-bf1e-9bd04672d476"
      },
      "outputs": [
        {
          "name": "stderr",
          "output_type": "stream",
          "text": [
            "/usr/local/lib/python3.7/dist-packages/ipykernel_launcher.py:1: DeprecationWarning: Call to deprecated `most_similar` (Method will be removed in 4.0.0, use self.wv.most_similar() instead).\n",
            "  \"\"\"Entry point for launching an IPython kernel.\n"
          ]
        },
        {
          "data": {
            "text/plain": [
              "[('pick', 0.9999973177909851),\n",
              " ('clean', 0.9999973177909851),\n",
              " ('moment', 0.9999971985816956),\n",
              " ('us', 0.9999971985816956),\n",
              " ('write', 0.9999971985816956),\n",
              " ('open', 0.9999971389770508),\n",
              " ('end', 0.9999971389770508),\n",
              " ('paper', 0.9999971389770508),\n",
              " ('countri', 0.9999971389770508),\n",
              " ('worri', 0.999997079372406)]"
            ]
          },
          "execution_count": 85,
          "metadata": {},
          "output_type": "execute_result"
        }
      ],
      "source": [
        "w2vmodel_more_female.most_similar(positive=['power', 'woman'], negative = ['man'])"
      ]
    },
    {
      "cell_type": "code",
      "execution_count": null,
      "metadata": {
        "colab": {
          "base_uri": "https://localhost:8080/"
        },
        "id": "CLe2TzzcjoG1",
        "outputId": "f0956067-8bf6-4fa2-cd38-b462938e9f23"
      },
      "outputs": [
        {
          "name": "stderr",
          "output_type": "stream",
          "text": [
            "/usr/local/lib/python3.7/dist-packages/ipykernel_launcher.py:1: DeprecationWarning: Call to deprecated `most_similar` (Method will be removed in 4.0.0, use self.wv.most_similar() instead).\n",
            "  \"\"\"Entry point for launching an IPython kernel.\n"
          ]
        },
        {
          "data": {
            "text/plain": [
              "[('young', 0.9999973773956299),\n",
              " ('hand', 0.9999971389770508),\n",
              " ('poor', 0.999997079372406),\n",
              " ('ladi', 0.999997079372406),\n",
              " ('small', 0.9999970197677612),\n",
              " ('follow', 0.9999970197677612),\n",
              " ('probabl', 0.9999969601631165),\n",
              " ('stupid', 0.9999969601631165),\n",
              " ('sent', 0.9999969601631165),\n",
              " ('write', 0.9999969601631165)]"
            ]
          },
          "execution_count": 86,
          "metadata": {},
          "output_type": "execute_result"
        }
      ],
      "source": [
        "w2vmodel_more_female.most_similar(positive=['power', 'man'], negative = ['woman'])"
      ]
    },
    {
      "cell_type": "markdown",
      "metadata": {
        "id": "nNf2ZsNjiOcK"
      },
      "source": [
        "### Not Cleaned"
      ]
    },
    {
      "cell_type": "code",
      "execution_count": null,
      "metadata": {
        "id": "K5hN2Q-skNQq"
      },
      "outputs": [],
      "source": [
        "tokenized_texts = []\n",
        "for conv in corpus_more_female:\n",
        "  tokenized_texts.append(preprocess_string(conv, CUSTOM_FILTERS))"
      ]
    },
    {
      "cell_type": "code",
      "execution_count": null,
      "metadata": {
        "id": "RCPdbN5rkNQr"
      },
      "outputs": [],
      "source": [
        "from gensim.models import Word2Vec\n",
        "w2vmodel_more_female_uncleaned = Word2Vec(\n",
        "        tokenized_texts,\n",
        "        size=7789,\n",
        "        window=10)"
      ]
    },
    {
      "cell_type": "code",
      "execution_count": null,
      "metadata": {
        "colab": {
          "base_uri": "https://localhost:8080/"
        },
        "id": "JexqmHVKls3I",
        "outputId": "9fb805a2-dabd-4d77-e297-93fd84fa3dff"
      },
      "outputs": [
        {
          "data": {
            "text/plain": [
              "[('hate', 0.957004964351654),\n",
              " ('asked', 0.9503551721572876),\n",
              " ('hear', 0.9396740198135376),\n",
              " ('happened', 0.9350411891937256),\n",
              " ('woke', 0.9217892289161682),\n",
              " ('wish', 0.9182931780815125),\n",
              " ('listened', 0.9172548055648804),\n",
              " ('deserve', 0.9169361591339111),\n",
              " ('lied', 0.916709840297699),\n",
              " ('say', 0.9156544804573059)]"
            ]
          },
          "execution_count": 107,
          "metadata": {},
          "output_type": "execute_result"
        }
      ],
      "source": [
        "w2vmodel_more_female_uncleaned.wv.most_similar(\"love\")"
      ]
    },
    {
      "cell_type": "code",
      "execution_count": null,
      "metadata": {
        "colab": {
          "base_uri": "https://localhost:8080/"
        },
        "id": "kBfrb-E9lJOY",
        "outputId": "00152b18-cefb-44d0-a722-643bc59c8e2d"
      },
      "outputs": [
        {
          "data": {
            "text/plain": [
              "[('father', 0.9870054125785828),\n",
              " ('alcoholic', 0.9735621809959412),\n",
              " ('name', 0.9720618724822998),\n",
              " ('passport', 0.9656678438186646),\n",
              " ('developed', 0.9489994049072266),\n",
              " ('compared', 0.9432629346847534),\n",
              " ('boy', 0.943179726600647),\n",
              " ('wounded', 0.9418613314628601),\n",
              " ('marsh', 0.9417946338653564),\n",
              " ('mac', 0.941193699836731)]"
            ]
          },
          "execution_count": 99,
          "metadata": {},
          "output_type": "execute_result"
        }
      ],
      "source": [
        "w2vmodel_more_female_uncleaned.wv.most_similar(\"mother\")"
      ]
    },
    {
      "cell_type": "code",
      "execution_count": null,
      "metadata": {
        "colab": {
          "base_uri": "https://localhost:8080/"
        },
        "id": "ik6R7AyikNQr",
        "outputId": "f57e058f-36b1-4062-9170-d0e6fd332dfc"
      },
      "outputs": [
        {
          "data": {
            "text/plain": [
              "[('spray', 0.9927793741226196),\n",
              " ('husband', 0.9924948215484619),\n",
              " ('convent', 0.9918259382247925),\n",
              " ('pierce', 0.9917721152305603),\n",
              " ('smokes', 0.9915075898170471),\n",
              " ('wife', 0.9909489750862122),\n",
              " ('girl', 0.9905453324317932),\n",
              " ('thrill', 0.9902453422546387),\n",
              " ('disappeared', 0.9899625182151794),\n",
              " ('marsh', 0.9895636439323425)]"
            ]
          },
          "execution_count": 91,
          "metadata": {},
          "output_type": "execute_result"
        }
      ],
      "source": [
        "w2vmodel_more_female_uncleaned.wv.most_similar(\"woman\")"
      ]
    },
    {
      "cell_type": "code",
      "execution_count": null,
      "metadata": {
        "colab": {
          "base_uri": "https://localhost:8080/"
        },
        "id": "I04ZeeGAkNQr",
        "outputId": "e34fa9b9-b8f3-43fe-9c0f-0bc523d6f23c"
      },
      "outputs": [
        {
          "data": {
            "text/plain": [
              "[('boy', 0.9764249920845032),\n",
              " ('jacques', 0.9757789373397827),\n",
              " ('developed', 0.9753072261810303),\n",
              " ('doctor', 0.9729557633399963),\n",
              " ('stephen', 0.9719595313072205),\n",
              " ('weapon', 0.97104811668396),\n",
              " ('loser', 0.9709945917129517),\n",
              " ('fake', 0.970379114151001),\n",
              " ('believes', 0.9702553749084473),\n",
              " ('piano', 0.9695860147476196)]"
            ]
          },
          "execution_count": 92,
          "metadata": {},
          "output_type": "execute_result"
        }
      ],
      "source": [
        "w2vmodel_more_female_uncleaned.wv.most_similar(\"man\")"
      ]
    },
    {
      "cell_type": "code",
      "execution_count": null,
      "metadata": {
        "colab": {
          "base_uri": "https://localhost:8080/"
        },
        "id": "uevMpNfFkNQr",
        "outputId": "9c0c850f-66b1-4530-e9ca-9129f5cbc8e6"
      },
      "outputs": [
        {
          "name": "stderr",
          "output_type": "stream",
          "text": [
            "/usr/local/lib/python3.7/dist-packages/ipykernel_launcher.py:1: DeprecationWarning: Call to deprecated `most_similar` (Method will be removed in 4.0.0, use self.wv.most_similar() instead).\n",
            "  \"\"\"Entry point for launching an IPython kernel.\n"
          ]
        },
        {
          "data": {
            "text/plain": [
              "[('crop', 0.976965606212616),\n",
              " ('salary', 0.9739091396331787),\n",
              " ('hung', 0.9736359715461731),\n",
              " ('feathers', 0.9734643697738647),\n",
              " ('wilt', 0.9730786085128784),\n",
              " ('balls', 0.9723178148269653),\n",
              " ('pair', 0.9719560146331787),\n",
              " ('plain', 0.9710779786109924),\n",
              " ('fought', 0.9706246852874756),\n",
              " ('caterer', 0.9705604910850525)]"
            ]
          },
          "execution_count": 93,
          "metadata": {},
          "output_type": "execute_result"
        }
      ],
      "source": [
        "w2vmodel_more_female_uncleaned.most_similar(positive=['power', 'woman'], negative = ['man'])"
      ]
    },
    {
      "cell_type": "code",
      "execution_count": null,
      "metadata": {
        "colab": {
          "base_uri": "https://localhost:8080/"
        },
        "id": "2q69KuDbkNQr",
        "outputId": "ad0b6b8a-e511-4bac-c641-dd10fc42dcd8"
      },
      "outputs": [
        {
          "name": "stderr",
          "output_type": "stream",
          "text": [
            "/usr/local/lib/python3.7/dist-packages/ipykernel_launcher.py:1: DeprecationWarning: Call to deprecated `most_similar` (Method will be removed in 4.0.0, use self.wv.most_similar() instead).\n",
            "  \"\"\"Entry point for launching an IPython kernel.\n"
          ]
        },
        {
          "data": {
            "text/plain": [
              "[('con', 0.9845854043960571),\n",
              " ('possibility', 0.9831956028938293),\n",
              " ('block', 0.9812472462654114),\n",
              " ('giving', 0.9804357886314392),\n",
              " ('separate', 0.9801846742630005),\n",
              " ('sucks', 0.9798657298088074),\n",
              " ('point', 0.9792957901954651),\n",
              " ('mere', 0.9792264103889465),\n",
              " ('committee', 0.9787653088569641),\n",
              " ('register', 0.9782808423042297)]"
            ]
          },
          "execution_count": 94,
          "metadata": {},
          "output_type": "execute_result"
        }
      ],
      "source": [
        "w2vmodel_more_female_uncleaned.most_similar(positive=['power', 'man'], negative = ['woman'])"
      ]
    },
    {
      "cell_type": "markdown",
      "metadata": {
        "id": "961oPC4kp20f"
      },
      "source": [
        "#### Visualization"
      ]
    },
    {
      "cell_type": "code",
      "execution_count": null,
      "metadata": {
        "colab": {
          "base_uri": "https://localhost:8080/"
        },
        "id": "gNfkUKGKp0vO",
        "outputId": "c16a9e39-cc86-4474-d0f7-a95cde76cb65"
      },
      "outputs": [
        {
          "name": "stderr",
          "output_type": "stream",
          "text": [
            "/usr/local/lib/python3.7/dist-packages/ipykernel_launcher.py:6: DeprecationWarning: Call to deprecated `__getitem__` (Method will be removed in 4.0.0, use self.wv.__getitem__() instead).\n",
            "  \n"
          ]
        }
      ],
      "source": [
        "Gender = dimension(w2vmodel_more_female_uncleaned, ['man','him','he'], ['woman', 'her', 'she'])"
      ]
    },
    {
      "cell_type": "code",
      "execution_count": null,
      "metadata": {
        "id": "aMFJWwoHp0vP"
      },
      "outputs": [],
      "source": [
        "occupation_and_family = ['cop', 'killer', 'doctor', 'teacher', 'child', 'family', 'baby', 'mother',]\n",
        "\n",
        "verb_adj = ['hate', 'love', 'smart', 'young', 'old', 'beautiful', 'attractive', 'strong', 'handsome', 'charming']\n",
        "\n",
        "expression_habit  = ['wanna', 'want', 'need', 'gotta', 'got', 'fuck', 'yeah', 'yes']"
      ]
    },
    {
      "cell_type": "code",
      "execution_count": null,
      "metadata": {
        "collapsed": true,
        "id": "D8eZG_7-p0vP"
      },
      "outputs": [],
      "source": [
        "def makeDF(model, word_list):\n",
        "    g = []\n",
        "    for word in word_list:\n",
        "        g.append(sklearn.metrics.pairwise.cosine_similarity(model[word].reshape(1,-1), Gender.reshape(1,-1))[0][0])\n",
        "    df = pd.DataFrame({'gender': g}, index = word_list)\n",
        "    return df"
      ]
    },
    {
      "cell_type": "code",
      "execution_count": null,
      "metadata": {
        "colab": {
          "base_uri": "https://localhost:8080/"
        },
        "collapsed": true,
        "id": "8t7Ng4zCp0vP",
        "outputId": "85afb744-fe72-4840-971f-0171886c3c82"
      },
      "outputs": [
        {
          "name": "stderr",
          "output_type": "stream",
          "text": [
            "/usr/local/lib/python3.7/dist-packages/ipykernel_launcher.py:4: DeprecationWarning: Call to deprecated `__getitem__` (Method will be removed in 4.0.0, use self.wv.__getitem__() instead).\n",
            "  after removing the cwd from sys.path.\n",
            "/usr/local/lib/python3.7/dist-packages/ipykernel_launcher.py:4: DeprecationWarning: Call to deprecated `__getitem__` (Method will be removed in 4.0.0, use self.wv.__getitem__() instead).\n",
            "  after removing the cwd from sys.path.\n",
            "/usr/local/lib/python3.7/dist-packages/ipykernel_launcher.py:4: DeprecationWarning: Call to deprecated `__getitem__` (Method will be removed in 4.0.0, use self.wv.__getitem__() instead).\n",
            "  after removing the cwd from sys.path.\n",
            "/usr/local/lib/python3.7/dist-packages/ipykernel_launcher.py:4: DeprecationWarning: Call to deprecated `__getitem__` (Method will be removed in 4.0.0, use self.wv.__getitem__() instead).\n",
            "  after removing the cwd from sys.path.\n",
            "/usr/local/lib/python3.7/dist-packages/ipykernel_launcher.py:4: DeprecationWarning: Call to deprecated `__getitem__` (Method will be removed in 4.0.0, use self.wv.__getitem__() instead).\n",
            "  after removing the cwd from sys.path.\n",
            "/usr/local/lib/python3.7/dist-packages/ipykernel_launcher.py:4: DeprecationWarning: Call to deprecated `__getitem__` (Method will be removed in 4.0.0, use self.wv.__getitem__() instead).\n",
            "  after removing the cwd from sys.path.\n",
            "/usr/local/lib/python3.7/dist-packages/ipykernel_launcher.py:4: DeprecationWarning: Call to deprecated `__getitem__` (Method will be removed in 4.0.0, use self.wv.__getitem__() instead).\n",
            "  after removing the cwd from sys.path.\n",
            "/usr/local/lib/python3.7/dist-packages/ipykernel_launcher.py:4: DeprecationWarning: Call to deprecated `__getitem__` (Method will be removed in 4.0.0, use self.wv.__getitem__() instead).\n",
            "  after removing the cwd from sys.path.\n",
            "/usr/local/lib/python3.7/dist-packages/ipykernel_launcher.py:4: DeprecationWarning: Call to deprecated `__getitem__` (Method will be removed in 4.0.0, use self.wv.__getitem__() instead).\n",
            "  after removing the cwd from sys.path.\n",
            "/usr/local/lib/python3.7/dist-packages/ipykernel_launcher.py:4: DeprecationWarning: Call to deprecated `__getitem__` (Method will be removed in 4.0.0, use self.wv.__getitem__() instead).\n",
            "  after removing the cwd from sys.path.\n",
            "/usr/local/lib/python3.7/dist-packages/ipykernel_launcher.py:4: DeprecationWarning: Call to deprecated `__getitem__` (Method will be removed in 4.0.0, use self.wv.__getitem__() instead).\n",
            "  after removing the cwd from sys.path.\n",
            "/usr/local/lib/python3.7/dist-packages/ipykernel_launcher.py:4: DeprecationWarning: Call to deprecated `__getitem__` (Method will be removed in 4.0.0, use self.wv.__getitem__() instead).\n",
            "  after removing the cwd from sys.path.\n",
            "/usr/local/lib/python3.7/dist-packages/ipykernel_launcher.py:4: DeprecationWarning: Call to deprecated `__getitem__` (Method will be removed in 4.0.0, use self.wv.__getitem__() instead).\n",
            "  after removing the cwd from sys.path.\n",
            "/usr/local/lib/python3.7/dist-packages/ipykernel_launcher.py:4: DeprecationWarning: Call to deprecated `__getitem__` (Method will be removed in 4.0.0, use self.wv.__getitem__() instead).\n",
            "  after removing the cwd from sys.path.\n",
            "/usr/local/lib/python3.7/dist-packages/ipykernel_launcher.py:4: DeprecationWarning: Call to deprecated `__getitem__` (Method will be removed in 4.0.0, use self.wv.__getitem__() instead).\n",
            "  after removing the cwd from sys.path.\n",
            "/usr/local/lib/python3.7/dist-packages/ipykernel_launcher.py:4: DeprecationWarning: Call to deprecated `__getitem__` (Method will be removed in 4.0.0, use self.wv.__getitem__() instead).\n",
            "  after removing the cwd from sys.path.\n",
            "/usr/local/lib/python3.7/dist-packages/ipykernel_launcher.py:4: DeprecationWarning: Call to deprecated `__getitem__` (Method will be removed in 4.0.0, use self.wv.__getitem__() instead).\n",
            "  after removing the cwd from sys.path.\n",
            "/usr/local/lib/python3.7/dist-packages/ipykernel_launcher.py:4: DeprecationWarning: Call to deprecated `__getitem__` (Method will be removed in 4.0.0, use self.wv.__getitem__() instead).\n",
            "  after removing the cwd from sys.path.\n",
            "/usr/local/lib/python3.7/dist-packages/ipykernel_launcher.py:4: DeprecationWarning: Call to deprecated `__getitem__` (Method will be removed in 4.0.0, use self.wv.__getitem__() instead).\n",
            "  after removing the cwd from sys.path.\n",
            "/usr/local/lib/python3.7/dist-packages/ipykernel_launcher.py:4: DeprecationWarning: Call to deprecated `__getitem__` (Method will be removed in 4.0.0, use self.wv.__getitem__() instead).\n",
            "  after removing the cwd from sys.path.\n",
            "/usr/local/lib/python3.7/dist-packages/ipykernel_launcher.py:4: DeprecationWarning: Call to deprecated `__getitem__` (Method will be removed in 4.0.0, use self.wv.__getitem__() instead).\n",
            "  after removing the cwd from sys.path.\n",
            "/usr/local/lib/python3.7/dist-packages/ipykernel_launcher.py:4: DeprecationWarning: Call to deprecated `__getitem__` (Method will be removed in 4.0.0, use self.wv.__getitem__() instead).\n",
            "  after removing the cwd from sys.path.\n",
            "/usr/local/lib/python3.7/dist-packages/ipykernel_launcher.py:4: DeprecationWarning: Call to deprecated `__getitem__` (Method will be removed in 4.0.0, use self.wv.__getitem__() instead).\n",
            "  after removing the cwd from sys.path.\n",
            "/usr/local/lib/python3.7/dist-packages/ipykernel_launcher.py:4: DeprecationWarning: Call to deprecated `__getitem__` (Method will be removed in 4.0.0, use self.wv.__getitem__() instead).\n",
            "  after removing the cwd from sys.path.\n",
            "/usr/local/lib/python3.7/dist-packages/ipykernel_launcher.py:4: DeprecationWarning: Call to deprecated `__getitem__` (Method will be removed in 4.0.0, use self.wv.__getitem__() instead).\n",
            "  after removing the cwd from sys.path.\n",
            "/usr/local/lib/python3.7/dist-packages/ipykernel_launcher.py:4: DeprecationWarning: Call to deprecated `__getitem__` (Method will be removed in 4.0.0, use self.wv.__getitem__() instead).\n",
            "  after removing the cwd from sys.path.\n"
          ]
        }
      ],
      "source": [
        "occupation_and_family_df = makeDF(w2vmodel_more_female_uncleaned, occupation_and_family) \n",
        "verb_adj_df = makeDF(w2vmodel_more_female_uncleaned, verb_adj) \n",
        "expression_habit_df = makeDF(w2vmodel_more_female_uncleaned, expression_habit)"
      ]
    },
    {
      "cell_type": "code",
      "execution_count": null,
      "metadata": {
        "collapsed": true,
        "id": "fIw1bgu-p0vP"
      },
      "outputs": [],
      "source": [
        "def Coloring(Series):\n",
        "    x = Series.values\n",
        "    y = x-x.min()\n",
        "    z = y/y.max()\n",
        "    c = list(plt.cm.rainbow(z))\n",
        "    return c\n",
        "\n",
        "def PlotDimension(ax,df, dim):\n",
        "    ax.set_frame_on(False)\n",
        "    ax.set_title(dim, fontsize = 20)\n",
        "    colors = Coloring(df[dim])\n",
        "    for i, word in enumerate(df.index):\n",
        "        ax.annotate(word, (0, df[dim][i]), color = colors[i], alpha = 0.6, fontsize = 12)\n",
        "    MaxY = df[dim].max()\n",
        "    MinY = df[dim].min()\n",
        "    plt.ylim(MinY,MaxY)\n",
        "    plt.yticks(())\n",
        "    plt.xticks(())"
      ]
    },
    {
      "cell_type": "markdown",
      "metadata": {
        "id": "3lVUwusdp0vP"
      },
      "source": [
        "##### Occupation and Family\n"
      ]
    },
    {
      "cell_type": "code",
      "execution_count": null,
      "metadata": {
        "colab": {
          "base_uri": "https://localhost:8080/",
          "height": 272
        },
        "id": "eBNUP_eFp0vP",
        "outputId": "25a6dd09-dd36-4e54-d707-83c973b2a97f",
        "scrolled": true
      },
      "outputs": [
        {
          "data": {
            "image/png": "[encoded data removed]",
            "text/plain": [
              "<Figure size 864x288 with 1 Axes>"
            ]
          },
          "metadata": {},
          "output_type": "display_data"
        }
      ],
      "source": [
        "fig = plt.figure(figsize = (12,4))\n",
        "ax1 = fig.add_subplot(131)\n",
        "PlotDimension(ax1, occupation_and_family_df, 'gender')\n",
        "plt.show()"
      ]
    },
    {
      "cell_type": "markdown",
      "metadata": {
        "id": "Wp6qmG5rtQU7"
      },
      "source": [
        "##### Verbs and Adjective\n"
      ]
    },
    {
      "cell_type": "code",
      "execution_count": null,
      "metadata": {
        "colab": {
          "base_uri": "https://localhost:8080/",
          "height": 490
        },
        "id": "B0c1EwYVp0vP",
        "outputId": "f0a7faaa-68de-41d4-c32f-f9cffeea70c8"
      },
      "outputs": [
        {
          "data": {
            "image/png": "[encoded data removed]",
            "text/plain": [
              "<Figure size 864x576 with 1 Axes>"
            ]
          },
          "metadata": {},
          "output_type": "display_data"
        }
      ],
      "source": [
        "fig = plt.figure(figsize = (12,8))\n",
        "ax1 = fig.add_subplot(131)\n",
        "PlotDimension(ax1, verb_adj_df, 'gender')\n",
        "plt.show()"
      ]
    },
    {
      "cell_type": "markdown",
      "metadata": {
        "id": "Lea0ADc6tJrE"
      },
      "source": [
        "##### Expression Habbit\n"
      ]
    },
    {
      "cell_type": "code",
      "execution_count": null,
      "metadata": {
        "colab": {
          "base_uri": "https://localhost:8080/",
          "height": 272
        },
        "id": "b3Dnm6Vrp0vP",
        "outputId": "b2b50ff1-ae63-4500-eab0-66fbf7a09647"
      },
      "outputs": [
        {
          "data": {
            "image/png": "[encoded data removed]",
            "text/plain": [
              "<Figure size 864x288 with 1 Axes>"
            ]
          },
          "metadata": {},
          "output_type": "display_data"
        }
      ],
      "source": [
        "fig = plt.figure(figsize = (12,4))\n",
        "ax1 = fig.add_subplot(131)\n",
        "PlotDimension(ax1, expression_habit_df, 'gender')\n",
        "plt.show()"
      ]
    },
    {
      "cell_type": "markdown",
      "metadata": {
        "id": "qaNtOoCVE2O2"
      },
      "source": [
        "## Alignment"
      ]
    },
    {
      "cell_type": "code",
      "execution_count": null,
      "metadata": {
        "colab": {
          "base_uri": "https://localhost:8080/",
          "height": 357
        },
        "id": "9_67PRRjGaWX",
        "outputId": "689d68e5-5354-495b-f3d6-53dcb371d72f"
      },
      "outputs": [
        {
          "name": "stdout",
          "output_type": "stream",
          "text": [
            "Looking in indexes: https://pypi.org/simple, https://us-python.pkg.dev/colab-wheels/public/simple/\n",
            "Collecting gensim==4.1.2\n",
            "  Downloading gensim-4.1.2-cp37-cp37m-manylinux_2_12_x86_64.manylinux2010_x86_64.whl (24.1 MB)\n",
            "\u001b[K     |████████████████████████████████| 24.1 MB 18 kB/s \n",
            "\u001b[?25hRequirement already satisfied: scipy>=0.18.1 in /usr/local/lib/python3.7/dist-packages (from gensim==4.1.2) (1.4.1)\n",
            "Requirement already satisfied: smart-open>=1.8.1 in /usr/local/lib/python3.7/dist-packages (from gensim==4.1.2) (5.2.1)\n",
            "Requirement already satisfied: numpy>=1.17.0 in /usr/local/lib/python3.7/dist-packages (from gensim==4.1.2) (1.21.6)\n",
            "Installing collected packages: gensim\n",
            "  Attempting uninstall: gensim\n",
            "    Found existing installation: gensim 3.6.0\n",
            "    Uninstalling gensim-3.6.0:\n",
            "      Successfully uninstalled gensim-3.6.0\n",
            "Successfully installed gensim-4.1.2\n"
          ]
        },
        {
          "data": {
            "application/vnd.colab-display-data+json": {
              "pip_warning": {
                "packages": [
                  "gensim"
                ]
              }
            }
          },
          "metadata": {},
          "output_type": "display_data"
        }
      ],
      "source": [
        "!pip install gensim==4.1.2"
      ]
    },
    {
      "cell_type": "code",
      "execution_count": null,
      "metadata": {
        "id": "eYX6VegQGLMU"
      },
      "outputs": [],
      "source": [
        "def intersection_align_gensim(m1, m2, words=None):\n",
        "    \"\"\"\n",
        "    Intersect two gensim word2vec models, m1 and m2.\n",
        "    Only the shared vocabulary between them is kept.\n",
        "    If 'words' is set (as list or set), then the vocabulary is intersected with this list as well.\n",
        "    Indices are re-organized from 0..N in order of descending frequency (=sum of counts from both m1 and m2).\n",
        "    These indices correspond to the new syn0 and syn0norm objects in both gensim models:\n",
        "        -- so that Row 0 of m1.syn0 will be for the same word as Row 0 of m2.syn0\n",
        "        -- you can find the index of any word on the .index2word list: model.index2word.index(word) => 2\n",
        "    The .vocab dictionary is also updated for each model, preserving the count but updating the index.\n",
        "    \"\"\"\n",
        "\n",
        "    # Get the vocab for each model\n",
        "    vocab_m1 = set(m1.wv.index_to_key)\n",
        "    vocab_m2 = set(m2.wv.index_to_key)\n",
        "\n",
        "    # Find the common vocabulary\n",
        "    common_vocab = vocab_m1 & vocab_m2\n",
        "    if words: common_vocab &= set(words)\n",
        "\n",
        "    # If no alignment necessary because vocab is identical...\n",
        "    if not vocab_m1 - common_vocab and not vocab_m2 - common_vocab:\n",
        "        return (m1,m2)\n",
        "\n",
        "    # Otherwise sort by frequency (summed for both)\n",
        "    common_vocab = list(common_vocab)\n",
        "    common_vocab.sort(key=lambda w: m1.wv.get_vecattr(w, \"count\") + m2.wv.get_vecattr(w, \"count\"), reverse=True)\n",
        "    # print(len(common_vocab))\n",
        "\n",
        "    # Then for each model...\n",
        "    for m in [m1, m2]:\n",
        "        # Replace old syn0norm array with new one (with common vocab)\n",
        "        indices = [m.wv.key_to_index[w] for w in common_vocab]\n",
        "        old_arr = m.wv.vectors\n",
        "        new_arr = np.array([old_arr[index] for index in indices])\n",
        "        m.wv.vectors = new_arr\n",
        "\n",
        "        # Replace old vocab dictionary with new one (with common vocab)\n",
        "        # and old index2word with new one\n",
        "        new_key_to_index = {}\n",
        "        new_index_to_key = []\n",
        "        for new_index, key in enumerate(common_vocab):\n",
        "            new_key_to_index[key] = new_index\n",
        "            new_index_to_key.append(key)\n",
        "        m.wv.key_to_index = new_key_to_index\n",
        "        m.wv.index_to_key = new_index_to_key\n",
        "        \n",
        "        print(len(m.wv.key_to_index), len(m.wv.vectors))\n",
        "        \n",
        "    return (m1,m2)"
      ]
    },
    {
      "cell_type": "code",
      "execution_count": null,
      "metadata": {
        "id": "6E1NtAN0GMtK"
      },
      "outputs": [],
      "source": [
        "intersection_align_gensim = intersection_align_gensim(w2vmodel_only_male_uncleaned, w2vmodel_less_female_uncleaned)"
      ]
    },
    {
      "cell_type": "code",
      "execution_count": null,
      "metadata": {
        "id": "Bu8Lo8oME4H2"
      },
      "outputs": [],
      "source": [
        "def smart_procrustes_align_gensim(base_embed, other_embed, words=None):\n",
        "    \"\"\"\n",
        "    Original script: https://gist.github.com/quadrismegistus/09a93e219a6ffc4f216fb85235535faf\n",
        "    Procrustes align two gensim word2vec models (to allow for comparison between same word across models).\n",
        "    Code ported from HistWords <https://github.com/williamleif/histwords> by William Hamilton <wleif@stanford.edu>.\n",
        "        \n",
        "    First, intersect the vocabularies (see `intersection_align_gensim` documentation).\n",
        "    Then do the alignment on the other_embed model.\n",
        "    Replace the other_embed model's syn0 and syn0norm numpy matrices with the aligned version.\n",
        "    Return other_embed.\n",
        "    If `words` is set, intersect the two models' vocabulary with the vocabulary in words (see `intersection_align_gensim` documentation).\n",
        "    \"\"\"\n",
        "\n",
        "    # patch by Richard So [https://twitter.com/richardjeanso) (thanks!) to update this code for new version of gensim\n",
        "    # base_embed.init_sims(replace=True)\n",
        "    # other_embed.init_sims(replace=True)\n",
        "\n",
        "    # make sure vocabulary and indices are aligned\n",
        "    in_base_embed, in_other_embed = intersection_align_gensim(base_embed, other_embed, words=words)\n",
        "\n",
        "    # get the (normalized) embedding matrices\n",
        "    base_vecs = in_base_embed.wv.get_normed_vectors()\n",
        "    other_vecs = in_other_embed.wv.get_normed_vectors()\n",
        "\n",
        "    # just a matrix dot product with numpy\n",
        "    m = other_vecs.T.dot(base_vecs) \n",
        "    # SVD method from numpy\n",
        "    u, _, v = np.linalg.svd(m)\n",
        "    # another matrix operation\n",
        "    ortho = u.dot(v) \n",
        "    # Replace original array with modified one, i.e. multiplying the embedding matrix by \"ortho\"\n",
        "    other_embed.wv.vectors = (other_embed.wv.vectors).dot(ortho)    \n",
        "    \n",
        "    return other_embed"
      ]
    },
    {
      "cell_type": "code",
      "execution_count": null,
      "metadata": {
        "colab": {
          "base_uri": "https://localhost:8080/",
          "height": 347
        },
        "id": "l535L0OPFn2e",
        "outputId": "6849541b-455d-4c1f-cf9c-f472bb02a18b"
      },
      "outputs": [
        {
          "ename": "TypeError",
          "evalue": "ignored",
          "output_type": "error",
          "traceback": [
            "\u001b[0;31m---------------------------------------------------------------------------\u001b[0m",
            "\u001b[0;31mTypeError\u001b[0m                                 Traceback (most recent call last)",
            "\u001b[0;32m<ipython-input-30-cf9777d78da7>\u001b[0m in \u001b[0;36m<module>\u001b[0;34m()\u001b[0m\n\u001b[0;32m----> 1\u001b[0;31m \u001b[0msmart_procrustes_align_gensim_0\u001b[0m \u001b[0;34m=\u001b[0m \u001b[0msmart_procrustes_align_gensim\u001b[0m\u001b[0;34m(\u001b[0m\u001b[0;34m\"woman\"\u001b[0m\u001b[0;34m,\u001b[0m \u001b[0;34m\"woman\"\u001b[0m\u001b[0;34m)\u001b[0m\u001b[0;34m\u001b[0m\u001b[0;34m\u001b[0m\u001b[0m\n\u001b[0m",
            "\u001b[0;32m<ipython-input-27-ff70bcc4bff9>\u001b[0m in \u001b[0;36msmart_procrustes_align_gensim\u001b[0;34m(base_embed, other_embed, words)\u001b[0m\n\u001b[1;32m     17\u001b[0m \u001b[0;34m\u001b[0m\u001b[0m\n\u001b[1;32m     18\u001b[0m     \u001b[0;31m# make sure vocabulary and indices are aligned\u001b[0m\u001b[0;34m\u001b[0m\u001b[0;34m\u001b[0m\u001b[0;34m\u001b[0m\u001b[0m\n\u001b[0;32m---> 19\u001b[0;31m     \u001b[0min_base_embed\u001b[0m\u001b[0;34m,\u001b[0m \u001b[0min_other_embed\u001b[0m \u001b[0;34m=\u001b[0m \u001b[0mintersection_align_gensim\u001b[0m\u001b[0;34m(\u001b[0m\u001b[0mbase_embed\u001b[0m\u001b[0;34m,\u001b[0m \u001b[0mother_embed\u001b[0m\u001b[0;34m,\u001b[0m \u001b[0mwords\u001b[0m\u001b[0;34m=\u001b[0m\u001b[0mwords\u001b[0m\u001b[0;34m)\u001b[0m\u001b[0;34m\u001b[0m\u001b[0;34m\u001b[0m\u001b[0m\n\u001b[0m\u001b[1;32m     20\u001b[0m \u001b[0;34m\u001b[0m\u001b[0m\n\u001b[1;32m     21\u001b[0m     \u001b[0;31m# get the (normalized) embedding matrices\u001b[0m\u001b[0;34m\u001b[0m\u001b[0;34m\u001b[0m\u001b[0;34m\u001b[0m\u001b[0m\n",
            "\u001b[0;31mTypeError\u001b[0m: 'tuple' object is not callable"
          ]
        }
      ],
      "source": [
        "smart_procrustes_align_gensim_0 = smart_procrustes_align_gensim(\"woman\", \"woman\")"
      ]
    },
    {
      "cell_type": "markdown",
      "metadata": {
        "id": "seUMQHDUgBnU"
      },
      "source": [
        "# Word2Vec Training for Whole Corpora"
      ]
    },
    {
      "cell_type": "code",
      "execution_count": null,
      "metadata": {
        "colab": {
          "base_uri": "https://localhost:8080/"
        },
        "id": "3Nfzg6qHpcdn",
        "outputId": "18fc12e3-5a30-4020-b2ce-5750a77a8a64"
      },
      "outputs": [
        {
          "data": {
            "text/plain": [
              "('I missed you. It says here you exposed yourself to a group of freshmen girls. It was a bratwurst.  I was eating lunch. With the teeth of your zipper?',\n",
              " \"Katarina Stratford.  My, my.  You've been terrorizing Ms. Blaise again. Expressing my opinion is not a terrorist action. Well, yes, compared to your other choices of expression this year, today's events are quite mild.  By the way, Bobby Rictor's gonad retrieval operation went quite well, in case you're interested. I still maintain that he kicked himself in the balls.  I was merely a spectator. The point is Kat -- people perceive you as somewhat ...\",\n",
              " 'Did you change your hair? No. You might wanna think about it')"
            ]
          },
          "execution_count": 11,
          "metadata": {},
          "output_type": "execute_result"
        }
      ],
      "source": [
        "corpus_only_male[0], corpus_less_female[0], corpus_more_female[0]"
      ]
    },
    {
      "cell_type": "code",
      "execution_count": null,
      "metadata": {
        "colab": {
          "base_uri": "https://localhost:8080/"
        },
        "id": "XuaIN84tpf-Q",
        "outputId": "d2b012b2-b0f5-44c3-dab7-0192ac30fabc"
      },
      "outputs": [
        {
          "data": {
            "text/plain": [
              "83097"
            ]
          },
          "execution_count": 12,
          "metadata": {},
          "output_type": "execute_result"
        }
      ],
      "source": [
        "corpus_all = [*corpus_only_male, *corpus_less_female, *corpus_more_female]\n",
        "len(corpus_all)"
      ]
    },
    {
      "cell_type": "code",
      "execution_count": null,
      "metadata": {
        "colab": {
          "base_uri": "https://localhost:8080/",
          "height": 125
        },
        "id": "MDqeMdktp63L",
        "outputId": "3f505f75-8a8c-4d97-a91c-5f94df958654"
      },
      "outputs": [
        {
          "data": {
            "application/vnd.google.colaboratory.intrinsic+json": {
              "type": "string"
            },
            "text/plain": [
              "\"Katarina Stratford.  My, my.  You've been terrorizing Ms. Blaise again. Expressing my opinion is not a terrorist action. Well, yes, compared to your other choices of expression this year, today's events are quite mild.  By the way, Bobby Rictor's gonad retrieval operation went quite well, in case you're interested. I still maintain that he kicked himself in the balls.  I was merely a spectator. The point is Kat -- people perceive you as somewhat ...\""
            ]
          },
          "execution_count": 13,
          "metadata": {},
          "output_type": "execute_result"
        }
      ],
      "source": [
        "corpus_all[51343]"
      ]
    },
    {
      "cell_type": "code",
      "execution_count": null,
      "metadata": {
        "colab": {
          "base_uri": "https://localhost:8080/",
          "height": 35
        },
        "id": "oHTPSPYrqDOt",
        "outputId": "277539d4-3a4d-4ee0-8473-abb560ee572f"
      },
      "outputs": [
        {
          "data": {
            "application/vnd.google.colaboratory.intrinsic+json": {
              "type": "string"
            },
            "text/plain": [
              "'Did you change your hair? No. You might wanna think about it'"
            ]
          },
          "execution_count": 57,
          "metadata": {},
          "output_type": "execute_result"
        }
      ],
      "source": [
        "corpus_all[75308]"
      ]
    },
    {
      "cell_type": "markdown",
      "metadata": {
        "id": "Ipfot_AMgKVv"
      },
      "source": [
        "0 - 51342 in corpus_all are only male, 51343 - 75307 are less female, and 75308 - 83097 are more female\n"
      ]
    },
    {
      "cell_type": "markdown",
      "metadata": {
        "id": "Kd9dFqWt3dEQ"
      },
      "source": [
        "## Cleaned Version"
      ]
    },
    {
      "cell_type": "code",
      "execution_count": 86,
      "metadata": {
        "id": "OR-GmAg3J0pO"
      },
      "outputs": [],
      "source": [
        "from gensim.parsing.preprocessing import preprocess_documents"
      ]
    },
    {
      "cell_type": "code",
      "execution_count": 87,
      "metadata": {
        "id": "tma9swAo3DuH"
      },
      "outputs": [],
      "source": [
        "preprocessed_texts = preprocess_documents(corpus_all)"
      ]
    },
    {
      "cell_type": "code",
      "execution_count": 88,
      "metadata": {
        "id": "SO86aAK7KWRD"
      },
      "outputs": [],
      "source": [
        "from gensim.models import Word2Vec\n"
      ]
    },
    {
      "cell_type": "code",
      "execution_count": 89,
      "metadata": {
        "id": "wyjjjxp03Dwq"
      },
      "outputs": [],
      "source": [
        "w2vmodel_cleaned = Word2Vec(\n",
        "        preprocessed_texts,\n",
        "        size=300,\n",
        "        window=10)"
      ]
    },
    {
      "cell_type": "code",
      "execution_count": 90,
      "metadata": {
        "colab": {
          "base_uri": "https://localhost:8080/",
          "height": 35
        },
        "id": "XAEoNjcQNRzu",
        "outputId": "fabfa988-5870-42ea-ea85-800d46159066"
      },
      "outputs": [
        {
          "output_type": "execute_result",
          "data": {
            "text/plain": [
              "'time'"
            ],
            "application/vnd.google.colaboratory.intrinsic+json": {
              "type": "string"
            }
          },
          "metadata": {},
          "execution_count": 90
        }
      ],
      "source": [
        "w2vmodel_cleaned.wv.index2word[10]\n"
      ]
    },
    {
      "cell_type": "code",
      "execution_count": null,
      "metadata": {
        "colab": {
          "base_uri": "https://localhost:8080/"
        },
        "id": "iylVkBju2Joz",
        "outputId": "ea78f484-b282-45df-ed7a-b4d7125f549d"
      },
      "outputs": [
        {
          "data": {
            "text/plain": [
              "gensim.models.word2vec.Word2Vec"
            ]
          },
          "execution_count": 14,
          "metadata": {},
          "output_type": "execute_result"
        }
      ],
      "source": [
        "type(w2vmodel_cleaned)"
      ]
    },
    {
      "cell_type": "code",
      "execution_count": null,
      "metadata": {
        "colab": {
          "base_uri": "https://localhost:8080/"
        },
        "id": "E0z_mlME3DzL",
        "outputId": "73782b62-5f81-4eb3-ec32-3e835e175ad9"
      },
      "outputs": [
        {
          "data": {
            "text/plain": [
              "[('beauti', 0.8099875450134277),\n",
              " ('hate', 0.7865305542945862),\n",
              " ('geronimo', 0.7269126772880554),\n",
              " ('wept', 0.7043155431747437),\n",
              " ('woman', 0.6999272108078003),\n",
              " ('geezer', 0.6855027079582214),\n",
              " ('marri', 0.6834906339645386),\n",
              " ('happi', 0.6688550710678101),\n",
              " ('linda', 0.6582983136177063),\n",
              " ('sex', 0.6581699848175049)]"
            ]
          },
          "execution_count": 96,
          "metadata": {},
          "output_type": "execute_result"
        }
      ],
      "source": [
        "w2vmodel_cleaned.wv.most_similar(\"love\")"
      ]
    },
    {
      "cell_type": "code",
      "execution_count": null,
      "metadata": {
        "colab": {
          "base_uri": "https://localhost:8080/"
        },
        "id": "yQgsBo9J3Vzs",
        "outputId": "623d4d5f-627a-4806-a109-9d81514bc00d"
      },
      "outputs": [
        {
          "data": {
            "text/plain": [
              "[('women', 0.8769959211349487),\n",
              " ('poor', 0.8743705153465271),\n",
              " ('beauti', 0.8599096536636353),\n",
              " ('child', 0.8574185967445374),\n",
              " ('marri', 0.84193354845047),\n",
              " ('mother', 0.8374574184417725),\n",
              " ('dream', 0.8296098113059998),\n",
              " ('children', 0.8122224807739258),\n",
              " ('wept', 0.8062140941619873),\n",
              " ('parent', 0.8049109578132629)]"
            ]
          },
          "execution_count": 97,
          "metadata": {},
          "output_type": "execute_result"
        }
      ],
      "source": [
        "w2vmodel_cleaned.wv.most_similar(\"woman\")"
      ]
    },
    {
      "cell_type": "code",
      "execution_count": null,
      "metadata": {
        "colab": {
          "base_uri": "https://localhost:8080/"
        },
        "id": "EqHJCpho3WqX",
        "outputId": "7dc7a028-b4f4-48b3-b2bd-4f3e9d095ac2"
      },
      "outputs": [
        {
          "data": {
            "text/plain": [
              "[('old', 0.7683749794960022),\n",
              " ('napalm', 0.7125927805900574),\n",
              " ('rich', 0.7099113464355469),\n",
              " ('helper', 0.7076639533042908),\n",
              " ('poor', 0.6916558742523193),\n",
              " ('women', 0.688126802444458),\n",
              " ('cyru', 0.6790370941162109),\n",
              " ('cat', 0.6743890643119812),\n",
              " ('woman', 0.6694680452346802),\n",
              " ('holi', 0.6644185185432434)]"
            ]
          },
          "execution_count": 98,
          "metadata": {},
          "output_type": "execute_result"
        }
      ],
      "source": [
        "w2vmodel_cleaned.wv.most_similar(\"man\")"
      ]
    },
    {
      "cell_type": "markdown",
      "metadata": {
        "id": "uN9zGb_s3tE_"
      },
      "source": [
        "Well the cleaned version word2vec model doesn't make much sense for some similar words"
      ]
    },
    {
      "cell_type": "markdown",
      "metadata": {
        "id": "tUZzt2Tm33G8"
      },
      "source": [
        "## Non-cleaned Version"
      ]
    },
    {
      "cell_type": "code",
      "execution_count": null,
      "metadata": {
        "id": "7-J83-AN1K1u"
      },
      "outputs": [],
      "source": [
        "from gensim.parsing.preprocessing import preprocess_string, strip_tags, strip_punctuation"
      ]
    },
    {
      "cell_type": "code",
      "execution_count": null,
      "metadata": {
        "id": "nhxpfj5q1Myq"
      },
      "outputs": [],
      "source": [
        "CUSTOM_FILTERS = [lambda x: x.lower(), strip_tags, strip_punctuation]"
      ]
    },
    {
      "cell_type": "code",
      "execution_count": null,
      "metadata": {
        "id": "G--Cp7Dj1M1I"
      },
      "outputs": [],
      "source": [
        "tokenized_texts = []\n",
        "for conv in corpus_all:\n",
        "  tokenized_texts.append(preprocess_string(conv, CUSTOM_FILTERS))"
      ]
    },
    {
      "cell_type": "code",
      "execution_count": null,
      "metadata": {
        "id": "_P9LyWtMvYg0"
      },
      "outputs": [],
      "source": [
        "from gensim.models import Word2Vec\n",
        "w2vmodel_non_cleaned_all = Word2Vec(\n",
        "        tokenized_texts,\n",
        "        vector_size=400,\n",
        "        window=10)"
      ]
    },
    {
      "cell_type": "markdown",
      "metadata": {
        "id": "yuBfmX3vf89-"
      },
      "source": [
        "## Sentence Average"
      ]
    },
    {
      "cell_type": "markdown",
      "metadata": {
        "id": "l3QCpDTwyaBh"
      },
      "source": [
        "#### Averaging word vectors\n"
      ]
    },
    {
      "cell_type": "code",
      "execution_count": 91,
      "metadata": {
        "id": "-kQ3ZVj7Ta1A"
      },
      "outputs": [],
      "source": [
        "from gensim.corpora import Dictionary\n",
        "from gensim.models import LdaModel"
      ]
    },
    {
      "cell_type": "code",
      "execution_count": 92,
      "metadata": {
        "id": "161ih76R75AC"
      },
      "outputs": [],
      "source": [
        "preprocessed_texts = preprocessed_texts\n",
        "dictionary = Dictionary(preprocessed_texts)\n",
        "corpus = [dictionary.doc2bow(text) for text in preprocessed_texts]\n",
        "\n",
        "model = w2vmodel_cleaned"
      ]
    },
    {
      "cell_type": "code",
      "execution_count": 93,
      "metadata": {
        "id": "omF0l7PdQ-xl"
      },
      "outputs": [],
      "source": [
        "import numpy as np"
      ]
    },
    {
      "cell_type": "code",
      "execution_count": 94,
      "metadata": {
        "id": "T8tmtP6RdRCj"
      },
      "outputs": [],
      "source": [
        "vectors = []\n",
        "def create_vector(text, model, model_type=None):\n",
        "        for word in text:\n",
        "            try:\n",
        "                vectors.append(model.wv[word])\n",
        "            except KeyError:\n",
        "                pass\n",
        "        if len(vectors) > 0:\n",
        "            return np.mean(vectors, axis=0)"
      ]
    },
    {
      "cell_type": "code",
      "execution_count": 107,
      "metadata": {
        "id": "hAXltzEcRINm"
      },
      "outputs": [],
      "source": [
        "male_preprocessed = preprocessed_texts[0:51342]\n",
        "less_female_preprocessed = preprocessed_texts[51343:75307]\n",
        "more_female_preprocessed = preprocessed_texts[75308:83097]"
      ]
    },
    {
      "cell_type": "code",
      "execution_count": 110,
      "metadata": {
        "colab": {
          "base_uri": "https://localhost:8080/"
        },
        "id": "JkqDdKjzRbXF",
        "outputId": "5f03f0b6-a8ad-42f2-fe37-e0756a8e0785"
      },
      "outputs": [
        {
          "output_type": "execute_result",
          "data": {
            "text/plain": [
              "(50, 50, 50)"
            ]
          },
          "metadata": {},
          "execution_count": 110
        }
      ],
      "source": [
        "from random import sample\n",
        "male_preprocessed_sample = sample(male_preprocessed,50)\n",
        "less_female_preprocessed_sample = sample(less_female_preprocessed,50)\n",
        "more_female_preprocessed_sample = sample(more_female_preprocessed,50)\n",
        "\n",
        "len(male_preprocessed_sample), len(less_female_preprocessed_sample), len(more_female_preprocessed_sample)"
      ]
    },
    {
      "cell_type": "code",
      "execution_count": 111,
      "metadata": {
        "id": "cvhqCgkcPz_5"
      },
      "outputs": [],
      "source": [
        "male_vector_lst = []\n",
        "for i in range (0,50):\n",
        "  male_vector_lst.append(create_vector(male_preprocessed_sample[i], w2vmodel_cleaned))"
      ]
    },
    {
      "cell_type": "code",
      "source": [
        "less_female_vector_lst = []\n",
        "for i in range (0,50):\n",
        "  less_female_vector_lst.append(create_vector(less_female_preprocessed_sample[i], w2vmodel_cleaned))"
      ],
      "metadata": {
        "id": "FSB0JMGhcN1M"
      },
      "execution_count": 112,
      "outputs": []
    },
    {
      "cell_type": "code",
      "source": [
        "more_female_vector_lst = []\n",
        "for i in range (0,50):\n",
        "  more_female_vector_lst.append(create_vector(more_female_preprocessed_sample[i], w2vmodel_cleaned))"
      ],
      "metadata": {
        "id": "04NLmTaacRtX"
      },
      "execution_count": 113,
      "outputs": []
    },
    {
      "cell_type": "markdown",
      "source": [
        "##### PCA"
      ],
      "metadata": {
        "id": "k41N5pE4cWwi"
      }
    },
    {
      "cell_type": "code",
      "execution_count": null,
      "metadata": {
        "id": "gsqlgGmFMcR6"
      },
      "outputs": [],
      "source": [
        "numWords = 50\n",
        "targetWords = w2vmodel_cleaned.wv.index2word[:numWords]"
      ]
    },
    {
      "cell_type": "code",
      "execution_count": null,
      "metadata": {
        "colab": {
          "base_uri": "https://localhost:8080/"
        },
        "id": "lGmGV91YNmOK",
        "outputId": "558d282e-4599-42f0-f424-b016c93bffdc"
      },
      "outputs": [
        {
          "name": "stderr",
          "output_type": "stream",
          "text": [
            "/usr/local/lib/python3.7/dist-packages/ipykernel_launcher.py:3: DeprecationWarning: Call to deprecated `__getitem__` (Method will be removed in 4.0.0, use self.wv.__getitem__() instead).\n",
            "  This is separate from the ipykernel package so we can avoid doing imports until\n"
          ]
        },
        {
          "data": {
            "text/plain": [
              "array([[-0.5071233 ,  0.4333415 ,  0.00616709, ..., -0.18392275,\n",
              "        -0.20879635,  0.846179  ],\n",
              "       [ 0.11239588,  0.15977383,  0.34680635, ..., -0.37031224,\n",
              "         0.38599804,  0.86333966],\n",
              "       [-1.2947927 ,  0.7300754 ,  0.09971226, ..., -0.01187846,\n",
              "         0.37008658,  0.3436487 ],\n",
              "       ...,\n",
              "       [-0.57277197, -0.20106511, -0.08657126, ...,  0.3189932 ,\n",
              "         0.0334217 ,  0.23660289],\n",
              "       [-1.3933754 ,  0.8395971 , -1.7471507 , ..., -0.36876294,\n",
              "        -0.33924487,  0.07220302],\n",
              "       [-0.28701535,  0.2707389 , -0.33722818, ...,  0.5164982 ,\n",
              "         0.09835333, -0.32531396]], dtype=float32)"
            ]
          },
          "execution_count": 31,
          "metadata": {},
          "output_type": "execute_result"
        }
      ],
      "source": [
        "wordsSubMatrix = []\n",
        "for word in targetWords:\n",
        "    wordsSubMatrix.append(w2vmodel_cleaned[word])\n",
        "wordsSubMatrix = np.array(wordsSubMatrix)\n",
        "wordsSubMatrix"
      ]
    },
    {
      "cell_type": "code",
      "execution_count": null,
      "metadata": {
        "id": "VzkeRSnrOCfS"
      },
      "outputs": [],
      "source": [
        "import sklearn.metrics.pairwise #For cosine similarity\n",
        "import sklearn.manifold #For T-SNE\n",
        "import sklearn.decomposition #For PCA\n",
        "import matplotlib.pyplot as plt"
      ]
    },
    {
      "cell_type": "code",
      "execution_count": 145,
      "metadata": {
        "colab": {
          "base_uri": "https://localhost:8080/"
        },
        "id": "Uc3Iy_-SNtZz",
        "outputId": "86927980-58a0-42c1-f0b2-387a8c779a46"
      },
      "outputs": [
        {
          "output_type": "stream",
          "name": "stderr",
          "text": [
            "/usr/local/lib/python3.7/dist-packages/sklearn/manifold/_t_sne.py:783: FutureWarning:\n",
            "\n",
            "The default initialization in TSNE will change from 'random' to 'pca' in 1.2.\n",
            "\n",
            "/usr/local/lib/python3.7/dist-packages/sklearn/manifold/_t_sne.py:793: FutureWarning:\n",
            "\n",
            "The default learning rate in TSNE will change from 200.0 to 'auto' in 1.2.\n",
            "\n"
          ]
        }
      ],
      "source": [
        "pcaWords = sklearn.decomposition.PCA(n_components = 3).fit(male_vector_lst)\n",
        "reducedPCA_data = pcaWords.transform(male_vector_lst)\n",
        "#T-SNE is theoretically better, but you should experiment\n",
        "tsneWords_male = sklearn.manifold.TSNE(n_components = 2).fit_transform(reducedPCA_data)"
      ]
    },
    {
      "cell_type": "code",
      "source": [
        "pcaWords = sklearn.decomposition.PCA(n_components = 3).fit(less_female_vector_lst)\n",
        "reducedPCA_data = pcaWords.transform(less_female_vector_lst)\n",
        "#T-SNE is theoretically better, but you should experiment\n",
        "tsneWords_less_female = sklearn.manifold.TSNE(n_components = 2).fit_transform(reducedPCA_data)"
      ],
      "metadata": {
        "colab": {
          "base_uri": "https://localhost:8080/"
        },
        "id": "bQYXEgFs3XX1",
        "outputId": "ab3b79c8-790d-4d22-f940-3b50e53ca84f"
      },
      "execution_count": 146,
      "outputs": [
        {
          "output_type": "stream",
          "name": "stderr",
          "text": [
            "/usr/local/lib/python3.7/dist-packages/sklearn/manifold/_t_sne.py:783: FutureWarning:\n",
            "\n",
            "The default initialization in TSNE will change from 'random' to 'pca' in 1.2.\n",
            "\n",
            "/usr/local/lib/python3.7/dist-packages/sklearn/manifold/_t_sne.py:793: FutureWarning:\n",
            "\n",
            "The default learning rate in TSNE will change from 200.0 to 'auto' in 1.2.\n",
            "\n"
          ]
        }
      ]
    },
    {
      "cell_type": "code",
      "source": [
        "pcaWords = sklearn.decomposition.PCA(n_components = 3).fit(more_female_vector_lst)\n",
        "reducedPCA_data = pcaWords.transform(more_female_vector_lst)\n",
        "#T-SNE is theoretically better, but you should experiment\n",
        "tsneWords_more_female = sklearn.manifold.TSNE(n_components = 2).fit_transform(reducedPCA_data)"
      ],
      "metadata": {
        "colab": {
          "base_uri": "https://localhost:8080/"
        },
        "id": "3mYGsyyO3frF",
        "outputId": "d32dde9e-8bb3-4309-b0dc-d825d1590ba2"
      },
      "execution_count": 147,
      "outputs": [
        {
          "output_type": "stream",
          "name": "stderr",
          "text": [
            "/usr/local/lib/python3.7/dist-packages/sklearn/manifold/_t_sne.py:783: FutureWarning:\n",
            "\n",
            "The default initialization in TSNE will change from 'random' to 'pca' in 1.2.\n",
            "\n",
            "/usr/local/lib/python3.7/dist-packages/sklearn/manifold/_t_sne.py:793: FutureWarning:\n",
            "\n",
            "The default learning rate in TSNE will change from 200.0 to 'auto' in 1.2.\n",
            "\n"
          ]
        }
      ]
    },
    {
      "cell_type": "code",
      "source": [
        "plt.scatter(tsneWords_male[:,0], tsneWords_male[:,1])\n",
        "plt.scatter(tsneWords_less_female[:,0], tsneWords_less_female[:,1])\n",
        "plt.scatter(tsneWords_more_female[:,0], tsneWords_more_female[:,1])"
      ],
      "metadata": {
        "colab": {
          "base_uri": "https://localhost:8080/",
          "height": 283
        },
        "id": "9fP-bObUpk1p",
        "outputId": "050e9d5c-a96a-4a26-b9fb-99fa3fe88ddf"
      },
      "execution_count": 180,
      "outputs": [
        {
          "output_type": "execute_result",
          "data": {
            "text/plain": [
              "<matplotlib.collections.PathCollection at 0x7fe204e178d0>"
            ]
          },
          "metadata": {},
          "execution_count": 180
        },
        {
          "output_type": "display_data",
          "data": {
            "text/plain": [
              "<Figure size 432x288 with 1 Axes>"
            ],
            "image/png": "[encoded data removed]"
          },
          "metadata": {
            "needs_background": "light"
          }
        }
      ]
    },
    {
      "cell_type": "markdown",
      "source": [
        "only_male = blue\n",
        "less_female = orange\n",
        "more_female = green"
      ],
      "metadata": {
        "id": "LkhRxzeC6VFK"
      }
    }
  ],
  "metadata": {
    "accelerator": "GPU",
    "colab": {
      "background_execution": "on",
      "collapsed_sections": [
        "cQq0DzfAfumj",
        "7rP42ryviJ6F"
      ],
      "machine_shape": "hm",
      "name": "Deep Learning Final Word2Vec.ipynb",
      "toc_visible": true,
      "provenance": []
    },
    "kernelspec": {
      "display_name": "Python 3",
      "name": "python3"
    },
    "language_info": {
      "name": "python"
    }
  },
  "nbformat": 4,
  "nbformat_minor": 0
}