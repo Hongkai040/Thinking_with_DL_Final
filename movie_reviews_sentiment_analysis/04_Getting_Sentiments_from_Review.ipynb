{
  "nbformat": 4,
  "nbformat_minor": 0,
  "metadata": {
    "colab": {
      "name": "Getting_Sentiments_from_Review.ipynb",
      "provenance": [],
      "toc_visible": true
    },
    "kernelspec": {
      "name": "python3",
      "display_name": "Python 3"
    },
    "language_info": {
      "name": "python"
    },
    "accelerator": "GPU"
  },
  "cells": [
    {
      "cell_type": "code",
      "source": [
        "from google.colab import drive\n",
        "drive.mount('/content/drive')"
      ],
      "metadata": {
        "colab": {
          "base_uri": "https://localhost:8080/"
        },
        "id": "FZSmHdslBge0",
        "outputId": "e7831cf4-03f1-4318-dfde-069232b6f931"
      },
      "execution_count": 34,
      "outputs": [
        {
          "output_type": "stream",
          "name": "stdout",
          "text": [
            "Drive already mounted at /content/drive; to attempt to forcibly remount, call drive.mount(\"/content/drive\", force_remount=True).\n"
          ]
        }
      ]
    },
    {
      "cell_type": "code",
      "source": [
        "import json\n",
        "import pandas as pd"
      ],
      "metadata": {
        "id": "hLj0-wFtbmnP"
      },
      "execution_count": null,
      "outputs": []
    },
    {
      "cell_type": "markdown",
      "source": [
        "## Getting IMDB Cast\n",
        "https://imdb-api.com/en/API/FullCast/{api_key}/{id}"
      ],
      "metadata": {
        "id": "GXIpuWuXlqW9"
      }
    },
    {
      "cell_type": "code",
      "source": [
        "df = pd.read_csv('/content/drive/MyDrive/IMDBdata/IMDB_infos.csv')[['IMDBid', 'index']]"
      ],
      "metadata": {
        "id": "tstQKTQ-lo4_"
      },
      "execution_count": null,
      "outputs": []
    },
    {
      "cell_type": "code",
      "source": [
        "cvktoimdb = df.set_index('index').to_dict()\n",
        "imdbtocvk = df.set_index('IMDBid').to_dict()"
      ],
      "metadata": {
        "id": "zVo3YnGDeeMJ"
      },
      "execution_count": null,
      "outputs": []
    },
    {
      "cell_type": "markdown",
      "source": [
        "## Doing NER Tagging"
      ],
      "metadata": {
        "id": "y5gUcsl_vw4t"
      }
    },
    {
      "cell_type": "code",
      "source": [
        "!pip install spacytextblob\n",
        "!python -m textblob.download_corpora\n",
        "!python -m spacy download en_core_web_sm"
      ],
      "metadata": {
        "id": "u6dAs0lQd8Ad"
      },
      "execution_count": null,
      "outputs": []
    },
    {
      "cell_type": "code",
      "execution_count": null,
      "metadata": {
        "id": "790-9A7zZavg"
      },
      "outputs": [],
      "source": [
        "import spacy\n",
        "nlp = spacy.load(\"en_core_web_sm\")"
      ]
    },
    {
      "cell_type": "code",
      "source": [
        "from gensim.parsing.preprocessing import remove_stopwords\n",
        "import re"
      ],
      "metadata": {
        "id": "hcZclT_bgtE8"
      },
      "execution_count": null,
      "outputs": []
    },
    {
      "cell_type": "code",
      "source": [
        "from nltk import tokenize"
      ],
      "metadata": {
        "id": "copZOUFl3-0X"
      },
      "execution_count": null,
      "outputs": []
    },
    {
      "cell_type": "code",
      "source": [
        "import glob\n",
        "comment_paths = glob.glob('/content/drive/MyDrive/IMDB/reviews_rat/*')\n",
        "print(len(comment_paths))"
      ],
      "metadata": {
        "colab": {
          "base_uri": "https://localhost:8080/"
        },
        "id": "q1La5hwj1QtU",
        "outputId": "f5ba1f48-fa1e-4b60-b647-a06cb29e1823"
      },
      "execution_count": null,
      "outputs": [
        {
          "output_type": "stream",
          "name": "stdout",
          "text": [
            "617\n"
          ]
        }
      ]
    },
    {
      "cell_type": "code",
      "source": [
        "all_data = []\n",
        "for path in comment_paths:\n",
        "  data = pd.read_csv(path)\n",
        "  imdb = path.split('/')[-1].split('.')[0]\n",
        "  data['imdb_id'] = imdb\n",
        "  data['cnvk_id'] = imdbtocvk['index'][imdb]\n",
        "  all_data.append(data)\n",
        "data = pd.concat(all_data)\n",
        "data.shape"
      ],
      "metadata": {
        "colab": {
          "base_uri": "https://localhost:8080/"
        },
        "id": "cuTTZ224Z1w_",
        "outputId": "f41997bd-cddd-4ab3-ef86-46872d268db6"
      },
      "execution_count": null,
      "outputs": [
        {
          "output_type": "execute_result",
          "data": {
            "text/plain": [
              "(316132, 8)"
            ]
          },
          "metadata": {},
          "execution_count": 10
        }
      ]
    },
    {
      "cell_type": "code",
      "source": [
        "data=data.reset_index(drop=True)"
      ],
      "metadata": {
        "id": "GK2AWi6l2cFo"
      },
      "execution_count": null,
      "outputs": []
    },
    {
      "cell_type": "code",
      "source": [
        "import json"
      ],
      "metadata": {
        "id": "Rt1MTxwFxqQY"
      },
      "execution_count": null,
      "outputs": []
    },
    {
      "cell_type": "code",
      "source": [
        "with open('/content/drive/MyDrive/IMDBdata/characters.json') as f:\n",
        "  all_characters = json.load(f)"
      ],
      "metadata": {
        "id": "yZ1lEVajxtKs"
      },
      "execution_count": null,
      "outputs": []
    },
    {
      "cell_type": "code",
      "source": [
        "female_characters = {}\n",
        "male_characters = {}\n",
        "for movie in all_characters:\n",
        "  for charac in all_characters[movie]:\n",
        "    if all_characters[movie][charac]['gender'] == 'f':\n",
        "      try:\n",
        "        female_characters[movie][charac] = all_characters[movie][charac]\n",
        "      except:\n",
        "        female_characters[movie] = {}\n",
        "        female_characters[movie][charac] = all_characters[movie][charac]\n",
        "    elif all_characters[movie][charac]['gender'] == 'm':\n",
        "      try:\n",
        "        male_characters[movie][charac] = all_characters[movie][charac]\n",
        "      except:\n",
        "        male_characters[movie] = {}\n",
        "        male_characters[movie][charac] = all_characters[movie][charac]"
      ],
      "metadata": {
        "id": "Vyy4P_yGIdhZ"
      },
      "execution_count": null,
      "outputs": []
    },
    {
      "cell_type": "markdown",
      "source": [
        "## Pre-loading Models for Sentiment Analysis\n"
      ],
      "metadata": {
        "id": "NiDgkNf9Msak"
      }
    },
    {
      "cell_type": "markdown",
      "source": [
        "### With some pronouns and verb-filtered"
      ],
      "metadata": {
        "id": "GzutDshyNZ6d"
      }
    },
    {
      "cell_type": "code",
      "source": [
        "male_pronouns = ['he', 'him', 'man', 'men', 'boy']\n",
        "female_pronouns = ['she', 'her', 'woman', 'women', 'girl']\n",
        "pronouns = male_pronouns + female_pronouns\n",
        "filter_verbs = ['direct', 'film', 'role-play', 'act', 'perform', 'portray', 'cast']"
      ],
      "metadata": {
        "id": "7ti_gYeVN_EL"
      },
      "execution_count": null,
      "outputs": []
    },
    {
      "cell_type": "markdown",
      "source": [
        "### Textblob for sentiment analysis"
      ],
      "metadata": {
        "id": "A4dIgKeBS4H1"
      }
    },
    {
      "cell_type": "code",
      "source": [
        "from textblob import TextBlob"
      ],
      "metadata": {
        "id": "91x_9i4mS-pe"
      },
      "execution_count": null,
      "outputs": []
    },
    {
      "cell_type": "markdown",
      "source": [
        "### Self-trained Sentiment Analysis Model"
      ],
      "metadata": {
        "id": "kQo7I3Hvckyz"
      }
    },
    {
      "cell_type": "code",
      "source": [
        "#Load the libraries\n",
        "import numpy as np\n",
        "import pandas as pd\n",
        "import seaborn as sns\n",
        "import matplotlib.pyplot as plt\n",
        "import nltk\n",
        "from sklearn.feature_extraction.text import CountVectorizer\n",
        "from sklearn.feature_extraction.text import TfidfVectorizer\n",
        "from sklearn.preprocessing import LabelBinarizer\n",
        "from nltk.corpus import stopwords\n",
        "from nltk.stem.porter import PorterStemmer\n",
        "from wordcloud import WordCloud,STOPWORDS\n",
        "from nltk.stem import WordNetLemmatizer\n",
        "from nltk.tokenize import word_tokenize,sent_tokenize\n",
        "from bs4 import BeautifulSoup\n",
        "import spacy\n",
        "import re,string,unicodedata\n",
        "from nltk.tokenize.toktok import ToktokTokenizer\n",
        "from nltk.stem import LancasterStemmer,WordNetLemmatizer\n",
        "from sklearn.linear_model import LogisticRegression,SGDClassifier\n",
        "from sklearn.naive_bayes import MultinomialNB\n",
        "from sklearn.svm import SVC\n",
        "from textblob import TextBlob\n",
        "from textblob import Word\n",
        "from sklearn.metrics import classification_report,confusion_matrix,accuracy_score\n",
        "\n",
        "import os\n",
        "import warnings\n",
        "warnings.filterwarnings('ignore')"
      ],
      "metadata": {
        "id": "BKVPDXR0cjAn"
      },
      "execution_count": null,
      "outputs": []
    },
    {
      "cell_type": "code",
      "source": [
        "from __future__ import unicode_literals, print_function, division\n",
        "from io import open\n",
        "import unicodedata\n",
        "import string\n",
        "import re\n",
        "import random\n",
        "\n",
        "import torch\n",
        "import torch.nn as nn\n",
        "from torch import optim\n",
        "import torch.nn.functional as F\n",
        "\n",
        "device = torch.device(\"cuda\" if torch.cuda.is_available() else \"cpu\")"
      ],
      "metadata": {
        "id": "mVDSVAF6dKvL"
      },
      "execution_count": null,
      "outputs": []
    },
    {
      "cell_type": "code",
      "source": [
        "! pip install transformers"
      ],
      "metadata": {
        "colab": {
          "base_uri": "https://localhost:8080/"
        },
        "id": "u70ler0KdOQH",
        "outputId": "41fcc403-be04-4455-9601-ba5a9bde8d07"
      },
      "execution_count": null,
      "outputs": [
        {
          "output_type": "stream",
          "name": "stdout",
          "text": [
            "Looking in indexes: https://pypi.org/simple, https://us-python.pkg.dev/colab-wheels/public/simple/\n",
            "Requirement already satisfied: transformers in /usr/local/lib/python3.7/dist-packages (4.19.2)\n",
            "Requirement already satisfied: tokenizers!=0.11.3,<0.13,>=0.11.1 in /usr/local/lib/python3.7/dist-packages (from transformers) (0.12.1)\n",
            "Requirement already satisfied: numpy>=1.17 in /usr/local/lib/python3.7/dist-packages (from transformers) (1.21.6)\n",
            "Requirement already satisfied: filelock in /usr/local/lib/python3.7/dist-packages (from transformers) (3.7.0)\n",
            "Requirement already satisfied: requests in /usr/local/lib/python3.7/dist-packages (from transformers) (2.23.0)\n",
            "Requirement already satisfied: regex!=2019.12.17 in /usr/local/lib/python3.7/dist-packages (from transformers) (2019.12.20)\n",
            "Requirement already satisfied: tqdm>=4.27 in /usr/local/lib/python3.7/dist-packages (from transformers) (4.64.0)\n",
            "Requirement already satisfied: packaging>=20.0 in /usr/local/lib/python3.7/dist-packages (from transformers) (21.3)\n",
            "Requirement already satisfied: pyyaml>=5.1 in /usr/local/lib/python3.7/dist-packages (from transformers) (6.0)\n",
            "Requirement already satisfied: importlib-metadata in /usr/local/lib/python3.7/dist-packages (from transformers) (4.11.3)\n",
            "Requirement already satisfied: huggingface-hub<1.0,>=0.1.0 in /usr/local/lib/python3.7/dist-packages (from transformers) (0.7.0)\n",
            "Requirement already satisfied: typing-extensions>=3.7.4.3 in /usr/local/lib/python3.7/dist-packages (from huggingface-hub<1.0,>=0.1.0->transformers) (3.10.0.2)\n",
            "Requirement already satisfied: pyparsing!=3.0.5,>=2.0.2 in /usr/local/lib/python3.7/dist-packages (from packaging>=20.0->transformers) (3.0.9)\n",
            "Requirement already satisfied: zipp>=0.5 in /usr/local/lib/python3.7/dist-packages (from importlib-metadata->transformers) (3.8.0)\n",
            "Requirement already satisfied: chardet<4,>=3.0.2 in /usr/local/lib/python3.7/dist-packages (from requests->transformers) (3.0.4)\n",
            "Requirement already satisfied: idna<3,>=2.5 in /usr/local/lib/python3.7/dist-packages (from requests->transformers) (2.10)\n",
            "Requirement already satisfied: urllib3!=1.25.0,!=1.25.1,<1.26,>=1.21.1 in /usr/local/lib/python3.7/dist-packages (from requests->transformers) (1.24.3)\n",
            "Requirement already satisfied: certifi>=2017.4.17 in /usr/local/lib/python3.7/dist-packages (from requests->transformers) (2022.5.18.1)\n"
          ]
        }
      ]
    },
    {
      "cell_type": "code",
      "source": [
        "from torch.utils.data import TensorDataset, DataLoader, RandomSampler, SequentialSampler\n",
        "from sklearn.model_selection import train_test_split\n",
        "from transformers import BertTokenizer, BertConfig\n",
        "from transformers import AdamW, BertForSequenceClassification\n",
        "import transformers\n",
        "from tqdm import tqdm, trange\n",
        "import pandas as pd\n",
        "import io"
      ],
      "metadata": {
        "id": "K9gdUkmveMhs"
      },
      "execution_count": null,
      "outputs": []
    },
    {
      "cell_type": "code",
      "source": [
        "model = torch.load('/content/drive/MyDrive/IMDBdata/self-trained-sa')"
      ],
      "metadata": {
        "id": "1fGa5sFfcu80"
      },
      "execution_count": null,
      "outputs": []
    },
    {
      "cell_type": "code",
      "source": [
        "tokenizer = BertTokenizer.from_pretrained('bert-base-uncased', do_lower_case=True)"
      ],
      "metadata": {
        "id": "ftuXRub4dMvm"
      },
      "execution_count": null,
      "outputs": []
    },
    {
      "cell_type": "code",
      "source": [
        "pred = transformers.pipeline(\"text-classification\", model=model, tokenizer=tokenizer, device=0, truncation=True, return_all_scores=True)"
      ],
      "metadata": {
        "id": "BuUF82LceDIm"
      },
      "execution_count": null,
      "outputs": []
    },
    {
      "cell_type": "markdown",
      "source": [
        "# Run through all movies"
      ],
      "metadata": {
        "id": "xFAgIVjihkxx"
      }
    },
    {
      "cell_type": "code",
      "source": [
        "def get_character_part(reviews, movie):\n",
        "  # character_related_sents = []\n",
        "  character_related_reviews = []\n",
        "  for review in reviews:\n",
        "    locations = []\n",
        "    isCharact = []\n",
        "    cnt = 0\n",
        "    review_level = []\n",
        "    sentences = tokenize.sent_tokenize(review)\n",
        "    for sent in sentences:\n",
        "      sent = nlp(sent)\n",
        "      person = False\n",
        "      isChara = False\n",
        "      for ent in sent.ents:\n",
        "        if ent.label_ == \"PERSON\":\n",
        "          person = True\n",
        "          for charac in all_characters[movie].keys():\n",
        "            if charac in ent.text.upper():\n",
        "              isChara = True\n",
        "      if person:\n",
        "        locations.append(cnt)\n",
        "        isCharact.append(isChara)\n",
        "      else:\n",
        "        try:\n",
        "          if isCharact[-1]:\n",
        "            add_this = False\n",
        "            for pronoun in pronouns:\n",
        "              if pronoun in sent.text.lower().split():\n",
        "                add_this = True\n",
        "            if add_this:\n",
        "              isCharact.append(True)\n",
        "            else:\n",
        "              isCharact.append(False)\n",
        "            locations.append(cnt)\n",
        "          else:\n",
        "            locations.append(cnt)\n",
        "            isCharact.append(False)\n",
        "        except:\n",
        "          locations.append(cnt)\n",
        "          isCharact.append(False)\n",
        "      cnt += 1\n",
        "    for i in range(len(sentences)):\n",
        "      if isCharact[i]:\n",
        "        # character_related_sents.append(sentences[i])\n",
        "        review_level.append(sentences[i])\n",
        "    character_related_reviews.append(review_level)\n",
        "  return character_related_reviews"
      ],
      "metadata": {
        "id": "I7BXBVgphxAQ"
      },
      "execution_count": null,
      "outputs": []
    },
    {
      "cell_type": "code",
      "source": [
        "def separate_gender(reviews):\n",
        "  male_reviews = []\n",
        "  female_reviews = []\n",
        "  for character_related in reviews:\n",
        "    male_character_related = []\n",
        "    female_character_related = []\n",
        "    for sent in character_related:\n",
        "      add_in_male = False\n",
        "      for pronoun in male_pronouns:\n",
        "        if pronoun in sent.lower().split():\n",
        "          male_character_related.append(sent)\n",
        "          add_in_male = True\n",
        "          break\n",
        "      if not add_in_male:\n",
        "        for charac in male_characters['m594']:\n",
        "          if charac in sent.upper():\n",
        "            male_character_related.append(sent)\n",
        "            break\n",
        "      add_in_female = False\n",
        "      for pronoun in female_pronouns:\n",
        "        if pronoun in sent.lower().split():\n",
        "          female_character_related.append(sent)\n",
        "          add_in_female = True\n",
        "          break\n",
        "      if not add_in_female:\n",
        "        for charac in female_characters['m594']:\n",
        "          if charac in sent.upper():\n",
        "            female_character_related.append(sent)\n",
        "            break\n",
        "    if len(male_character_related) > 0:\n",
        "      male_reviews.append(male_character_related)\n",
        "    if len(female_character_related) > 0:\n",
        "      female_reviews.append(female_character_related)\n",
        "  return male_reviews, female_reviews"
      ],
      "metadata": {
        "id": "3Lq8NxRwlTRu"
      },
      "execution_count": null,
      "outputs": []
    },
    {
      "cell_type": "code",
      "source": [
        "def get_sentence_level_sentiments(reviews, pred):\n",
        "  reviews = [item for sublist in reviews for item in sublist]\n",
        "  polarity_blob = []\n",
        "  subjectivity_blob = []\n",
        "  for sent in reviews:\n",
        "    sentiments = TextBlob(sent).sentiment\n",
        "    polarity_blob.append(sentiments[0])\n",
        "    subjectivity_blob.append(sentiments[1])\n",
        "  results = pred(reviews)\n",
        "  self_sentiment = [result[1]['score'] for result in results]\n",
        "  return polarity_blob, subjectivity_blob, self_sentiment"
      ],
      "metadata": {
        "id": "DNArFycvmo-K"
      },
      "execution_count": null,
      "outputs": []
    },
    {
      "cell_type": "code",
      "source": [
        "def get_review_level_sentiments(reviews, pred):\n",
        "  reviews = [' '.join(sublist) for sublist in reviews]\n",
        "  polarity_blob = []\n",
        "  subjectivity_blob = []\n",
        "  for sent in reviews:\n",
        "    sentiments = TextBlob(sent).sentiment\n",
        "    polarity_blob.append(sentiments[0])\n",
        "    subjectivity_blob.append(sentiments[1])\n",
        "  results = pred(reviews)\n",
        "  self_sentiment = [result[1]['score'] for result in results]\n",
        "  return polarity_blob, subjectivity_blob, self_sentiment"
      ],
      "metadata": {
        "id": "PkDoE4maq7MB"
      },
      "execution_count": null,
      "outputs": []
    },
    {
      "cell_type": "markdown",
      "source": [
        "## Edited Version"
      ],
      "metadata": {
        "id": "i0OUrSP2TxS4"
      }
    },
    {
      "cell_type": "code",
      "source": [
        "cnt = 0\n",
        "results_dict = {}\n",
        "for movie in data.imdb_id.unique():\n",
        "  try:\n",
        "    results_dict[movie] = {}\n",
        "    reviews = data[data['imdb_id'] == movie]\n",
        "    reviews = get_character_part(reviews.review, data[data['imdb_id'] == movie].cnvk_id.values[0])\n",
        "    male_part, female_part = separate_gender(reviews)\n",
        "    # male_polarity_blob, male_subjectivity_blob, male_self_sentiment = get_sentence_level_sentiments(male_part, pred)\n",
        "    # female_polarity_blob, female_subjectivity_blob, female_self_sentiment = get_sentence_level_sentiments(female_part, pred)\n",
        "    # results_dict[movie]['male_sent_blob'] = male_polarity_blob\n",
        "    # results_dict[movie]['male_sent_subj'] = male_subjectivity_blob\n",
        "    # results_dict[movie]['male_sent_self'] = male_self_sentiment\n",
        "    # results_dict[movie]['female_sent_blob'] = female_polarity_blob\n",
        "    # results_dict[movie]['female_sent_subj'] = female_subjectivity_blob\n",
        "    # results_dict[movie]['female_sent_self'] = female_self_sentiment\n",
        "    male_polarity_blob, male_subjectivity_blob, male_self_sentiment = get_review_level_sentiments(male_part, pred)\n",
        "    female_polarity_blob, female_subjectivity_blob, female_self_sentiment = get_review_level_sentiments(female_part, pred)\n",
        "    results_dict[movie]['male_revw_blob'] = male_polarity_blob\n",
        "    results_dict[movie]['male_revw_subj'] = male_subjectivity_blob\n",
        "    results_dict[movie]['male_revw_self'] = male_self_sentiment\n",
        "    results_dict[movie]['female_revw_blob'] = female_polarity_blob\n",
        "    results_dict[movie]['female_revw_subj'] = female_subjectivity_blob\n",
        "    results_dict[movie]['female_revw_self'] = female_self_sentiment\n",
        "    with open(f'/content/drive/MyDrive/IMDB/sentiments/{movie}.json', 'w') as f:\n",
        "      json.dump(results_dict[movie], f)\n",
        "  except:\n",
        "    print(movie)\n",
        "  print(cnt, end=' ')\n",
        "  cnt += 1"
      ],
      "metadata": {
        "colab": {
          "base_uri": "https://localhost:8080/"
        },
        "id": "PARwcoOdT52Z",
        "outputId": "2eb010f1-4d67-44df-cb39-cf81a0772575"
      },
      "execution_count": null,
      "outputs": [
        {
          "output_type": "stream",
          "name": "stdout",
          "text": [
            "0 1 2 3 4 5 6 7 8 9 10 11 12 13 14 15 16 17 18 19 20 21 22 23 24 25 26 27 28 29 30 31 32 33 34 35 36 37 38 39 40 41 42 43 44 45 46 47 48 49 50 51 52 53 54 55 56 57 58 59 60 61 62 63 64 65 66 67 68 69 70 71 72 73 74 75 76 77 78 79 80 81 82 83 84 85 86 87 88 89 90 91 92 93 94 95 96 97 98 99 100 101 102 103 104 105 106 107 108 109 110 111 112 113 114 115 116 117 118 119 120 121 122 123 124 125 126 127 128 129 130 131 132 133 134 135 136 137 138 139 140 141 142 143 144 145 146 147 148 149 150 151 152 153 154 155 156 157 158 159 160 161 162 163 164 165 166 167 168 169 170 171 172 173 174 175 176 177 178 179 180 181 182 183 184 185 186 187 188 189 190 191 192 193 194 195 196 197 198 199 200 201 202 203 204 205 206 207 208 209 210 211 212 213 214 215 216 217 218 219 220 221 222 223 224 225 226 227 228 229 230 231 232 233 234 235 236 237 238 239 240 241 242 243 244 245 246 247 248 249 250 251 252 253 254 255 256 257 258 259 260 261 262 263 264 265 266 267 268 269 270 271 272 273 274 275 276 277 278 279 280 281 282 283 284 285 286 287 288 289 290 291 292 293 294 295 296 297 298 299 300 301 302 303 304 305 306 307 308 309 310 311 312 313 314 315 316 317 318 319 320 321 322 323 324 325 326 327 328 329 330 331 332 333 334 335 336 337 338 339 340 341 342 343 344 345 346 347 348 349 350 351 352 353 354 355 356 357 358 359 360 361 362 363 364 365 366 367 368 369 370 371 372 373 374 375 376 377 378 379 380 381 382 383 384 385 386 387 388 389 390 391 392 393 394 395 396 397 398 399 400 401 402 403 404 405 406 407 408 409 410 411 412 413 414 415 416 417 418 419 420 421 422 423 424 425 426 427 428 429 430 431 432 433 434 435 436 437 438 439 440 441 442 443 444 445 446 447 448 449 450 451 452 453 454 455 456 457 458 459 460 461 462 463 464 465 466 467 468 469 470 471 472 473 474 475 476 477 478 479 480 481 482 483 484 485 486 487 488 489 490 491 492 493 494 495 496 497 498 499 500 501 502 503 504 505 506 507 508 509 510 511 512 513 514 515 516 517 518 519 520 521 522 523 524 525 526 527 528 529 530 531 532 533 534 535 536 537 538 539 540 541 542 543 544 545 546 547 548 549 550 551 552 553 554 555 556 557 558 559 560 561 562 563 564 565 566 567 568 569 570 571 572 573 574 575 576 577 "
          ]
        }
      ]
    },
    {
      "cell_type": "code",
      "source": [
        ""
      ],
      "metadata": {
        "id": "l2fkx8WlLn9_"
      },
      "execution_count": null,
      "outputs": []
    },
    {
      "cell_type": "markdown",
      "source": [
        "# Run through all movies (Adding Time Label)"
      ],
      "metadata": {
        "id": "7YsQDUggst24"
      }
    },
    {
      "cell_type": "code",
      "source": [
        "len(data.imdb_id.unique())"
      ],
      "metadata": {
        "colab": {
          "base_uri": "https://localhost:8080/"
        },
        "outputId": "d310dd4e-f7ee-4e3a-d5c4-4dbaca901122",
        "id": "_IFiI5zpst27"
      },
      "execution_count": null,
      "outputs": [
        {
          "output_type": "execute_result",
          "data": {
            "text/plain": [
              "584"
            ]
          },
          "metadata": {},
          "execution_count": 28
        }
      ]
    },
    {
      "cell_type": "markdown",
      "source": [
        "## Edited Version"
      ],
      "metadata": {
        "id": "hLLz3DXYst27"
      }
    },
    {
      "cell_type": "code",
      "source": [
        "data.head(5)"
      ],
      "metadata": {
        "colab": {
          "base_uri": "https://localhost:8080/",
          "height": 337
        },
        "id": "c0Ms4M81v0kL",
        "outputId": "552370d9-6145-4a1f-a762-d8bba7fccd7d"
      },
      "execution_count": null,
      "outputs": [
        {
          "output_type": "execute_result",
          "data": {
            "text/plain": [
              "                                               title       user  rating  \\\n",
              "0  One of the year's best films; brilliantly acte...  ur0111563     9.0   \n",
              "1  A disturbing examination of the fruits of abus...  ur3314616     8.0   \n",
              "2    Affliction Clearly Schrader's Best Film To Date  ur2567338     9.0   \n",
              "3                            a masterpiece, true art  ur0007627     9.0   \n",
              "4                          Deep, complex, depressing  ur1903880     NaN   \n",
              "\n",
              "         date spoil                                             review  \\\n",
              "0  2000-12-27     0  AFFLICTION / (1997) **** (out of four) By Blak...   \n",
              "1  2005-10-12     1  I have watched this movie several times and re...   \n",
              "2  2009-11-25     1  Roger Ebert described it well. The effects of ...   \n",
              "3  1999-02-06     0  This is a movie which rewards at many levels. ...   \n",
              "4  2004-04-17     0  \"Affliction\" doesn't have an immediate plot.  ...   \n",
              "\n",
              "     imdb_id cnvk_id  \n",
              "0  tt0118564     m10  \n",
              "1  tt0118564     m10  \n",
              "2  tt0118564     m10  \n",
              "3  tt0118564     m10  \n",
              "4  tt0118564     m10  "
            ],
            "text/html": [
              "\n",
              "  <div id=\"df-1ed1e12b-421e-4b61-8532-317f5877dc40\">\n",
              "    <div class=\"colab-df-container\">\n",
              "      <div>\n",
              "<style scoped>\n",
              "    .dataframe tbody tr th:only-of-type {\n",
              "        vertical-align: middle;\n",
              "    }\n",
              "\n",
              "    .dataframe tbody tr th {\n",
              "        vertical-align: top;\n",
              "    }\n",
              "\n",
              "    .dataframe thead th {\n",
              "        text-align: right;\n",
              "    }\n",
              "</style>\n",
              "<table border=\"1\" class=\"dataframe\">\n",
              "  <thead>\n",
              "    <tr style=\"text-align: right;\">\n",
              "      <th></th>\n",
              "      <th>title</th>\n",
              "      <th>user</th>\n",
              "      <th>rating</th>\n",
              "      <th>date</th>\n",
              "      <th>spoil</th>\n",
              "      <th>review</th>\n",
              "      <th>imdb_id</th>\n",
              "      <th>cnvk_id</th>\n",
              "    </tr>\n",
              "  </thead>\n",
              "  <tbody>\n",
              "    <tr>\n",
              "      <th>0</th>\n",
              "      <td>One of the year's best films; brilliantly acte...</td>\n",
              "      <td>ur0111563</td>\n",
              "      <td>9.0</td>\n",
              "      <td>2000-12-27</td>\n",
              "      <td>0</td>\n",
              "      <td>AFFLICTION / (1997) **** (out of four) By Blak...</td>\n",
              "      <td>tt0118564</td>\n",
              "      <td>m10</td>\n",
              "    </tr>\n",
              "    <tr>\n",
              "      <th>1</th>\n",
              "      <td>A disturbing examination of the fruits of abus...</td>\n",
              "      <td>ur3314616</td>\n",
              "      <td>8.0</td>\n",
              "      <td>2005-10-12</td>\n",
              "      <td>1</td>\n",
              "      <td>I have watched this movie several times and re...</td>\n",
              "      <td>tt0118564</td>\n",
              "      <td>m10</td>\n",
              "    </tr>\n",
              "    <tr>\n",
              "      <th>2</th>\n",
              "      <td>Affliction Clearly Schrader's Best Film To Date</td>\n",
              "      <td>ur2567338</td>\n",
              "      <td>9.0</td>\n",
              "      <td>2009-11-25</td>\n",
              "      <td>1</td>\n",
              "      <td>Roger Ebert described it well. The effects of ...</td>\n",
              "      <td>tt0118564</td>\n",
              "      <td>m10</td>\n",
              "    </tr>\n",
              "    <tr>\n",
              "      <th>3</th>\n",
              "      <td>a masterpiece, true art</td>\n",
              "      <td>ur0007627</td>\n",
              "      <td>9.0</td>\n",
              "      <td>1999-02-06</td>\n",
              "      <td>0</td>\n",
              "      <td>This is a movie which rewards at many levels. ...</td>\n",
              "      <td>tt0118564</td>\n",
              "      <td>m10</td>\n",
              "    </tr>\n",
              "    <tr>\n",
              "      <th>4</th>\n",
              "      <td>Deep, complex, depressing</td>\n",
              "      <td>ur1903880</td>\n",
              "      <td>NaN</td>\n",
              "      <td>2004-04-17</td>\n",
              "      <td>0</td>\n",
              "      <td>\"Affliction\" doesn't have an immediate plot.  ...</td>\n",
              "      <td>tt0118564</td>\n",
              "      <td>m10</td>\n",
              "    </tr>\n",
              "  </tbody>\n",
              "</table>\n",
              "</div>\n",
              "      <button class=\"colab-df-convert\" onclick=\"convertToInteractive('df-1ed1e12b-421e-4b61-8532-317f5877dc40')\"\n",
              "              title=\"Convert this dataframe to an interactive table.\"\n",
              "              style=\"display:none;\">\n",
              "        \n",
              "  <svg xmlns=\"http://www.w3.org/2000/svg\" height=\"24px\"viewBox=\"0 0 24 24\"\n",
              "       width=\"24px\">\n",
              "    <path d=\"M0 0h24v24H0V0z\" fill=\"none\"/>\n",
              "    <path d=\"M18.56 5.44l.94 2.06.94-2.06 2.06-.94-2.06-.94-.94-2.06-.94 2.06-2.06.94zm-11 1L8.5 8.5l.94-2.06 2.06-.94-2.06-.94L8.5 2.5l-.94 2.06-2.06.94zm10 10l.94 2.06.94-2.06 2.06-.94-2.06-.94-.94-2.06-.94 2.06-2.06.94z\"/><path d=\"M17.41 7.96l-1.37-1.37c-.4-.4-.92-.59-1.43-.59-.52 0-1.04.2-1.43.59L10.3 9.45l-7.72 7.72c-.78.78-.78 2.05 0 2.83L4 21.41c.39.39.9.59 1.41.59.51 0 1.02-.2 1.41-.59l7.78-7.78 2.81-2.81c.8-.78.8-2.07 0-2.86zM5.41 20L4 18.59l7.72-7.72 1.47 1.35L5.41 20z\"/>\n",
              "  </svg>\n",
              "      </button>\n",
              "      \n",
              "  <style>\n",
              "    .colab-df-container {\n",
              "      display:flex;\n",
              "      flex-wrap:wrap;\n",
              "      gap: 12px;\n",
              "    }\n",
              "\n",
              "    .colab-df-convert {\n",
              "      background-color: #E8F0FE;\n",
              "      border: none;\n",
              "      border-radius: 50%;\n",
              "      cursor: pointer;\n",
              "      display: none;\n",
              "      fill: #1967D2;\n",
              "      height: 32px;\n",
              "      padding: 0 0 0 0;\n",
              "      width: 32px;\n",
              "    }\n",
              "\n",
              "    .colab-df-convert:hover {\n",
              "      background-color: #E2EBFA;\n",
              "      box-shadow: 0px 1px 2px rgba(60, 64, 67, 0.3), 0px 1px 3px 1px rgba(60, 64, 67, 0.15);\n",
              "      fill: #174EA6;\n",
              "    }\n",
              "\n",
              "    [theme=dark] .colab-df-convert {\n",
              "      background-color: #3B4455;\n",
              "      fill: #D2E3FC;\n",
              "    }\n",
              "\n",
              "    [theme=dark] .colab-df-convert:hover {\n",
              "      background-color: #434B5C;\n",
              "      box-shadow: 0px 1px 3px 1px rgba(0, 0, 0, 0.15);\n",
              "      filter: drop-shadow(0px 1px 2px rgba(0, 0, 0, 0.3));\n",
              "      fill: #FFFFFF;\n",
              "    }\n",
              "  </style>\n",
              "\n",
              "      <script>\n",
              "        const buttonEl =\n",
              "          document.querySelector('#df-1ed1e12b-421e-4b61-8532-317f5877dc40 button.colab-df-convert');\n",
              "        buttonEl.style.display =\n",
              "          google.colab.kernel.accessAllowed ? 'block' : 'none';\n",
              "\n",
              "        async function convertToInteractive(key) {\n",
              "          const element = document.querySelector('#df-1ed1e12b-421e-4b61-8532-317f5877dc40');\n",
              "          const dataTable =\n",
              "            await google.colab.kernel.invokeFunction('convertToInteractive',\n",
              "                                                     [key], {});\n",
              "          if (!dataTable) return;\n",
              "\n",
              "          const docLinkHtml = 'Like what you see? Visit the ' +\n",
              "            '<a target=\"_blank\" href=https://colab.research.google.com/notebooks/data_table.ipynb>data table notebook</a>'\n",
              "            + ' to learn more about interactive tables.';\n",
              "          element.innerHTML = '';\n",
              "          dataTable['output_type'] = 'display_data';\n",
              "          await google.colab.output.renderOutput(dataTable, element);\n",
              "          const docLink = document.createElement('div');\n",
              "          docLink.innerHTML = docLinkHtml;\n",
              "          element.appendChild(docLink);\n",
              "        }\n",
              "      </script>\n",
              "    </div>\n",
              "  </div>\n",
              "  "
            ]
          },
          "metadata": {},
          "execution_count": 29
        }
      ]
    },
    {
      "cell_type": "code",
      "source": [
        "data['review_year'] = data['date'].apply(lambda x: x.split('-')[0])\n",
        "data.head(5)"
      ],
      "metadata": {
        "colab": {
          "base_uri": "https://localhost:8080/",
          "height": 337
        },
        "id": "YrOqdd4uzLqg",
        "outputId": "bece61a4-05cf-462c-db27-cbda266479e5"
      },
      "execution_count": null,
      "outputs": [
        {
          "output_type": "execute_result",
          "data": {
            "text/plain": [
              "                                               title       user  rating  \\\n",
              "0  One of the year's best films; brilliantly acte...  ur0111563     9.0   \n",
              "1  A disturbing examination of the fruits of abus...  ur3314616     8.0   \n",
              "2    Affliction Clearly Schrader's Best Film To Date  ur2567338     9.0   \n",
              "3                            a masterpiece, true art  ur0007627     9.0   \n",
              "4                          Deep, complex, depressing  ur1903880     NaN   \n",
              "\n",
              "         date spoil                                             review  \\\n",
              "0  2000-12-27     0  AFFLICTION / (1997) **** (out of four) By Blak...   \n",
              "1  2005-10-12     1  I have watched this movie several times and re...   \n",
              "2  2009-11-25     1  Roger Ebert described it well. The effects of ...   \n",
              "3  1999-02-06     0  This is a movie which rewards at many levels. ...   \n",
              "4  2004-04-17     0  \"Affliction\" doesn't have an immediate plot.  ...   \n",
              "\n",
              "     imdb_id cnvk_id review_year  \n",
              "0  tt0118564     m10        2000  \n",
              "1  tt0118564     m10        2005  \n",
              "2  tt0118564     m10        2009  \n",
              "3  tt0118564     m10        1999  \n",
              "4  tt0118564     m10        2004  "
            ],
            "text/html": [
              "\n",
              "  <div id=\"df-cc98b1c0-1ad1-468a-a1f5-e42548458c26\">\n",
              "    <div class=\"colab-df-container\">\n",
              "      <div>\n",
              "<style scoped>\n",
              "    .dataframe tbody tr th:only-of-type {\n",
              "        vertical-align: middle;\n",
              "    }\n",
              "\n",
              "    .dataframe tbody tr th {\n",
              "        vertical-align: top;\n",
              "    }\n",
              "\n",
              "    .dataframe thead th {\n",
              "        text-align: right;\n",
              "    }\n",
              "</style>\n",
              "<table border=\"1\" class=\"dataframe\">\n",
              "  <thead>\n",
              "    <tr style=\"text-align: right;\">\n",
              "      <th></th>\n",
              "      <th>title</th>\n",
              "      <th>user</th>\n",
              "      <th>rating</th>\n",
              "      <th>date</th>\n",
              "      <th>spoil</th>\n",
              "      <th>review</th>\n",
              "      <th>imdb_id</th>\n",
              "      <th>cnvk_id</th>\n",
              "      <th>review_year</th>\n",
              "    </tr>\n",
              "  </thead>\n",
              "  <tbody>\n",
              "    <tr>\n",
              "      <th>0</th>\n",
              "      <td>One of the year's best films; brilliantly acte...</td>\n",
              "      <td>ur0111563</td>\n",
              "      <td>9.0</td>\n",
              "      <td>2000-12-27</td>\n",
              "      <td>0</td>\n",
              "      <td>AFFLICTION / (1997) **** (out of four) By Blak...</td>\n",
              "      <td>tt0118564</td>\n",
              "      <td>m10</td>\n",
              "      <td>2000</td>\n",
              "    </tr>\n",
              "    <tr>\n",
              "      <th>1</th>\n",
              "      <td>A disturbing examination of the fruits of abus...</td>\n",
              "      <td>ur3314616</td>\n",
              "      <td>8.0</td>\n",
              "      <td>2005-10-12</td>\n",
              "      <td>1</td>\n",
              "      <td>I have watched this movie several times and re...</td>\n",
              "      <td>tt0118564</td>\n",
              "      <td>m10</td>\n",
              "      <td>2005</td>\n",
              "    </tr>\n",
              "    <tr>\n",
              "      <th>2</th>\n",
              "      <td>Affliction Clearly Schrader's Best Film To Date</td>\n",
              "      <td>ur2567338</td>\n",
              "      <td>9.0</td>\n",
              "      <td>2009-11-25</td>\n",
              "      <td>1</td>\n",
              "      <td>Roger Ebert described it well. The effects of ...</td>\n",
              "      <td>tt0118564</td>\n",
              "      <td>m10</td>\n",
              "      <td>2009</td>\n",
              "    </tr>\n",
              "    <tr>\n",
              "      <th>3</th>\n",
              "      <td>a masterpiece, true art</td>\n",
              "      <td>ur0007627</td>\n",
              "      <td>9.0</td>\n",
              "      <td>1999-02-06</td>\n",
              "      <td>0</td>\n",
              "      <td>This is a movie which rewards at many levels. ...</td>\n",
              "      <td>tt0118564</td>\n",
              "      <td>m10</td>\n",
              "      <td>1999</td>\n",
              "    </tr>\n",
              "    <tr>\n",
              "      <th>4</th>\n",
              "      <td>Deep, complex, depressing</td>\n",
              "      <td>ur1903880</td>\n",
              "      <td>NaN</td>\n",
              "      <td>2004-04-17</td>\n",
              "      <td>0</td>\n",
              "      <td>\"Affliction\" doesn't have an immediate plot.  ...</td>\n",
              "      <td>tt0118564</td>\n",
              "      <td>m10</td>\n",
              "      <td>2004</td>\n",
              "    </tr>\n",
              "  </tbody>\n",
              "</table>\n",
              "</div>\n",
              "      <button class=\"colab-df-convert\" onclick=\"convertToInteractive('df-cc98b1c0-1ad1-468a-a1f5-e42548458c26')\"\n",
              "              title=\"Convert this dataframe to an interactive table.\"\n",
              "              style=\"display:none;\">\n",
              "        \n",
              "  <svg xmlns=\"http://www.w3.org/2000/svg\" height=\"24px\"viewBox=\"0 0 24 24\"\n",
              "       width=\"24px\">\n",
              "    <path d=\"M0 0h24v24H0V0z\" fill=\"none\"/>\n",
              "    <path d=\"M18.56 5.44l.94 2.06.94-2.06 2.06-.94-2.06-.94-.94-2.06-.94 2.06-2.06.94zm-11 1L8.5 8.5l.94-2.06 2.06-.94-2.06-.94L8.5 2.5l-.94 2.06-2.06.94zm10 10l.94 2.06.94-2.06 2.06-.94-2.06-.94-.94-2.06-.94 2.06-2.06.94z\"/><path d=\"M17.41 7.96l-1.37-1.37c-.4-.4-.92-.59-1.43-.59-.52 0-1.04.2-1.43.59L10.3 9.45l-7.72 7.72c-.78.78-.78 2.05 0 2.83L4 21.41c.39.39.9.59 1.41.59.51 0 1.02-.2 1.41-.59l7.78-7.78 2.81-2.81c.8-.78.8-2.07 0-2.86zM5.41 20L4 18.59l7.72-7.72 1.47 1.35L5.41 20z\"/>\n",
              "  </svg>\n",
              "      </button>\n",
              "      \n",
              "  <style>\n",
              "    .colab-df-container {\n",
              "      display:flex;\n",
              "      flex-wrap:wrap;\n",
              "      gap: 12px;\n",
              "    }\n",
              "\n",
              "    .colab-df-convert {\n",
              "      background-color: #E8F0FE;\n",
              "      border: none;\n",
              "      border-radius: 50%;\n",
              "      cursor: pointer;\n",
              "      display: none;\n",
              "      fill: #1967D2;\n",
              "      height: 32px;\n",
              "      padding: 0 0 0 0;\n",
              "      width: 32px;\n",
              "    }\n",
              "\n",
              "    .colab-df-convert:hover {\n",
              "      background-color: #E2EBFA;\n",
              "      box-shadow: 0px 1px 2px rgba(60, 64, 67, 0.3), 0px 1px 3px 1px rgba(60, 64, 67, 0.15);\n",
              "      fill: #174EA6;\n",
              "    }\n",
              "\n",
              "    [theme=dark] .colab-df-convert {\n",
              "      background-color: #3B4455;\n",
              "      fill: #D2E3FC;\n",
              "    }\n",
              "\n",
              "    [theme=dark] .colab-df-convert:hover {\n",
              "      background-color: #434B5C;\n",
              "      box-shadow: 0px 1px 3px 1px rgba(0, 0, 0, 0.15);\n",
              "      filter: drop-shadow(0px 1px 2px rgba(0, 0, 0, 0.3));\n",
              "      fill: #FFFFFF;\n",
              "    }\n",
              "  </style>\n",
              "\n",
              "      <script>\n",
              "        const buttonEl =\n",
              "          document.querySelector('#df-cc98b1c0-1ad1-468a-a1f5-e42548458c26 button.colab-df-convert');\n",
              "        buttonEl.style.display =\n",
              "          google.colab.kernel.accessAllowed ? 'block' : 'none';\n",
              "\n",
              "        async function convertToInteractive(key) {\n",
              "          const element = document.querySelector('#df-cc98b1c0-1ad1-468a-a1f5-e42548458c26');\n",
              "          const dataTable =\n",
              "            await google.colab.kernel.invokeFunction('convertToInteractive',\n",
              "                                                     [key], {});\n",
              "          if (!dataTable) return;\n",
              "\n",
              "          const docLinkHtml = 'Like what you see? Visit the ' +\n",
              "            '<a target=\"_blank\" href=https://colab.research.google.com/notebooks/data_table.ipynb>data table notebook</a>'\n",
              "            + ' to learn more about interactive tables.';\n",
              "          element.innerHTML = '';\n",
              "          dataTable['output_type'] = 'display_data';\n",
              "          await google.colab.output.renderOutput(dataTable, element);\n",
              "          const docLink = document.createElement('div');\n",
              "          docLink.innerHTML = docLinkHtml;\n",
              "          element.appendChild(docLink);\n",
              "        }\n",
              "      </script>\n",
              "    </div>\n",
              "  </div>\n",
              "  "
            ]
          },
          "metadata": {},
          "execution_count": 30
        }
      ]
    },
    {
      "cell_type": "code",
      "source": [
        "import matplotlib.pyplot as plt"
      ],
      "metadata": {
        "id": "NEzIarr3zm2l"
      },
      "execution_count": null,
      "outputs": []
    },
    {
      "cell_type": "code",
      "source": [
        "plt.plot(sorted(dict(data.review_year.value_counts())), [data.review_year.value_counts()[year] for year in sorted(dict(data.review_year.value_counts()))])\n",
        "plt.xticks(rotation=90)"
      ],
      "metadata": {
        "colab": {
          "base_uri": "https://localhost:8080/",
          "height": 745
        },
        "id": "__m6BfmPzbkC",
        "outputId": "4d3203ba-c546-43f3-ed2d-c52c68470cbf"
      },
      "execution_count": null,
      "outputs": [
        {
          "output_type": "execute_result",
          "data": {
            "text/plain": [
              "([0,\n",
              "  1,\n",
              "  2,\n",
              "  3,\n",
              "  4,\n",
              "  5,\n",
              "  6,\n",
              "  7,\n",
              "  8,\n",
              "  9,\n",
              "  10,\n",
              "  11,\n",
              "  12,\n",
              "  13,\n",
              "  14,\n",
              "  15,\n",
              "  16,\n",
              "  17,\n",
              "  18,\n",
              "  19,\n",
              "  20,\n",
              "  21,\n",
              "  22,\n",
              "  23,\n",
              "  24],\n",
              " <a list of 25 Text major ticklabel objects>)"
            ]
          },
          "metadata": {},
          "execution_count": 32
        },
        {
          "output_type": "display_data",
          "data": {
            "text/plain": [
              "<Figure size 432x288 with 1 Axes>"
            ],
            "image/png": "[encoded data removed]"
          },
          "metadata": {
            "needs_background": "light"
          }
        }
      ]
    },
    {
      "cell_type": "code",
      "source": [
        "data.review_year.unique()[1:]"
      ],
      "metadata": {
        "colab": {
          "base_uri": "https://localhost:8080/"
        },
        "id": "9hwplRVM8axK",
        "outputId": "8fd8bb0f-84b3-4a30-b143-8b0ae489b773"
      },
      "execution_count": 39,
      "outputs": [
        {
          "output_type": "execute_result",
          "data": {
            "text/plain": [
              "array(['2005', '2009', '1999', '2004', '2007', '2002', '2008', '2015',\n",
              "       '2003', '2012', '2021', '2010', '2019', '2001', '2006', '2017',\n",
              "       '2013', '2022', '2016', '2018', '2020', '1998', '2014', '2011'],\n",
              "      dtype=object)"
            ]
          },
          "metadata": {},
          "execution_count": 39
        }
      ]
    },
    {
      "cell_type": "code",
      "source": [
        "for year in data.review_year.unique()[1:]:\n",
        "  results_dict = {}\n",
        "  tmp_data = data[data['review_year']==year]\n",
        "  for movie in tmp_data.imdb_id.unique():\n",
        "    try:\n",
        "      results_dict[movie] = {}\n",
        "      reviews = tmp_data[tmp_data['imdb_id'] == movie]\n",
        "      reviews = get_character_part(reviews.review, tmp_data[tmp_data['imdb_id'] == movie].cnvk_id.values[0])\n",
        "      male_part, female_part = separate_gender(reviews)\n",
        "      # male_polarity_blob, male_subjectivity_blob, male_self_sentiment = get_sentence_level_sentiments(male_part, pred)\n",
        "      # female_polarity_blob, female_subjectivity_blob, female_self_sentiment = get_sentence_level_sentiments(female_part, pred)\n",
        "      # results_dict[movie]['male_sent_blob'] = male_polarity_blob\n",
        "      # results_dict[movie]['male_sent_subj'] = male_subjectivity_blob\n",
        "      # results_dict[movie]['male_sent_self'] = male_self_sentiment\n",
        "      # results_dict[movie]['female_sent_blob'] = female_polarity_blob\n",
        "      # results_dict[movie]['female_sent_subj'] = female_subjectivity_blob\n",
        "      # results_dict[movie]['female_sent_self'] = female_self_sentiment\n",
        "      male_polarity_blob, male_subjectivity_blob, male_self_sentiment = get_review_level_sentiments(male_part, pred)\n",
        "      female_polarity_blob, female_subjectivity_blob, female_self_sentiment = get_review_level_sentiments(female_part, pred)\n",
        "      results_dict[movie]['male_revw_blob'] = male_polarity_blob\n",
        "      results_dict[movie]['male_revw_subj'] = male_subjectivity_blob\n",
        "      results_dict[movie]['male_revw_self'] = male_self_sentiment\n",
        "      results_dict[movie]['female_revw_blob'] = female_polarity_blob\n",
        "      results_dict[movie]['female_revw_subj'] = female_subjectivity_blob\n",
        "      results_dict[movie]['female_revw_self'] = female_self_sentiment\n",
        "    except:\n",
        "      print(year, movie)\n",
        "  with open(f'/content/drive/MyDrive/IMDB/sentiment_year/{year}.json', 'w') as f:\n",
        "        json.dump(results_dict, f)\n",
        "  print(year, end=' ')"
      ],
      "metadata": {
        "id": "iQW1nLYiz7d8",
        "colab": {
          "base_uri": "https://localhost:8080/"
        },
        "outputId": "3e977898-c898-4a51-bc09-600bb4947f94"
      },
      "execution_count": 40,
      "outputs": [
        {
          "output_type": "stream",
          "name": "stdout",
          "text": [
            "2005 2009 1999 2004 2007 2002 2008 2015 2003 2012 2021 2010 2019 2001 2006 2017 2013 2022 2016 2018 2020 1998 2014 2011 "
          ]
        }
      ]
    },
    {
      "cell_type": "code",
      "source": [
        ""
      ],
      "metadata": {
        "id": "_KU4rbkIst28"
      },
      "execution_count": null,
      "outputs": []
    }
  ]
}